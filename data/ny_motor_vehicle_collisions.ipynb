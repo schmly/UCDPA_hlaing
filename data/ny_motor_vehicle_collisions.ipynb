{
 "cells": [
  {
   "attachments": {},
   "cell_type": "markdown",
   "metadata": {},
   "source": [
    "# New York Motor Vehicle collisions"
   ]
  },
  {
   "cell_type": "raw",
   "metadata": {},
   "source": [
    "Source ............. https://data.cityofnewyork.us/Public-Safety/Motor-Vehicle-Collisions-Crashes/h9gi-nx95\n",
    "Usage tips ......... https://dev.socrata.com/foundry/data.cityofnewyork.us/h9gi-nx95\n",
    "More tips .......... https://dev.socrata.com/docs/queries/\n",
    "geospatial.......... https://scitools.org.uk/cartopy/docs/latest/getting_started/index.html\n",
    "ny geomap .......... https://geopandas.org/en/stable/gallery/plotting_basemap_background.html"
   ]
  },
  {
   "attachments": {},
   "cell_type": "markdown",
   "metadata": {},
   "source": [
    "## Setup"
   ]
  },
  {
   "cell_type": "code",
   "execution_count": 1,
   "metadata": {},
   "outputs": [],
   "source": [
    "import requests\n",
    "import pandas as pd\n",
    "import numpy as np\n",
    "import re"
   ]
  },
  {
   "attachments": {},
   "cell_type": "markdown",
   "metadata": {},
   "source": [
    "## Data acquision"
   ]
  },
  {
   "attachments": {},
   "cell_type": "markdown",
   "metadata": {},
   "source": [
    "### define functions to read data"
   ]
  },
  {
   "cell_type": "code",
   "execution_count": 2,
   "metadata": {},
   "outputs": [],
   "source": [
    "# def read_api_chunk(api, limit=1000, offset=0):\n",
    "#     source = f\"{api}?${limit=}&${offset=}\"\n",
    "#     r = requests.get(source)\n",
    "#     data = pd.DataFrame.from_dict(r.json()) # read directly from json instead? faster?\n",
    "#     return data\n",
    "\n",
    "# use https://docs.python.org/3/reference/expressions.html#yield-expressions\n",
    "\n",
    "def read_api_chunk(api, limit=1000, offset=0):\n",
    "    \"\"\" read a single chunk from the api\n",
    "    \"\"\"\n",
    "    return pd.read_json(f\"{api}?${limit=}&${offset=}\")\n",
    "\n",
    "def read_api(api, size=1000, chunk_size=1000):\n",
    "    \"\"\" read given number of lines from api, applying the chunk_size along the way\n",
    "    \"\"\"\n",
    "    chunk_generator = ( \n",
    "        # define chunks; the last chunk might be smaller than chunk_size\n",
    "        read_api_chunk(api, limit=min(chunk_size, size - x), offset=x) \n",
    "        for x in range(0, size, chunk_size)\n",
    "        )\n",
    "        # in the generator expressions, the chunks are not yet read and stored in memory\n",
    "        # the outer paranthesis are synctactilly required for generator expressions; they \n",
    "        # are not included simply in order to permit the multiline definition\n",
    "    \n",
    "    # pd.concat can handle generator expressions. According to the api reference, the objs argument\n",
    "    # accepts a sequence of DataFrame objects. This indicates that any iterable that yields DataFrame\n",
    "    # objects will be accepted, which is what chunk_generator provides. \n",
    "    return pd.concat(chunk_generator) \n",
    "\n",
    "\n"
   ]
  },
  {
   "attachments": {},
   "cell_type": "markdown",
   "metadata": {},
   "source": [
    "### inputs"
   ]
  },
  {
   "cell_type": "code",
   "execution_count": 10,
   "metadata": {},
   "outputs": [],
   "source": [
    "api = \"https://data.cityofnewyork.us/resource/h9gi-nx95.json\"\n",
    "size = 12000\n",
    "limit = 1000\n",
    "# data = read_api(api, size=12500)\n",
    "data = read_api_chunk(api, limit=15000)"
   ]
  },
  {
   "attachments": {},
   "cell_type": "markdown",
   "metadata": {},
   "source": [
    "## EDA"
   ]
  },
  {
   "attachments": {},
   "cell_type": "markdown",
   "metadata": {},
   "source": [
    "### Cleaning"
   ]
  },
  {
   "cell_type": "code",
   "execution_count": 11,
   "metadata": {},
   "outputs": [
    {
     "data": {
      "text/plain": [
       "crash_date                               object\n",
       "crash_time                       datetime64[ns]\n",
       "on_street_name                           object\n",
       "off_street_name                          object\n",
       "number_of_persons_injured                 int64\n",
       "number_of_persons_killed                  int64\n",
       "number_of_pedestrians_injured             int64\n",
       "number_of_pedestrians_killed              int64\n",
       "number_of_cyclist_injured                 int64\n",
       "number_of_cyclist_killed                  int64\n",
       "number_of_motorist_injured                int64\n",
       "number_of_motorist_killed                 int64\n",
       "contributing_factor_vehicle_1            object\n",
       "contributing_factor_vehicle_2            object\n",
       "collision_id                              int64\n",
       "vehicle_type_code1                       object\n",
       "vehicle_type_code2                       object\n",
       "borough                                  object\n",
       "zip_code                                float64\n",
       "latitude                                float64\n",
       "longitude                               float64\n",
       "location                                 object\n",
       "cross_street_name                        object\n",
       "contributing_factor_vehicle_3            object\n",
       "vehicle_type_code_3                      object\n",
       "contributing_factor_vehicle_4            object\n",
       "vehicle_type_code_4                      object\n",
       "contributing_factor_vehicle_5            object\n",
       "vehicle_type_code_5                      object\n",
       "dtype: object"
      ]
     },
     "execution_count": 11,
     "metadata": {},
     "output_type": "execute_result"
    }
   ],
   "source": [
    "data.dtypes"
   ]
  },
  {
   "cell_type": "code",
   "execution_count": 12,
   "metadata": {},
   "outputs": [],
   "source": [
    "text_cols = [col for col in data if re.search(\"(street|contributing_factor)\", col)]\n",
    "data[text_cols] = data[text_cols].astype(\"string\")\n",
    "cols_contributing_factor = [col for col in data if re.match(r\"^contributing_factor\", col)]\n",
    "# pd.Series(data.columns).astype(\"string\").str.startswith(\"contributing\")\n",
    "# print(cols_contributing_factor)\n",
    "# data.filter(regex=r\"^vehicle\", axis=1).isnull().sum(axis=1)\n",
    "vehicle_type_cols = data.columns.to_series().filter(regex=r\"^vehicle\").to_list()\n",
    "data[\"number_of_vehicles\"] = len(vehicle_type_cols) - data[vehicle_type_cols].isnull().sum(axis=1)\n",
    "contributing_factor_cols = data.columns.to_series().filter(regex=r\"^contributing_factor\").to_list()\n",
    "data[\"number_of_contributing_factors\"] = len(contributing_factor_cols) - data[contributing_factor_cols].isnull().sum(axis=1)\n"
   ]
  },
  {
   "attachments": {},
   "cell_type": "markdown",
   "metadata": {},
   "source": [
    "## Roads"
   ]
  },
  {
   "cell_type": "raw",
   "metadata": {},
   "source": [
    "on how to map categories, see here: https://stackoverflow.com/questions/62963350/how-to-categorize-a-column-with-regex-patterns\n",
    "see also here: https://pandas.pydata.org/pandas-docs/stable/user_guide/text.html"
   ]
  },
  {
   "cell_type": "code",
   "execution_count": 13,
   "metadata": {},
   "outputs": [
    {
     "data": {
      "text/plain": [
       "0           [WHITESTONE, EXPRESSWAY]\n",
       "1        [QUEENSBORO, BRIDGE, UPPER]\n",
       "2             [THROGS, NECK, BRIDGE]\n",
       "3                               <NA>\n",
       "4                 [SARATOGA, AVENUE]\n",
       "                    ...             \n",
       "14995               [FULTON, STREET]\n",
       "14996               [JEROME, AVENUE]\n",
       "14997       [NORTH, CONDUIT, AVENUE]\n",
       "14998                           <NA>\n",
       "14999                    [4, AVENUE]\n",
       "Name: on_street_name, Length: 15000, dtype: object"
      ]
     },
     "execution_count": 13,
     "metadata": {},
     "output_type": "execute_result"
    }
   ],
   "source": [
    "data[\"on_street_name\"].str.split(\" \")"
   ]
  },
  {
   "attachments": {},
   "cell_type": "markdown",
   "metadata": {},
   "source": [
    "## Cyclists"
   ]
  },
  {
   "attachments": {},
   "cell_type": "markdown",
   "metadata": {},
   "source": [
    "### Injured Cyclists"
   ]
  },
  {
   "cell_type": "code",
   "execution_count": 14,
   "metadata": {},
   "outputs": [
    {
     "data": {
      "text/plain": [
       "number_of_cyclist_injured\n",
       "0    14331\n",
       "1      660\n",
       "2        9\n",
       "Name: count, dtype: int64"
      ]
     },
     "execution_count": 14,
     "metadata": {},
     "output_type": "execute_result"
    }
   ],
   "source": [
    "data[\"number_of_cyclist_injured\"].value_counts(dropna=True)\n",
    "# data.head(10)"
   ]
  },
  {
   "attachments": {},
   "cell_type": "markdown",
   "metadata": {},
   "source": [
    "### Contributing factors"
   ]
  },
  {
   "cell_type": "code",
   "execution_count": 20,
   "metadata": {},
   "outputs": [
    {
     "data": {
      "text/plain": [
       "contributing_factor_vehicle_1\n",
       "Unspecified                                          3693\n",
       "Driver Inattention/Distraction                       3639\n",
       "Following Too Closely                                1016\n",
       "Failure to Yield Right-of-Way                        1004\n",
       "Passing or Lane Usage Improper                        695\n",
       "Passing Too Closely                                   581\n",
       "Unsafe Speed                                          558\n",
       "Traffic Control Disregarded                           463\n",
       "Other Vehicular                                       454\n",
       "Backing Unsafely                                      452\n",
       "Turning Improperly                                    357\n",
       "Driver Inexperience                                   301\n",
       "Unsafe Lane Changing                                  286\n",
       "Alcohol Involvement                                   235\n",
       "Reaction to Uninvolved Vehicle                        202\n",
       "Pedestrian/Bicyclist/Other Pedestrian Error/Co...     135\n",
       "View Obstructed/Limited                               127\n",
       "Aggressive Driving/Road Rage                          102\n",
       "Oversized Vehicle                                      72\n",
       "Fell Asleep                                            70\n",
       "Pavement Slippery                                      66\n",
       "Brakes Defective                                       56\n",
       "Passenger Distraction                                  41\n",
       "Steering Failure                                       39\n",
       "Outside Car Distraction                                32\n",
       "Tire Failure/Inadequate                                28\n",
       "Obstruction/Debris                                     27\n",
       "Lost Consciousness                                     26\n",
       "Fatigued/Drowsy                                        22\n",
       "Pavement Defective                                     20\n",
       "Illnes                                                 20\n",
       "Failure to Keep Right                                  20\n",
       "Glare                                                  18\n",
       "Drugs (illegal)                                        15\n",
       "Animals Action                                         10\n",
       "Accelerator Defective                                   9\n",
       "Driverless/Runaway Vehicle                              8\n",
       "Cell Phone (hand-Held)                                  6\n",
       "Headlights Defective                                    3\n",
       "Tinted Windows                                          3\n",
       "Physical Disability                                     3\n",
       "Using On Board Navigation Device                        3\n",
       "Cell Phone (hands-free)                                 2\n",
       "Lane Marking Improper/Inadequate                        2\n",
       "Other Lighting Defects                                  2\n",
       "Vehicle Vandalism                                       2\n",
       "Eating or Drinking                                      1\n",
       "Other Electronic Device                                 1\n",
       "Traffic Control Device Improper/Non-Working             1\n",
       "Tow Hitch Defective                                     1\n",
       "Windshield Inadequate                                   1\n",
       "Name: count, dtype: Int64"
      ]
     },
     "execution_count": 20,
     "metadata": {},
     "output_type": "execute_result"
    }
   ],
   "source": [
    "data[\"contributing_factor_vehicle_1\"].value_counts()\n",
    "# get dummies\n",
    "# filter by number of involved vehicles"
   ]
  }
 ],
 "metadata": {
  "kernelspec": {
   "display_name": "Python 3",
   "language": "python",
   "name": "python3"
  },
  "language_info": {
   "codemirror_mode": {
    "name": "ipython",
    "version": 3
   },
   "file_extension": ".py",
   "mimetype": "text/x-python",
   "name": "python",
   "nbconvert_exporter": "python",
   "pygments_lexer": "ipython3",
   "version": "3.11.3"
  },
  "orig_nbformat": 4
 },
 "nbformat": 4,
 "nbformat_minor": 2
}
