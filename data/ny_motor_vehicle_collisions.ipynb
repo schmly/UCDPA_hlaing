{
 "cells": [
  {
   "attachments": {},
   "cell_type": "markdown",
   "metadata": {},
   "source": [
    "# New York Motor Vehicle collisions"
   ]
  },
  {
   "cell_type": "raw",
   "metadata": {},
   "source": [
    "Source ............. https://data.cityofnewyork.us/Public-Safety/Motor-Vehicle-Collisions-Crashes/h9gi-nx95\n",
    "Usage tips ......... https://dev.socrata.com/foundry/data.cityofnewyork.us/h9gi-nx95\n",
    "More tips .......... https://dev.socrata.com/docs/queries/\n",
    "geospatial.......... https://scitools.org.uk/cartopy/docs/latest/getting_started/index.html\n",
    "ny geomap .......... https://geopandas.org/en/stable/gallery/plotting_basemap_background.html"
   ]
  },
  {
   "attachments": {},
   "cell_type": "markdown",
   "metadata": {},
   "source": [
    "## Setup"
   ]
  },
  {
   "cell_type": "code",
   "execution_count": 1,
   "metadata": {},
   "outputs": [],
   "source": [
    "import requests\n",
    "import pandas as pd\n",
    "import numpy as np\n",
    "import re"
   ]
  },
  {
   "attachments": {},
   "cell_type": "markdown",
   "metadata": {},
   "source": [
    "## Data acquision"
   ]
  },
  {
   "attachments": {},
   "cell_type": "markdown",
   "metadata": {},
   "source": [
    "### define functions to read data"
   ]
  },
  {
   "cell_type": "code",
   "execution_count": 2,
   "metadata": {},
   "outputs": [],
   "source": [
    "# def read_api_chunk(api, limit=1000, offset=0):\n",
    "#     source = f\"{api}?${limit=}&${offset=}\"\n",
    "#     r = requests.get(source)\n",
    "#     data = pd.DataFrame.from_dict(r.json()) # read directly from json instead? faster?\n",
    "#     return data\n",
    "\n",
    "# use https://docs.python.org/3/reference/expressions.html#yield-expressions\n",
    "\n",
    "def read_api_chunk(api, limit=1000, offset=0):\n",
    "    \"\"\" read a single chunk from the api\n",
    "    \"\"\"\n",
    "    return pd.read_json(f\"{api}?${limit=}&${offset=}\")\n",
    "\n",
    "def read_api(api, size=1000, chunk_size=1000):\n",
    "    \"\"\" read given number of lines from api, applying the chunk_size along the way\n",
    "    \"\"\"\n",
    "    chunk_generator = ( \n",
    "        # define chunks; the last chunk might be smaller than chunk_size\n",
    "        read_api_chunk(api, limit=min(chunk_size, size - x), offset=x) \n",
    "        for x in range(0, size, chunk_size)\n",
    "        )\n",
    "        # in the generator expressions, the chunks are not yet read and stored in memory\n",
    "        # the outer paranthesis are synctactilly required for generator expressions; they \n",
    "        # are not included simply in order to permit the multiline definition\n",
    "    \n",
    "    # pd.concat can handle generator expressions. According to the api reference, the objs argument\n",
    "    # accepts a sequence of DataFrame objects. This indicates that any iterable that yields DataFrame\n",
    "    # objects will be accepted, which is what chunk_generator provides. \n",
    "    return pd.concat(chunk_generator) \n",
    "\n",
    "\n"
   ]
  },
  {
   "attachments": {},
   "cell_type": "markdown",
   "metadata": {},
   "source": [
    "### inputs"
   ]
  },
  {
   "cell_type": "code",
   "execution_count": 3,
   "metadata": {},
   "outputs": [],
   "source": [
    "api = \"https://data.cityofnewyork.us/resource/h9gi-nx95.json\"\n",
    "size = 12000\n",
    "limit = 1000\n",
    "# data = read_api(api, size=12500)\n",
    "data = read_api_chunk(api, limit=15000)"
   ]
  },
  {
   "attachments": {},
   "cell_type": "markdown",
   "metadata": {},
   "source": [
    "## EDA"
   ]
  },
  {
   "attachments": {},
   "cell_type": "markdown",
   "metadata": {},
   "source": [
    "### Cleaning"
   ]
  },
  {
   "cell_type": "code",
   "execution_count": 4,
   "metadata": {},
   "outputs": [
    {
     "data": {
      "text/plain": [
       "crash_date                               object\n",
       "crash_time                       datetime64[ns]\n",
       "on_street_name                           object\n",
       "off_street_name                          object\n",
       "number_of_persons_injured                 int64\n",
       "number_of_persons_killed                  int64\n",
       "number_of_pedestrians_injured             int64\n",
       "number_of_pedestrians_killed              int64\n",
       "number_of_cyclist_injured                 int64\n",
       "number_of_cyclist_killed                  int64\n",
       "number_of_motorist_injured                int64\n",
       "number_of_motorist_killed                 int64\n",
       "contributing_factor_vehicle_1            object\n",
       "contributing_factor_vehicle_2            object\n",
       "collision_id                              int64\n",
       "vehicle_type_code1                       object\n",
       "vehicle_type_code2                       object\n",
       "borough                                  object\n",
       "zip_code                                float64\n",
       "latitude                                float64\n",
       "longitude                               float64\n",
       "location                                 object\n",
       "cross_street_name                        object\n",
       "contributing_factor_vehicle_3            object\n",
       "vehicle_type_code_3                      object\n",
       "contributing_factor_vehicle_4            object\n",
       "vehicle_type_code_4                      object\n",
       "contributing_factor_vehicle_5            object\n",
       "vehicle_type_code_5                      object\n",
       "dtype: object"
      ]
     },
     "execution_count": 4,
     "metadata": {},
     "output_type": "execute_result"
    }
   ],
   "source": [
    "data.dtypes"
   ]
  },
  {
   "cell_type": "code",
   "execution_count": 5,
   "metadata": {},
   "outputs": [],
   "source": [
    "text_cols = [col for col in data if re.search(\"(street|contributing_factor)\", col)]\n",
    "data[text_cols] = data[text_cols].astype(\"string\")\n",
    "cols_contributing_factor = [col for col in data if re.match(r\"^contributing_factor\", col)]\n",
    "# pd.Series(data.columns).astype(\"string\").str.startswith(\"contributing\")\n",
    "# print(cols_contributing_factor)\n",
    "# data.filter(regex=r\"^vehicle\", axis=1).isnull().sum(axis=1)\n",
    "vehicle_type_cols = data.columns.to_series().filter(regex=r\"^vehicle\").to_list()\n",
    "data[\"number_of_vehicles\"] = len(vehicle_type_cols) - data[vehicle_type_cols].isnull().sum(axis=1)\n",
    "contributing_factor_cols = data.columns.to_series().filter(regex=r\"^contributing_factor\").to_list()\n",
    "data[\"number_of_contributing_factors\"] = len(contributing_factor_cols) - data[contributing_factor_cols].isnull().sum(axis=1)\n"
   ]
  },
  {
   "attachments": {},
   "cell_type": "markdown",
   "metadata": {},
   "source": [
    "## Roads"
   ]
  },
  {
   "cell_type": "raw",
   "metadata": {},
   "source": [
    "on how to map categories, see here: https://stackoverflow.com/questions/62963350/how-to-categorize-a-column-with-regex-patterns\n",
    "see also here: https://pandas.pydata.org/pandas-docs/stable/user_guide/text.html"
   ]
  },
  {
   "cell_type": "code",
   "execution_count": 6,
   "metadata": {},
   "outputs": [
    {
     "data": {
      "text/plain": [
       "0           [WHITESTONE, EXPRESSWAY]\n",
       "1        [QUEENSBORO, BRIDGE, UPPER]\n",
       "2             [THROGS, NECK, BRIDGE]\n",
       "3                               <NA>\n",
       "4                 [SARATOGA, AVENUE]\n",
       "                    ...             \n",
       "14995               [FULTON, STREET]\n",
       "14996               [JEROME, AVENUE]\n",
       "14997       [NORTH, CONDUIT, AVENUE]\n",
       "14998                           <NA>\n",
       "14999                    [4, AVENUE]\n",
       "Name: on_street_name, Length: 15000, dtype: object"
      ]
     },
     "execution_count": 6,
     "metadata": {},
     "output_type": "execute_result"
    }
   ],
   "source": [
    "data[\"on_street_name\"].str.split(\" \")"
   ]
  },
  {
   "attachments": {},
   "cell_type": "markdown",
   "metadata": {},
   "source": [
    "## Cyclists"
   ]
  },
  {
   "attachments": {},
   "cell_type": "markdown",
   "metadata": {},
   "source": [
    "### Injured Cyclists"
   ]
  },
  {
   "cell_type": "code",
   "execution_count": 7,
   "metadata": {},
   "outputs": [
    {
     "data": {
      "text/plain": [
       "number_of_cyclist_injured\n",
       "0    14331\n",
       "1      660\n",
       "2        9\n",
       "Name: count, dtype: int64"
      ]
     },
     "execution_count": 7,
     "metadata": {},
     "output_type": "execute_result"
    }
   ],
   "source": [
    "data[\"number_of_cyclist_injured\"].value_counts(dropna=True)\n",
    "# data.head(10)"
   ]
  },
  {
   "attachments": {},
   "cell_type": "markdown",
   "metadata": {},
   "source": [
    "### Contributing factors"
   ]
  },
  {
   "cell_type": "code",
   "execution_count": 29,
   "metadata": {},
   "outputs": [
    {
     "name": "stdout",
     "output_type": "stream",
     "text": [
      "<class 'pandas.core.series.Series'>\n"
     ]
    },
    {
     "data": {
      "text/plain": [
       "0                          Aggressive Driving/Road Rage\n",
       "1                                     Pavement Slippery\n",
       "2                                 Following Too Closely\n",
       "3                                           Unspecified\n",
       "4                                   Passing Too Closely\n",
       "5                                   Driver Inexperience\n",
       "6                        Passing or Lane Usage Improper\n",
       "7                                    Turning Improperly\n",
       "8                                  Unsafe Lane Changing\n",
       "9                                          Unsafe Speed\n",
       "10                       Reaction to Uninvolved Vehicle\n",
       "11                                     Steering Failure\n",
       "12                          Traffic Control Disregarded\n",
       "13                                      Other Vehicular\n",
       "14                       Driver Inattention/Distraction\n",
       "15                                    Oversized Vehicle\n",
       "16    Pedestrian/Bicyclist/Other Pedestrian Error/Co...\n",
       "17                                  Alcohol Involvement\n",
       "18                              View Obstructed/Limited\n",
       "19                        Failure to Yield Right-of-Way\n",
       "20                                               Illnes\n",
       "21                                   Lost Consciousness\n",
       "22                                     Brakes Defective\n",
       "23                                     Backing Unsafely\n",
       "24                                                Glare\n",
       "25                                Passenger Distraction\n",
       "26                                          Fell Asleep\n",
       "27                                   Obstruction/Debris\n",
       "28                                       Tinted Windows\n",
       "29                                       Animals Action\n",
       "30                                      Drugs (illegal)\n",
       "31                                   Pavement Defective\n",
       "32                               Other Lighting Defects\n",
       "33                              Outside Car Distraction\n",
       "34                           Driverless/Runaway Vehicle\n",
       "35                              Tire Failure/Inadequate\n",
       "36                                      Fatigued/Drowsy\n",
       "37                                 Headlights Defective\n",
       "38                                Accelerator Defective\n",
       "39                                Failure to Keep Right\n",
       "40                                  Physical Disability\n",
       "41                                   Eating or Drinking\n",
       "42                              Cell Phone (hands-free)\n",
       "43                     Lane Marking Improper/Inadequate\n",
       "44                               Cell Phone (hand-Held)\n",
       "45                     Using On Board Navigation Device\n",
       "46                              Other Electronic Device\n",
       "47          Traffic Control Device Improper/Non-Working\n",
       "48                                  Tow Hitch Defective\n",
       "49                                Windshield Inadequate\n",
       "50                                    Vehicle Vandalism\n",
       "dtype: string"
      ]
     },
     "execution_count": 29,
     "metadata": {},
     "output_type": "execute_result"
    }
   ],
   "source": [
    "# determine contributing factors\n",
    "confac0 = pd.concat((data[col] for col in data if re.match(\"contributing_factor_vehicle\", col)))\n",
    "confac = pd.Series(confac0.unique().dropna())\n",
    "print(type(confac))\n",
    "confac\n",
    "# data[\"contributing_factor_vehicle_1\"].value_counts()\n",
    "# get dummies\n",
    "# filter by number of involved vehicles\n",
    "# add rolling count"
   ]
  },
  {
   "cell_type": "code",
   "execution_count": 25,
   "metadata": {},
   "outputs": [
    {
     "data": {
      "text/plain": [
       "0       ADRR\n",
       "1         PS\n",
       "2        FTC\n",
       "3          U\n",
       "4        PTC\n",
       "5         DI\n",
       "6      POLUI\n",
       "7         TI\n",
       "8        ULC\n",
       "9         US\n",
       "10      RTUV\n",
       "11        SF\n",
       "12       TCD\n",
       "13        OV\n",
       "14       DID\n",
       "15        OV\n",
       "16    PBOPEC\n",
       "17        AI\n",
       "18       VOL\n",
       "19    FTYROW\n",
       "20         I\n",
       "21        LC\n",
       "22        BD\n",
       "23        BU\n",
       "24         G\n",
       "25        PD\n",
       "26        FA\n",
       "27        OD\n",
       "28        TW\n",
       "29        AA\n",
       "30        DI\n",
       "31        PD\n",
       "32       OLD\n",
       "33       OCD\n",
       "34       DRV\n",
       "35       TFI\n",
       "36        FD\n",
       "37        HD\n",
       "38        AD\n",
       "39      FTKR\n",
       "40        PD\n",
       "41       EOD\n",
       "42      CPHF\n",
       "43      LMII\n",
       "44      CPHH\n",
       "45     UOBND\n",
       "46       OED\n",
       "47    TCDINW\n",
       "48       THD\n",
       "49        WI\n",
       "50        VV\n",
       "dtype: object"
      ]
     },
     "execution_count": 25,
     "metadata": {},
     "output_type": "execute_result"
    }
   ],
   "source": [
    "# extract leading characters\n",
    "def get_first_chars(input):\n",
    "    return \"\".join(item[0].upper() for item in re.findall(\"\\w+\", input))\n",
    "\n",
    "pd.Series(confac).apply(get_first_chars)\n"
   ]
  }
 ],
 "metadata": {
  "kernelspec": {
   "display_name": "Python 3",
   "language": "python",
   "name": "python3"
  },
  "language_info": {
   "codemirror_mode": {
    "name": "ipython",
    "version": 3
   },
   "file_extension": ".py",
   "mimetype": "text/x-python",
   "name": "python",
   "nbconvert_exporter": "python",
   "pygments_lexer": "ipython3",
   "version": "3.11.3"
  },
  "orig_nbformat": 4
 },
 "nbformat": 4,
 "nbformat_minor": 2
}
