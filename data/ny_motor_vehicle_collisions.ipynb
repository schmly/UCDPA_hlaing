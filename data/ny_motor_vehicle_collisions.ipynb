{
 "cells": [
  {
   "attachments": {},
   "cell_type": "markdown",
   "metadata": {},
   "source": [
    "# UCDPA Data Analytics Essentials Project\n",
    "\n",
    "Analysis of Dataset 'Motor Vehicle Collisions - Crashes' from the City of New York\n",
    "\n",
    "Author: Hauke Laing\n",
    "\n",
    "Dataset Source: https://data.cityofnewyork.us/Public-Safety/Motor-Vehicle-Collisions-Crashes/h9gi-nx95\n",
    "\n",
    "API Reference: https://dev.socrata.com/foundry/data.cityofnewyork.us/h9gi-nx95"
   ]
  },
  {
   "cell_type": "code",
   "execution_count": 1,
   "metadata": {},
   "outputs": [],
   "source": [
    "# import required libraries\n",
    "import requests\n",
    "import pandas as pd\n",
    "import numpy as np\n",
    "import re\n",
    "import seaborn as sns\n",
    "import matplotlib.pyplot as plt"
   ]
  },
  {
   "attachments": {},
   "cell_type": "markdown",
   "metadata": {},
   "source": [
    "## Data Collection"
   ]
  },
  {
   "cell_type": "markdown",
   "metadata": {},
   "source": [
    "We first define some helper functions for reading the data from the API"
   ]
  },
  {
   "cell_type": "code",
   "execution_count": 2,
   "metadata": {},
   "outputs": [],
   "source": [
    "def read_api_chunk(api, limit=1000, offset=0):\n",
    "    \"\"\"read a single chunk from the api\"\"\"\n",
    "    return pd.read_json(f\"{api}?${limit=}&${offset=}\")\n",
    "\n",
    "\n",
    "def read_api(api, total_size, chunk_size=1000):\n",
    "    \"\"\"read given number of lines from api, applying the chunk_size along the way\"\"\"\n",
    "    # use https://docs.python.org/3/reference/expressions.html#yield-expressions\n",
    "    chunk_generator = (\n",
    "        # define chunks; the last chunk might be smaller than chunk_size\n",
    "        read_api_chunk(api, limit=min(chunk_size, total_size - x), offset=x)\n",
    "        for x in range(0, total_size, chunk_size)\n",
    "    )\n",
    "    # in the generator expressions, the chunks are not yet read and stored in memory\n",
    "    # the outer paranthesis are synctactilly required for generator expressions; they\n",
    "    # are not included simply in order to permit the multiline definition\n",
    "\n",
    "    # pd.concat can handle generator expressions. According to the api reference, the objs argument\n",
    "    # accepts a sequence of DataFrame objects. This indicates that any iterable that yields DataFrame\n",
    "    # objects will be accepted, which is what chunk_generator provides.\n",
    "    return pd.concat(chunk_generator)\n",
    "\n",
    "def read_api_2(api, size, n_chunks):\n",
    "    \"\"\"read given number of lines from api by splitting the request into n_chunks chunks\"\"\"\n",
    "    grid = np.unique(np.linspace(0, size, num=n_chunks).astype('int'))\n",
    "    steps = np.diff(grid)\n",
    "    chunk_generator = (\n",
    "        read_api_chunk(api, limit=steps[i], offset=grid[i])\n",
    "        for i in range(len(steps))\n",
    "    )\n",
    "    return pd.concat(chunk_generator)"
   ]
  },
  {
   "attachments": {},
   "cell_type": "markdown",
   "metadata": {},
   "source": [
    "Set the input parameters"
   ]
  },
  {
   "cell_type": "code",
   "execution_count": 3,
   "metadata": {},
   "outputs": [],
   "source": [
    "api = \"https://data.cityofnewyork.us/resource/h9gi-nx95.json\"\n",
    "n = 600e3\n",
    "n_chunks = 6\n",
    "seed = 8"
   ]
  },
  {
   "cell_type": "markdown",
   "metadata": {},
   "source": [
    "Read the data"
   ]
  },
  {
   "cell_type": "code",
   "execution_count": 14,
   "metadata": {},
   "outputs": [],
   "source": [
    "# read data\n",
    "data_raw = read_api_2(api, size=n, n_chunks=n_chunks)"
   ]
  },
  {
   "cell_type": "markdown",
   "metadata": {},
   "source": [
    "Check the size of the data to confirm that the expected number of lines has been downloaded"
   ]
  },
  {
   "cell_type": "code",
   "execution_count": 15,
   "metadata": {},
   "outputs": [
    {
     "data": {
      "text/plain": [
       "(600000, 29)"
      ]
     },
     "execution_count": 15,
     "metadata": {},
     "output_type": "execute_result"
    }
   ],
   "source": [
    "data_raw.shape"
   ]
  },
  {
   "cell_type": "markdown",
   "metadata": {},
   "source": [
    "## Data Preparation "
   ]
  },
  {
   "cell_type": "markdown",
   "metadata": {},
   "source": [
    "First we clean the data and carry out some plausibility checks"
   ]
  },
  {
   "cell_type": "code",
   "execution_count": 17,
   "metadata": {},
   "outputs": [
    {
     "data": {
      "text/plain": [
       "crash_date                               object\n",
       "crash_time                       datetime64[ns]\n",
       "on_street_name                           object\n",
       "off_street_name                          object\n",
       "number_of_persons_injured               float64\n",
       "number_of_persons_killed                float64\n",
       "number_of_pedestrians_injured             int64\n",
       "number_of_pedestrians_killed              int64\n",
       "number_of_cyclist_injured                 int64\n",
       "number_of_cyclist_killed                  int64\n",
       "number_of_motorist_injured                int64\n",
       "number_of_motorist_killed                 int64\n",
       "contributing_factor_vehicle_1            object\n",
       "contributing_factor_vehicle_2            object\n",
       "collision_id                              int64\n",
       "vehicle_type_code1                       object\n",
       "vehicle_type_code2                       object\n",
       "borough                                  object\n",
       "zip_code                                float64\n",
       "latitude                                float64\n",
       "longitude                               float64\n",
       "location                                 object\n",
       "cross_street_name                        object\n",
       "contributing_factor_vehicle_3            object\n",
       "vehicle_type_code_3                      object\n",
       "contributing_factor_vehicle_4            object\n",
       "vehicle_type_code_4                      object\n",
       "contributing_factor_vehicle_5            object\n",
       "vehicle_type_code_5                      object\n",
       "dtype: object"
      ]
     },
     "execution_count": 17,
     "metadata": {},
     "output_type": "execute_result"
    }
   ],
   "source": [
    "# return dtypes to check data structure\n",
    "data_raw.dtypes"
   ]
  },
  {
   "cell_type": "code",
   "execution_count": 26,
   "metadata": {},
   "outputs": [
    {
     "data": {
      "text/plain": [
       "borough                                  object\n",
       "collision_id                              int64\n",
       "contributing_factor_vehicle_1    string[python]\n",
       "contributing_factor_vehicle_2    string[python]\n",
       "contributing_factor_vehicle_3    string[python]\n",
       "contributing_factor_vehicle_4    string[python]\n",
       "contributing_factor_vehicle_5    string[python]\n",
       "crash_date                               object\n",
       "crash_time                       datetime64[ns]\n",
       "cross_street_name                string[python]\n",
       "latitude                                float64\n",
       "location                                 object\n",
       "longitude                               float64\n",
       "number_of_cyclist_injured                 int64\n",
       "number_of_cyclist_killed                  int64\n",
       "number_of_motorist_injured                int64\n",
       "number_of_motorist_killed                 int64\n",
       "number_of_pedestrians_injured             int64\n",
       "number_of_pedestrians_killed              int64\n",
       "number_of_persons_injured               float64\n",
       "number_of_persons_killed                float64\n",
       "off_street_name                  string[python]\n",
       "on_street_name                   string[python]\n",
       "vehicle_type_code_1                      object\n",
       "vehicle_type_code_2                      object\n",
       "vehicle_type_code_3                      object\n",
       "vehicle_type_code_4                      object\n",
       "vehicle_type_code_5                      object\n",
       "zip_code                                float64\n",
       "dtype: object"
      ]
     },
     "execution_count": 26,
     "metadata": {},
     "output_type": "execute_result"
    }
   ],
   "source": [
    "# initial cleaning of data\n",
    "# we make a copy of the raw data first to ensure the original state remains available\n",
    "data_clean = data_raw\n",
    "\n",
    "# fix inconsistent column names\n",
    "data_clean.rename(\n",
    "    columns={\n",
    "        \"vehicle_type_code1\": \"vehicle_type_code_1\",\n",
    "        \"vehicle_type_code2\": \"vehicle_type_code_2\",\n",
    "    },\n",
    "    inplace=True,\n",
    ")\n",
    "\n",
    "# order column names\n",
    "data_clean = data_clean.reindex(sorted(data_raw_2.columns), axis=1)\n",
    "\n",
    "# store text columns as string\n",
    "text_cols = [col for col in data_clean if re.search(\"(street|contributing_factor)\", col)]\n",
    "data_clean[text_cols] = data_clean[text_cols].astype(\"string\")\n",
    "\n",
    "# return dtypes to confirm new type\n",
    "data_clean.dtypes"
   ]
  },
  {
   "cell_type": "code",
   "execution_count": 27,
   "metadata": {},
   "outputs": [
    {
     "name": "stdout",
     "output_type": "stream",
     "text": [
      "22 duplicate collision ids have been removed.\n"
     ]
    }
   ],
   "source": [
    "# set index\n",
    "data_clean.set_index(keys=\"collision_id\", drop=False, inplace=True)\n",
    "\n",
    "# remove duplicate collision ids and ensure the first one is being kept\n",
    "duplicate_collision_ids = data_clean.index.duplicated(keep='first')\n",
    "data_clean = data_clean[~duplicate_collision_ids]\n",
    "print(f\"{sum(duplicate_collision_ids)} duplicate collision ids have been removed.\")"
   ]
  },
  {
   "cell_type": "code",
   "execution_count": 28,
   "metadata": {},
   "outputs": [
    {
     "name": "stdout",
     "output_type": "stream",
     "text": [
      "8 collisions with invalid number of injured persons removed.\n"
     ]
    }
   ],
   "source": [
    "# plausibility check on number of injured persons\n",
    "invalid_number_of_persons_injured = (\n",
    "    data_clean[\n",
    "        [\n",
    "            \"number_of_pedestrians_injured\",\n",
    "            \"number_of_cyclist_injured\",\n",
    "            \"number_of_motorist_injured\",\n",
    "        ]\n",
    "    ].sum(axis=1)\n",
    "    > data_clean[\"number_of_persons_injured\"]\n",
    ")\n",
    "data_clean = data_clean[~invalid_number_of_persons_injured]\n",
    "print(f\"{sum(invalid_number_of_persons_injured)} collisions with invalid number of injured persons removed.\")"
   ]
  },
  {
   "cell_type": "code",
   "execution_count": 29,
   "metadata": {},
   "outputs": [],
   "source": [
    "# remove nas from the number of persons injured\n",
    "data_clean = data_clean[~data_clean[\"number_of_persons_injured\"].isna()]"
   ]
  },
  {
   "cell_type": "markdown",
   "metadata": {},
   "source": [
    "### Explore"
   ]
  },
  {
   "cell_type": "code",
   "execution_count": 33,
   "metadata": {},
   "outputs": [
    {
     "name": "stdout",
     "output_type": "stream",
     "text": [
      "number_of_persons_injured\n",
      "0.0     437837\n",
      "1.0     125868\n",
      "2.0      24051\n",
      "3.0       7675\n",
      "4.0       2795\n",
      "5.0       1012\n",
      "6.0        388\n",
      "7.0        178\n",
      "8.0         72\n",
      "9.0         32\n",
      "10.0        22\n",
      "11.0         9\n",
      "12.0         8\n",
      "15.0         5\n",
      "13.0         4\n",
      "17.0         3\n",
      "14.0         3\n",
      "18.0         2\n",
      "20.0         2\n",
      "40.0         1\n",
      "16.0         1\n",
      "Name: count, dtype: int64\n"
     ]
    }
   ],
   "source": [
    "# explore number of injured persons\n",
    "occ = data_clean[\"number_of_persons_injured\"].value_counts()\n",
    "print(occ)"
   ]
  },
  {
   "cell_type": "code",
   "execution_count": 32,
   "metadata": {},
   "outputs": [
    {
     "name": "stdout",
     "output_type": "stream",
     "text": [
      "number_of_persons_injured\n",
      "0.0     0.729767\n",
      "1.0     0.209791\n",
      "2.0     0.040087\n",
      "3.0     0.012792\n",
      "4.0     0.004659\n",
      "5.0     0.001687\n",
      "6.0     0.000647\n",
      "7.0     0.000297\n",
      "8.0     0.000120\n",
      "9.0     0.000053\n",
      "10.0    0.000037\n",
      "11.0    0.000015\n",
      "12.0    0.000013\n",
      "15.0    0.000008\n",
      "13.0    0.000007\n",
      "17.0    0.000005\n",
      "14.0    0.000005\n",
      "18.0    0.000003\n",
      "20.0    0.000003\n",
      "40.0    0.000002\n",
      "16.0    0.000002\n",
      "Name: count, dtype: float64\n"
     ]
    }
   ],
   "source": [
    "print(occ / sum(occ))"
   ]
  },
  {
   "cell_type": "code",
   "execution_count": 31,
   "metadata": {},
   "outputs": [
    {
     "name": "stdout",
     "output_type": "stream",
     "text": [
      "In about 27.0 out of 100 collisions at least one person is injured.\n"
     ]
    }
   ],
   "source": [
    "print(f\"In about {(100 * (1 - occ/sum(occ)))[0]:.1f} out of 100 collisions at least one person is injured.\")"
   ]
  },
  {
   "cell_type": "markdown",
   "metadata": {},
   "source": [
    "The ration of collisions where no cyclist was injured is very high. This ratio can also be seen as the accuracy of an algorithm that predicts that no cyclist ever gets injured in a collision. This will be an important benchmark for machine learning algorithms - they should certainly be better than that if they are of any use. "
   ]
  },
  {
   "cell_type": "markdown",
   "metadata": {},
   "source": [
    "### Feature Engineering"
   ]
  },
  {
   "cell_type": "code",
   "execution_count": 35,
   "metadata": {},
   "outputs": [
    {
     "data": {
      "text/plain": [
       "contributing_factor_vehicle\n",
       "Unspecified                                          612520\n",
       "Driver Inattention/Distraction                       183563\n",
       "Following Too Closely                                 56597\n",
       "Failure to Yield Right-of-Way                         45709\n",
       "Passing or Lane Usage Improper                        31202\n",
       "Passing Too Closely                                   27172\n",
       "Other Vehicular                                       25647\n",
       "Backing Unsafely                                      25454\n",
       "Unsafe Lane Changing                                  18867\n",
       "Unsafe Speed                                          16167\n",
       "Traffic Control Disregarded                           14736\n",
       "Turning Improperly                                    14427\n",
       "Driver Inexperience                                   11615\n",
       "Reaction to Uninvolved Vehicle                        10669\n",
       "Alcohol Involvement                                    7951\n",
       "View Obstructed/Limited                                6250\n",
       "Pavement Slippery                                      6216\n",
       "Pedestrian/Bicyclist/Other Pedestrian Error/Co...      5371\n",
       "Aggressive Driving/Road Rage                           4029\n",
       "Oversized Vehicle                                      3834\n",
       "Brakes Defective                                       2411\n",
       "Fell Asleep                                            2124\n",
       "Passenger Distraction                                  1941\n",
       "Obstruction/Debris                                     1461\n",
       "Outside Car Distraction                                1456\n",
       "Steering Failure                                       1138\n",
       "Glare                                                  1116\n",
       "Tire Failure/Inadequate                                 922\n",
       "Failure to Keep Right                                   864\n",
       "Lost Consciousness                                      842\n",
       "Illnes                                                  835\n",
       "Pavement Defective                                      761\n",
       "Fatigued/Drowsy                                         683\n",
       "Animals Action                                          593\n",
       "Driverless/Runaway Vehicle                              578\n",
       "Drugs (illegal)                                         461\n",
       "Lane Marking Improper/Inadequate                        407\n",
       "Traffic Control Device Improper/Non-Working             372\n",
       "Accelerator Defective                                   371\n",
       "Cell Phone (hand-Held)                                  264\n",
       "Physical Disability                                     218\n",
       "Tinted Windows                                          108\n",
       "Other Lighting Defects                                   88\n",
       "Tow Hitch Defective                                      84\n",
       "Other Electronic Device                                  77\n",
       "Headlights Defective                                     70\n",
       "Vehicle Vandalism                                        69\n",
       "Using On Board Navigation Device                         69\n",
       "Prescription Medication                                  66\n",
       "Eating or Drinking                                       64\n",
       "Cell Phone (hands-free)                                  33\n",
       "Shoulders Defective/Improper                             29\n",
       "Texting                                                  22\n",
       "Listening/Using Headphones                               19\n",
       "Windshield Inadequate                                    12\n",
       "Name: count, dtype: Int64"
      ]
     },
     "execution_count": 35,
     "metadata": {},
     "output_type": "execute_result"
    }
   ],
   "source": [
    "# the dataset has 5 columns to cover up to 5 vehicles involved in a collision\n",
    "# format data to cover 5 vehicles in one column\n",
    "data_long = pd.wide_to_long(\n",
    "    data_clean,\n",
    "    stubnames=[\"vehicle_type_code_\", \"contributing_factor_vehicle_\"],\n",
    "    i=\"collision_id\",\n",
    "    j=\"vehicle_no\",\n",
    ")\n",
    "data_long.rename(\n",
    "    columns={\n",
    "        \"vehicle_type_code_\": \"vehicle_type_code\",\n",
    "        \"contributing_factor_vehicle_\": \"contributing_factor_vehicle\",\n",
    "    },\n",
    "    inplace=True,\n",
    ")\n",
    "data_long = data_long.reindex(sorted(data_long.columns), axis=1)\n",
    "\n",
    "\n",
    "# keep rows for vehicle no. > 1 only if relevant information pertaining to the vehicle is present; the row is redundant otherwise\n",
    "_cnd1 = (\n",
    "    data_long[[\"vehicle_type_code\", \"contributing_factor_vehicle\"]]\n",
    "    .notnull()\n",
    "    .any(axis=1)\n",
    ")\n",
    "_cnd2 = data_long.index.get_level_values(level=1) == 1\n",
    "_cnd = _cnd1 | _cnd2\n",
    "data_long = data_long.loc[_cnd, :]\n",
    "\n",
    "# export long data\n",
    "# data_long.to_csv(\"data_long.csv\")\n",
    "\n",
    "# explore the column 'contributing_factor_vehicle'\n",
    "data_long[\"contributing_factor_vehicle\"].value_counts()"
   ]
  },
  {
   "cell_type": "code",
   "execution_count": 39,
   "metadata": {},
   "outputs": [
    {
     "data": {
      "text/plain": [
       "cf\n",
       "U         612520\n",
       "DID       183563\n",
       "FTC        56597\n",
       "FTYROW     45709\n",
       "POLUI      31202\n",
       "PTC        27172\n",
       "OV         25647\n",
       "BU         25454\n",
       "ULC        18867\n",
       "US         16167\n",
       "TCD        14736\n",
       "TI         14427\n",
       "DI         11615\n",
       "RTUV       10669\n",
       "AI          7951\n",
       "VOL         6250\n",
       "PS          6216\n",
       "PBOPEC      5371\n",
       "ADRR        4029\n",
       "OV1         3834\n",
       "BD          2411\n",
       "FA          2124\n",
       "PD          1941\n",
       "OD          1461\n",
       "OCD         1456\n",
       "SF          1138\n",
       "G           1116\n",
       "TFI          922\n",
       "FTKR         864\n",
       "LC           842\n",
       "I            835\n",
       "PD1          761\n",
       "FD           683\n",
       "AA           593\n",
       "DRV          578\n",
       "DI1          461\n",
       "LMII         407\n",
       "TCDINW       372\n",
       "AD           371\n",
       "CPHH         264\n",
       "PD2          218\n",
       "TW           108\n",
       "OLD           88\n",
       "THD           84\n",
       "OED           77\n",
       "HD            70\n",
       "VV            69\n",
       "UOBND         69\n",
       "PM            66\n",
       "EOD           64\n",
       "CPHF          33\n",
       "SDI           29\n",
       "T             22\n",
       "LUH           19\n",
       "WI            12\n",
       "Name: count, dtype: Int64"
      ]
     },
     "execution_count": 39,
     "metadata": {},
     "output_type": "execute_result"
    }
   ],
   "source": [
    "# The column 'contributing_factor_vehicle' contains a text comment. To prepare the column for machine learning algorithms, we want to categorize it and later create dummies\n",
    "# First, establish a code representing a contributing factor and a corresponding mapping\n",
    "contributing_factor = (\n",
    "    data_long[\"contributing_factor_vehicle\"]\n",
    "    .drop_duplicates()\n",
    "    .dropna()\n",
    "    .reset_index(drop=True)\n",
    "    .to_frame(name=\"contributing_factor\")\n",
    ")\n",
    "\n",
    "# define a function to be applied to a pd series further on\n",
    "def get_first_chars(input):\n",
    "    \"\"\"retrieve first character of each word in a string of words\"\"\"\n",
    "    return \"\".join(item[0].upper() for item in re.findall(\"\\w+\", input))\n",
    "\n",
    "# create initial code\n",
    "contributing_factor[\"cf\"] = contributing_factor[\"contributing_factor\"].apply(\n",
    "    get_first_chars\n",
    ")\n",
    "\n",
    "# if code is not unique, add counting index\n",
    "contributing_factor[\"n\"] = contributing_factor.groupby([\"cf\"]).cumcount()\n",
    "_k = contributing_factor[\"n\"] > 0\n",
    "contributing_factor.loc[_k, \"cf\"] = (\n",
    "    contributing_factor.loc[_k, \"cf\"] + \n",
    "    contributing_factor.loc[_k, \"n\"].astype(\"string\")\n",
    "    )\n",
    "contributing_factor.set_index(\"contributing_factor\", inplace=True)\n",
    "\n",
    "# create mapping to convert contributing factor\n",
    "# also export the mapping for reference\n",
    "contributing_factor.to_csv(\"output/contributing_factor.csv\")\n",
    "contributing_factor_cols = \"cf.\" + contributing_factor[\"cf\"]\n",
    "contributing_factor_mapping = pd.Series(contributing_factor[\"cf\"]).to_dict()\n",
    "\n",
    "# apply mapping\n",
    "data_long[\"cf\"] = data_long[\"contributing_factor_vehicle\"].replace(contributing_factor_mapping)\n",
    "data_long[\"cf\"].value_counts()"
   ]
  },
  {
   "cell_type": "markdown",
   "metadata": {},
   "source": [
    "Similar to the column 'contributing factor' is the column 'vehicle type'. We want to prepare it as categorical data."
   ]
  },
  {
   "cell_type": "code",
   "execution_count": 40,
   "metadata": {},
   "outputs": [
    {
     "data": {
      "text/plain": [
       "vehicle_type\n",
       "sedan                                  495740\n",
       "station_wagon_sport_utility_vehicle    394528\n",
       "taxi                                    39137\n",
       "pick_up_truck                           30931\n",
       "box_truck                               25246\n",
       "                                        ...  \n",
       "dumpt                                       1\n",
       "light                                       1\n",
       "army                                        1\n",
       "fdny_lader                                  1\n",
       "van_ford                                    1\n",
       "Name: count, Length: 1126, dtype: int64"
      ]
     },
     "execution_count": 40,
     "metadata": {},
     "output_type": "execute_result"
    }
   ],
   "source": [
    "# align formatting of text\n",
    "data_long[\"vehicle_type\"] = (\n",
    "    data_long[\"vehicle_type_code\"]\n",
    "    .str.replace(pat=r\"\\W+\", repl=\"_\", regex=True)\n",
    "    .str.lower()\n",
    ")\n",
    "\n",
    "# explore column values\n",
    "data_long[\"vehicle_type\"].value_counts()"
   ]
  },
  {
   "cell_type": "code",
   "execution_count": 41,
   "metadata": {},
   "outputs": [
    {
     "data": {
      "text/plain": [
       "vt\n",
       "sedan                                  495740\n",
       "station_wagon_sport_utility_vehicle    394528\n",
       "taxi                                    39137\n",
       "pick_up_truck                           30931\n",
       "box_truck                               25246\n",
       "bike                                    22882\n",
       "bus                                     18049\n",
       "tractor_truck_diesel                     9479\n",
       "van                                      7450\n",
       "motorcycle                               7345\n",
       "e_bike                                   5418\n",
       "other                                    5175\n",
       "ambulance                                4145\n",
       "dump                                     3727\n",
       "e_scooter                                3565\n",
       "convertible                              2837\n",
       "flat_bed                                 2455\n",
       "garbage_or_refuse                        2131\n",
       "pk                                       2033\n",
       "moped                                    1960\n",
       "carry_all                                1585\n",
       "tractor_truck_gasoline                   1323\n",
       "tow_truck_wrecker                        1209\n",
       "chassis_cab                               818\n",
       "motorscooter                              790\n",
       "tanker                                    767\n",
       "4_dr_sedan                                733\n",
       "motorbike                                 697\n",
       "concrete_mixer                            463\n",
       "refrigerated_van                          355\n",
       "limo                                      334\n",
       "flat_rack                                 300\n",
       "armored_truck                             300\n",
       "e_sco                                     297\n",
       "e_bik                                     280\n",
       "3_door                                    274\n",
       "fire_truck                                264\n",
       "ambul                                     264\n",
       "beverage_truck                            262\n",
       "truck                                     259\n",
       "lift_boom                                 214\n",
       "school_bus                                208\n",
       "trailer                                   191\n",
       "trail                                     185\n",
       "stake_or_rack                             166\n",
       "fire                                      159\n",
       "unknown                                   155\n",
       "multi_wheeled_vehicle                     146\n",
       "unk                                       142\n",
       "fdny                                      127\n",
       "Name: count, dtype: int64"
      ]
     },
     "execution_count": 41,
     "metadata": {},
     "output_type": "execute_result"
    }
   ],
   "source": [
    "# reduce to top 50 most frequent types of cars. \n",
    "top = 50\n",
    "vehicle_top_cats = data_long[\"vehicle_type\"].value_counts().head(top - 1).index\n",
    "data_long[\"vt\"] = data_long[\"vehicle_type\"]\n",
    "\n",
    "# rename other values to type 'other'\n",
    "data_long.loc[\n",
    "    ~data_long[\"vehicle_type\"].isin(vehicle_top_cats)\n",
    "    & ~data_long[\"vehicle_type\"].isna(),\n",
    "    [\"vt\"],\n",
    "] = \"other\"\n",
    "\n",
    "# store as category\n",
    "data_long[\"vt\"] = data_long[\"vt\"].astype(\"category\")\n",
    "\n",
    "# explore new values\n",
    "data_long[\"vt\"].value_counts()"
   ]
  },
  {
   "cell_type": "markdown",
   "metadata": {},
   "source": [
    "Now we are ready to create dummies from the 'contributing factor' and 'vehicle type' columns. The processed versions of these columns have been stored as 'cf' and 'vt'"
   ]
  },
  {
   "cell_type": "code",
   "execution_count": 43,
   "metadata": {},
   "outputs": [
    {
     "data": {
      "text/html": [
       "<div>\n",
       "<style scoped>\n",
       "    .dataframe tbody tr th:only-of-type {\n",
       "        vertical-align: middle;\n",
       "    }\n",
       "\n",
       "    .dataframe tbody tr th {\n",
       "        vertical-align: top;\n",
       "    }\n",
       "\n",
       "    .dataframe thead th {\n",
       "        text-align: right;\n",
       "    }\n",
       "</style>\n",
       "<table border=\"1\" class=\"dataframe\">\n",
       "  <thead>\n",
       "    <tr style=\"text-align: right;\">\n",
       "      <th></th>\n",
       "      <th>vt.3_door</th>\n",
       "      <th>vt.4_dr_sedan</th>\n",
       "      <th>vt.ambul</th>\n",
       "      <th>vt.ambulance</th>\n",
       "      <th>vt.armored_truck</th>\n",
       "      <th>vt.beverage_truck</th>\n",
       "      <th>vt.bike</th>\n",
       "      <th>vt.box_truck</th>\n",
       "      <th>vt.bus</th>\n",
       "      <th>vt.carry_all</th>\n",
       "      <th>...</th>\n",
       "      <th>cf.THD</th>\n",
       "      <th>cf.TI</th>\n",
       "      <th>cf.TW</th>\n",
       "      <th>cf.ULC</th>\n",
       "      <th>cf.UOBND</th>\n",
       "      <th>cf.US</th>\n",
       "      <th>cf.VOL</th>\n",
       "      <th>cf.VV</th>\n",
       "      <th>cf.WI</th>\n",
       "      <th>n_vehicles</th>\n",
       "    </tr>\n",
       "    <tr>\n",
       "      <th>collision_id</th>\n",
       "      <th></th>\n",
       "      <th></th>\n",
       "      <th></th>\n",
       "      <th></th>\n",
       "      <th></th>\n",
       "      <th></th>\n",
       "      <th></th>\n",
       "      <th></th>\n",
       "      <th></th>\n",
       "      <th></th>\n",
       "      <th></th>\n",
       "      <th></th>\n",
       "      <th></th>\n",
       "      <th></th>\n",
       "      <th></th>\n",
       "      <th></th>\n",
       "      <th></th>\n",
       "      <th></th>\n",
       "      <th></th>\n",
       "      <th></th>\n",
       "      <th></th>\n",
       "    </tr>\n",
       "  </thead>\n",
       "  <tbody>\n",
       "    <tr>\n",
       "      <th>3456194</th>\n",
       "      <td>False</td>\n",
       "      <td>True</td>\n",
       "      <td>False</td>\n",
       "      <td>False</td>\n",
       "      <td>False</td>\n",
       "      <td>False</td>\n",
       "      <td>False</td>\n",
       "      <td>False</td>\n",
       "      <td>False</td>\n",
       "      <td>False</td>\n",
       "      <td>...</td>\n",
       "      <td>False</td>\n",
       "      <td>False</td>\n",
       "      <td>False</td>\n",
       "      <td>False</td>\n",
       "      <td>False</td>\n",
       "      <td>False</td>\n",
       "      <td>False</td>\n",
       "      <td>False</td>\n",
       "      <td>False</td>\n",
       "      <td>1</td>\n",
       "    </tr>\n",
       "    <tr>\n",
       "      <th>3460534</th>\n",
       "      <td>False</td>\n",
       "      <td>True</td>\n",
       "      <td>False</td>\n",
       "      <td>False</td>\n",
       "      <td>False</td>\n",
       "      <td>False</td>\n",
       "      <td>False</td>\n",
       "      <td>False</td>\n",
       "      <td>False</td>\n",
       "      <td>False</td>\n",
       "      <td>...</td>\n",
       "      <td>False</td>\n",
       "      <td>False</td>\n",
       "      <td>False</td>\n",
       "      <td>False</td>\n",
       "      <td>False</td>\n",
       "      <td>False</td>\n",
       "      <td>False</td>\n",
       "      <td>False</td>\n",
       "      <td>False</td>\n",
       "      <td>1</td>\n",
       "    </tr>\n",
       "    <tr>\n",
       "      <th>3511951</th>\n",
       "      <td>False</td>\n",
       "      <td>False</td>\n",
       "      <td>False</td>\n",
       "      <td>False</td>\n",
       "      <td>False</td>\n",
       "      <td>False</td>\n",
       "      <td>False</td>\n",
       "      <td>False</td>\n",
       "      <td>False</td>\n",
       "      <td>False</td>\n",
       "      <td>...</td>\n",
       "      <td>False</td>\n",
       "      <td>False</td>\n",
       "      <td>False</td>\n",
       "      <td>False</td>\n",
       "      <td>False</td>\n",
       "      <td>True</td>\n",
       "      <td>False</td>\n",
       "      <td>False</td>\n",
       "      <td>False</td>\n",
       "      <td>2</td>\n",
       "    </tr>\n",
       "    <tr>\n",
       "      <th>3528065</th>\n",
       "      <td>False</td>\n",
       "      <td>False</td>\n",
       "      <td>False</td>\n",
       "      <td>False</td>\n",
       "      <td>False</td>\n",
       "      <td>False</td>\n",
       "      <td>False</td>\n",
       "      <td>False</td>\n",
       "      <td>False</td>\n",
       "      <td>False</td>\n",
       "      <td>...</td>\n",
       "      <td>False</td>\n",
       "      <td>False</td>\n",
       "      <td>False</td>\n",
       "      <td>False</td>\n",
       "      <td>False</td>\n",
       "      <td>False</td>\n",
       "      <td>False</td>\n",
       "      <td>False</td>\n",
       "      <td>False</td>\n",
       "      <td>2</td>\n",
       "    </tr>\n",
       "    <tr>\n",
       "      <th>3618395</th>\n",
       "      <td>False</td>\n",
       "      <td>False</td>\n",
       "      <td>False</td>\n",
       "      <td>False</td>\n",
       "      <td>False</td>\n",
       "      <td>False</td>\n",
       "      <td>False</td>\n",
       "      <td>False</td>\n",
       "      <td>False</td>\n",
       "      <td>False</td>\n",
       "      <td>...</td>\n",
       "      <td>False</td>\n",
       "      <td>False</td>\n",
       "      <td>False</td>\n",
       "      <td>False</td>\n",
       "      <td>False</td>\n",
       "      <td>False</td>\n",
       "      <td>False</td>\n",
       "      <td>False</td>\n",
       "      <td>False</td>\n",
       "      <td>1</td>\n",
       "    </tr>\n",
       "  </tbody>\n",
       "</table>\n",
       "<p>5 rows × 105 columns</p>\n",
       "</div>"
      ],
      "text/plain": [
       "              vt.3_door  vt.4_dr_sedan  vt.ambul  vt.ambulance  \\\n",
       "collision_id                                                     \n",
       "3456194           False           True     False         False   \n",
       "3460534           False           True     False         False   \n",
       "3511951           False          False     False         False   \n",
       "3528065           False          False     False         False   \n",
       "3618395           False          False     False         False   \n",
       "\n",
       "              vt.armored_truck  vt.beverage_truck  vt.bike  vt.box_truck  \\\n",
       "collision_id                                                               \n",
       "3456194                  False              False    False         False   \n",
       "3460534                  False              False    False         False   \n",
       "3511951                  False              False    False         False   \n",
       "3528065                  False              False    False         False   \n",
       "3618395                  False              False    False         False   \n",
       "\n",
       "              vt.bus  vt.carry_all  ...  cf.THD  cf.TI  cf.TW  cf.ULC  \\\n",
       "collision_id                        ...                                 \n",
       "3456194        False         False  ...   False  False  False   False   \n",
       "3460534        False         False  ...   False  False  False   False   \n",
       "3511951        False         False  ...   False  False  False   False   \n",
       "3528065        False         False  ...   False  False  False   False   \n",
       "3618395        False         False  ...   False  False  False   False   \n",
       "\n",
       "              cf.UOBND  cf.US  cf.VOL  cf.VV  cf.WI  n_vehicles  \n",
       "collision_id                                                     \n",
       "3456194          False  False   False  False  False           1  \n",
       "3460534          False  False   False  False  False           1  \n",
       "3511951          False   True   False  False  False           2  \n",
       "3528065          False  False   False  False  False           2  \n",
       "3618395          False  False   False  False  False           1  \n",
       "\n",
       "[5 rows x 105 columns]"
      ]
     },
     "execution_count": 43,
     "metadata": {},
     "output_type": "execute_result"
    }
   ],
   "source": [
    "# get dummies\n",
    "dummies_long = pd.get_dummies(\n",
    "    data_long, prefix=[\"vt\", \"cf\"], columns=[\"vt\", \"cf\"], prefix_sep=\".\"\n",
    ")\n",
    "\n",
    "# select dummy columns\n",
    "dummies = dummies_long.filter(regex=r\"^(vt|cf)\\.\").groupby(level=0).max()\n",
    "\n",
    "# deduce and store number of vehicles involved\n",
    "dummies[\"n_vehicles\"] = dummies.filter(regex=r\"^cf\\.\").sum(axis=1) \n",
    "\n",
    "# after using contributing factor to deduce the number of involved vehicles we drop the dummie for the value 'Unspecified', as it can now be regarded as NaN\n",
    "dummies = dummies.drop(columns=[\"cf.\" + contributing_factor_mapping[\"Unspecified\"]])\n",
    "\n",
    "# explore dataframe with dummies\n",
    "dummies.head()"
   ]
  },
  {
   "cell_type": "markdown",
   "metadata": {},
   "source": [
    "After creating dummies, it is useful to create a copy of the data with the source columns for the dummies removed."
   ]
  },
  {
   "cell_type": "code",
   "execution_count": 45,
   "metadata": {},
   "outputs": [
    {
     "ename": "KeyError",
     "evalue": "\"['vehicle_type_code_1', 'vehicle_type_code_2', 'vehicle_type_code_3', 'vehicle_type_code_4', 'vehicle_type_code_5', 'contributing_factor_vehicle_1', 'contributing_factor_vehicle_2', 'contributing_factor_vehicle_3', 'contributing_factor_vehicle_4', 'contributing_factor_vehicle_5'] not found in axis\"",
     "output_type": "error",
     "traceback": [
      "\u001b[1;31m---------------------------------------------------------------------------\u001b[0m",
      "\u001b[1;31mKeyError\u001b[0m                                  Traceback (most recent call last)",
      "Cell \u001b[1;32mIn[45], line 2\u001b[0m\n\u001b[0;32m      1\u001b[0m \u001b[39m# drop obsolete columns\u001b[39;00m\n\u001b[1;32m----> 2\u001b[0m data_clean\u001b[39m.\u001b[39;49mdrop(\n\u001b[0;32m      3\u001b[0m     columns\u001b[39m=\u001b[39;49m[\n\u001b[0;32m      4\u001b[0m         \u001b[39m\"\u001b[39;49m\u001b[39mvehicle_type_code_1\u001b[39;49m\u001b[39m\"\u001b[39;49m,\n\u001b[0;32m      5\u001b[0m         \u001b[39m\"\u001b[39;49m\u001b[39mvehicle_type_code_2\u001b[39;49m\u001b[39m\"\u001b[39;49m,\n\u001b[0;32m      6\u001b[0m         \u001b[39m\"\u001b[39;49m\u001b[39mvehicle_type_code_3\u001b[39;49m\u001b[39m\"\u001b[39;49m,\n\u001b[0;32m      7\u001b[0m         \u001b[39m\"\u001b[39;49m\u001b[39mvehicle_type_code_4\u001b[39;49m\u001b[39m\"\u001b[39;49m,\n\u001b[0;32m      8\u001b[0m         \u001b[39m\"\u001b[39;49m\u001b[39mvehicle_type_code_5\u001b[39;49m\u001b[39m\"\u001b[39;49m,\n\u001b[0;32m      9\u001b[0m         \u001b[39m\"\u001b[39;49m\u001b[39mcontributing_factor_vehicle_1\u001b[39;49m\u001b[39m\"\u001b[39;49m,\n\u001b[0;32m     10\u001b[0m         \u001b[39m\"\u001b[39;49m\u001b[39mcontributing_factor_vehicle_2\u001b[39;49m\u001b[39m\"\u001b[39;49m,\n\u001b[0;32m     11\u001b[0m         \u001b[39m\"\u001b[39;49m\u001b[39mcontributing_factor_vehicle_3\u001b[39;49m\u001b[39m\"\u001b[39;49m,\n\u001b[0;32m     12\u001b[0m         \u001b[39m\"\u001b[39;49m\u001b[39mcontributing_factor_vehicle_4\u001b[39;49m\u001b[39m\"\u001b[39;49m,\n\u001b[0;32m     13\u001b[0m         \u001b[39m\"\u001b[39;49m\u001b[39mcontributing_factor_vehicle_5\u001b[39;49m\u001b[39m\"\u001b[39;49m\n\u001b[0;32m     14\u001b[0m     ],\n\u001b[0;32m     15\u001b[0m     inplace\u001b[39m=\u001b[39;49m\u001b[39mTrue\u001b[39;49;00m\n\u001b[0;32m     16\u001b[0m )\n",
      "File \u001b[1;32mc:\\Users\\hauke\\AppData\\Local\\Programs\\Python\\Python311\\Lib\\site-packages\\pandas\\core\\frame.py:5258\u001b[0m, in \u001b[0;36mDataFrame.drop\u001b[1;34m(self, labels, axis, index, columns, level, inplace, errors)\u001b[0m\n\u001b[0;32m   5110\u001b[0m \u001b[39mdef\u001b[39;00m \u001b[39mdrop\u001b[39m(\n\u001b[0;32m   5111\u001b[0m     \u001b[39mself\u001b[39m,\n\u001b[0;32m   5112\u001b[0m     labels: IndexLabel \u001b[39m=\u001b[39m \u001b[39mNone\u001b[39;00m,\n\u001b[1;32m   (...)\u001b[0m\n\u001b[0;32m   5119\u001b[0m     errors: IgnoreRaise \u001b[39m=\u001b[39m \u001b[39m\"\u001b[39m\u001b[39mraise\u001b[39m\u001b[39m\"\u001b[39m,\n\u001b[0;32m   5120\u001b[0m ) \u001b[39m-\u001b[39m\u001b[39m>\u001b[39m DataFrame \u001b[39m|\u001b[39m \u001b[39mNone\u001b[39;00m:\n\u001b[0;32m   5121\u001b[0m \u001b[39m    \u001b[39m\u001b[39m\"\"\"\u001b[39;00m\n\u001b[0;32m   5122\u001b[0m \u001b[39m    Drop specified labels from rows or columns.\u001b[39;00m\n\u001b[0;32m   5123\u001b[0m \n\u001b[1;32m   (...)\u001b[0m\n\u001b[0;32m   5256\u001b[0m \u001b[39m            weight  1.0     0.8\u001b[39;00m\n\u001b[0;32m   5257\u001b[0m \u001b[39m    \"\"\"\u001b[39;00m\n\u001b[1;32m-> 5258\u001b[0m     \u001b[39mreturn\u001b[39;00m \u001b[39msuper\u001b[39;49m()\u001b[39m.\u001b[39;49mdrop(\n\u001b[0;32m   5259\u001b[0m         labels\u001b[39m=\u001b[39;49mlabels,\n\u001b[0;32m   5260\u001b[0m         axis\u001b[39m=\u001b[39;49maxis,\n\u001b[0;32m   5261\u001b[0m         index\u001b[39m=\u001b[39;49mindex,\n\u001b[0;32m   5262\u001b[0m         columns\u001b[39m=\u001b[39;49mcolumns,\n\u001b[0;32m   5263\u001b[0m         level\u001b[39m=\u001b[39;49mlevel,\n\u001b[0;32m   5264\u001b[0m         inplace\u001b[39m=\u001b[39;49minplace,\n\u001b[0;32m   5265\u001b[0m         errors\u001b[39m=\u001b[39;49merrors,\n\u001b[0;32m   5266\u001b[0m     )\n",
      "File \u001b[1;32mc:\\Users\\hauke\\AppData\\Local\\Programs\\Python\\Python311\\Lib\\site-packages\\pandas\\core\\generic.py:4549\u001b[0m, in \u001b[0;36mNDFrame.drop\u001b[1;34m(self, labels, axis, index, columns, level, inplace, errors)\u001b[0m\n\u001b[0;32m   4547\u001b[0m \u001b[39mfor\u001b[39;00m axis, labels \u001b[39min\u001b[39;00m axes\u001b[39m.\u001b[39mitems():\n\u001b[0;32m   4548\u001b[0m     \u001b[39mif\u001b[39;00m labels \u001b[39mis\u001b[39;00m \u001b[39mnot\u001b[39;00m \u001b[39mNone\u001b[39;00m:\n\u001b[1;32m-> 4549\u001b[0m         obj \u001b[39m=\u001b[39m obj\u001b[39m.\u001b[39;49m_drop_axis(labels, axis, level\u001b[39m=\u001b[39;49mlevel, errors\u001b[39m=\u001b[39;49merrors)\n\u001b[0;32m   4551\u001b[0m \u001b[39mif\u001b[39;00m inplace:\n\u001b[0;32m   4552\u001b[0m     \u001b[39mself\u001b[39m\u001b[39m.\u001b[39m_update_inplace(obj)\n",
      "File \u001b[1;32mc:\\Users\\hauke\\AppData\\Local\\Programs\\Python\\Python311\\Lib\\site-packages\\pandas\\core\\generic.py:4591\u001b[0m, in \u001b[0;36mNDFrame._drop_axis\u001b[1;34m(self, labels, axis, level, errors, only_slice)\u001b[0m\n\u001b[0;32m   4589\u001b[0m         new_axis \u001b[39m=\u001b[39m axis\u001b[39m.\u001b[39mdrop(labels, level\u001b[39m=\u001b[39mlevel, errors\u001b[39m=\u001b[39merrors)\n\u001b[0;32m   4590\u001b[0m     \u001b[39melse\u001b[39;00m:\n\u001b[1;32m-> 4591\u001b[0m         new_axis \u001b[39m=\u001b[39m axis\u001b[39m.\u001b[39;49mdrop(labels, errors\u001b[39m=\u001b[39;49merrors)\n\u001b[0;32m   4592\u001b[0m     indexer \u001b[39m=\u001b[39m axis\u001b[39m.\u001b[39mget_indexer(new_axis)\n\u001b[0;32m   4594\u001b[0m \u001b[39m# Case for non-unique axis\u001b[39;00m\n\u001b[0;32m   4595\u001b[0m \u001b[39melse\u001b[39;00m:\n",
      "File \u001b[1;32mc:\\Users\\hauke\\AppData\\Local\\Programs\\Python\\Python311\\Lib\\site-packages\\pandas\\core\\indexes\\base.py:6699\u001b[0m, in \u001b[0;36mIndex.drop\u001b[1;34m(self, labels, errors)\u001b[0m\n\u001b[0;32m   6697\u001b[0m \u001b[39mif\u001b[39;00m mask\u001b[39m.\u001b[39many():\n\u001b[0;32m   6698\u001b[0m     \u001b[39mif\u001b[39;00m errors \u001b[39m!=\u001b[39m \u001b[39m\"\u001b[39m\u001b[39mignore\u001b[39m\u001b[39m\"\u001b[39m:\n\u001b[1;32m-> 6699\u001b[0m         \u001b[39mraise\u001b[39;00m \u001b[39mKeyError\u001b[39;00m(\u001b[39mf\u001b[39m\u001b[39m\"\u001b[39m\u001b[39m{\u001b[39;00m\u001b[39mlist\u001b[39m(labels[mask])\u001b[39m}\u001b[39;00m\u001b[39m not found in axis\u001b[39m\u001b[39m\"\u001b[39m)\n\u001b[0;32m   6700\u001b[0m     indexer \u001b[39m=\u001b[39m indexer[\u001b[39m~\u001b[39mmask]\n\u001b[0;32m   6701\u001b[0m \u001b[39mreturn\u001b[39;00m \u001b[39mself\u001b[39m\u001b[39m.\u001b[39mdelete(indexer)\n",
      "\u001b[1;31mKeyError\u001b[0m: \"['vehicle_type_code_1', 'vehicle_type_code_2', 'vehicle_type_code_3', 'vehicle_type_code_4', 'vehicle_type_code_5', 'contributing_factor_vehicle_1', 'contributing_factor_vehicle_2', 'contributing_factor_vehicle_3', 'contributing_factor_vehicle_4', 'contributing_factor_vehicle_5'] not found in axis\""
     ]
    }
   ],
   "source": [
    "# drop obsolete columns\n",
    "data_clean.drop(\n",
    "    columns=[\n",
    "        \"vehicle_type_code_1\",\n",
    "        \"vehicle_type_code_2\",\n",
    "        \"vehicle_type_code_3\",\n",
    "        \"vehicle_type_code_4\",\n",
    "        \"vehicle_type_code_5\",\n",
    "        \"contributing_factor_vehicle_1\",\n",
    "        \"contributing_factor_vehicle_2\",\n",
    "        \"contributing_factor_vehicle_3\",\n",
    "        \"contributing_factor_vehicle_4\",\n",
    "        \"contributing_factor_vehicle_5\"\n",
    "    ],\n",
    "    inplace=True\n",
    ")"
   ]
  },
  {
   "cell_type": "code",
   "execution_count": 46,
   "metadata": {},
   "outputs": [],
   "source": [
    "# as the collision id serves as index for both dataframes, they can easily be joined. \n",
    "collisions = data_clean.join(dummies)\n",
    "# collisions.to_csv(\"output/collisions.csv\")"
   ]
  },
  {
   "cell_type": "markdown",
   "metadata": {},
   "source": [
    "## Algorithm Setup"
   ]
  },
  {
   "cell_type": "code",
   "execution_count": 47,
   "metadata": {},
   "outputs": [],
   "source": [
    "# import metrics\n",
    "from sklearn.metrics import accuracy_score, confusion_matrix\n",
    "\n",
    "# import model selection utilities\n",
    "from sklearn.model_selection import train_test_split, cross_val_score, KFold"
   ]
  },
  {
   "cell_type": "code",
   "execution_count": 48,
   "metadata": {},
   "outputs": [],
   "source": [
    "# split data\n",
    "X = collisions.filter(regex=r\"^(vt|cf)\\.\", axis=1)\n",
    "y = collisions[\"number_of_persons_injured\"]\n",
    "\n",
    "# we will use a KFold with 5 folds, by using the size 1/6 we ensure we have 6 equally sized test sets\n",
    "X_train, X_test, y_train, y_test = train_test_split(X, y, test_size=1/6)"
   ]
  },
  {
   "cell_type": "markdown",
   "metadata": {},
   "source": [
    "### Estimator Comparison"
   ]
  },
  {
   "cell_type": "markdown",
   "metadata": {},
   "source": [
    "#### Initial Comparison"
   ]
  },
  {
   "cell_type": "code",
   "execution_count": 49,
   "metadata": {},
   "outputs": [],
   "source": [
    "# import models\n",
    "from sklearn.linear_model import RidgeClassifier\n",
    "from sklearn.tree import DecisionTreeClassifier\n",
    "from sklearn.naive_bayes import BernoulliNB\n",
    "from sklearn.ensemble import BaggingClassifier"
   ]
  },
  {
   "cell_type": "code",
   "execution_count": 53,
   "metadata": {},
   "outputs": [],
   "source": [
    "# determine cross-validation score for a list of models\n",
    "models_initial = {\n",
    "    \"ridge\": RidgeClassifier(),\n",
    "    \"tree\": DecisionTreeClassifier(random_state=seed),\n",
    "    'bernoulli': BernoulliNB(binarize=None)\n",
    "}\n",
    "\n",
    "# define KFold of data\n",
    "kf = KFold(random_state=seed, shuffle=True)\n",
    "\n",
    "# compute cross-validation scores\n",
    "cross_scores_initial = [cross_val_score(clf, X_train, y_train, cv=kf) for clf in models_initial.values()]"
   ]
  },
  {
   "cell_type": "code",
   "execution_count": 54,
   "metadata": {},
   "outputs": [
    {
     "data": {
      "image/png": "[encoded data removed]",
      "text/plain": [
       "<Figure size 640x480 with 1 Axes>"
      ]
     },
     "metadata": {},
     "output_type": "display_data"
    }
   ],
   "source": [
    "plt.boxplot(cross_scores_initial, labels=models_initial.keys())\n",
    "plt.title(\"estimator comparison\")\n",
    "plt.ylabel(\"cross-validation score\")\n",
    "plt.show()"
   ]
  },
  {
   "cell_type": "markdown",
   "metadata": {},
   "source": [
    "The decision tree shows the best performance. However, trees have a high risk of overfitting. Therefore, we will also compare the scores for the prediction on the test set."
   ]
  },
  {
   "cell_type": "code",
   "execution_count": 55,
   "metadata": {},
   "outputs": [],
   "source": [
    "# loop through models and perform fit to training data\n",
    "for clf in models_initial.values():\n",
    "    clf.fit(X_train, y_train)\n",
    "\n",
    "# determine score for test set\n",
    "scores_initial = [clf.score(X_test, y_test) for clf in models_initial.values()]\n",
    "\n",
    "# determine score for training set\n",
    "scores_initial_train = [clf.score(X_train, y_train) for clf in models_initial.values()]"
   ]
  },
  {
   "cell_type": "code",
   "execution_count": 62,
   "metadata": {},
   "outputs": [
    {
     "data": {
      "text/plain": [
       "array([0.76519132, 0.76920954, 0.76553734])"
      ]
     },
     "execution_count": 62,
     "metadata": {},
     "output_type": "execute_result"
    }
   ],
   "source": []
  },
  {
   "cell_type": "markdown",
   "metadata": {},
   "source": [
    "Now we can build a dataframe to compare cross-validation and test scores"
   ]
  },
  {
   "cell_type": "code",
   "execution_count": 64,
   "metadata": {},
   "outputs": [
    {
     "data": {
      "text/html": [
       "<div>\n",
       "<style scoped>\n",
       "    .dataframe tbody tr th:only-of-type {\n",
       "        vertical-align: middle;\n",
       "    }\n",
       "\n",
       "    .dataframe tbody tr th {\n",
       "        vertical-align: top;\n",
       "    }\n",
       "\n",
       "    .dataframe thead th {\n",
       "        text-align: right;\n",
       "    }\n",
       "</style>\n",
       "<table border=\"1\" class=\"dataframe\">\n",
       "  <thead>\n",
       "    <tr style=\"text-align: right;\">\n",
       "      <th></th>\n",
       "      <th>test_score</th>\n",
       "      <th>training_score</th>\n",
       "      <th>cv_mean_score</th>\n",
       "      <th>cv_vs_test</th>\n",
       "      <th>train_vs_test</th>\n",
       "    </tr>\n",
       "  </thead>\n",
       "  <tbody>\n",
       "    <tr>\n",
       "      <th>ridge</th>\n",
       "      <td>0.766518</td>\n",
       "      <td>0.765239</td>\n",
       "      <td>0.765191</td>\n",
       "      <td>-0.132701</td>\n",
       "      <td>-0.127900</td>\n",
       "    </tr>\n",
       "    <tr>\n",
       "      <th>tree</th>\n",
       "      <td>0.770679</td>\n",
       "      <td>0.777276</td>\n",
       "      <td>0.769210</td>\n",
       "      <td>-0.146900</td>\n",
       "      <td>0.659744</td>\n",
       "    </tr>\n",
       "    <tr>\n",
       "      <th>bernoulli</th>\n",
       "      <td>0.766978</td>\n",
       "      <td>0.765559</td>\n",
       "      <td>0.765537</td>\n",
       "      <td>-0.144101</td>\n",
       "      <td>-0.141901</td>\n",
       "    </tr>\n",
       "  </tbody>\n",
       "</table>\n",
       "</div>"
      ],
      "text/plain": [
       "           test_score  training_score  cv_mean_score  cv_vs_test  \\\n",
       "ridge        0.766518        0.765239       0.765191   -0.132701   \n",
       "tree         0.770679        0.777276       0.769210   -0.146900   \n",
       "bernoulli    0.766978        0.765559       0.765537   -0.144101   \n",
       "\n",
       "           train_vs_test  \n",
       "ridge          -0.127900  \n",
       "tree            0.659744  \n",
       "bernoulli      -0.141901  "
      ]
     },
     "execution_count": 64,
     "metadata": {},
     "output_type": "execute_result"
    }
   ],
   "source": [
    "# set up dataframe\n",
    "df_scores_initial = pd.DataFrame(\n",
    "    [scores_initial, scores_initial_train, np.array(cross_scores_initial).mean(axis=1)]\n",
    ").transpose()\n",
    "\n",
    "# initialise columns\n",
    "df_scores_initial.columns = [\"test_score\", \"training_score\", \"cv_mean_score\"]\n",
    "\n",
    "# use estimator names as index\n",
    "df_scores_initial.index = models_initial.keys()\n",
    "\n",
    "# deviation between cross-validation mean score and test score in percentage points\n",
    "df_scores_initial[\"cv_vs_test\"] = (\n",
    "    df_scores_initial[\"cv_mean_score\"] - df_scores_initial[\"test_score\"]\n",
    ") * 100\n",
    "\n",
    "# deviation of training score vs test score in percentage points\n",
    "df_scores_initial[\"train_vs_test\"] = (\n",
    "    df_scores_initial[\"training_score\"] - df_scores_initial[\"test_score\"]\n",
    ") * 100\n",
    "\n",
    "# export scores\n",
    "df_scores_initial.to_csv(\"output/scores_initial.csv\")\n",
    "\n",
    "# show table\n",
    "df_scores_initial"
   ]
  },
  {
   "cell_type": "markdown",
   "metadata": {},
   "source": [
    "#### Tree-based Models"
   ]
  },
  {
   "cell_type": "code",
   "execution_count": 65,
   "metadata": {},
   "outputs": [],
   "source": [
    "# import tree-based models from ensemble module\n",
    "from sklearn.ensemble import BaggingClassifier, RandomForestClassifier"
   ]
  },
  {
   "cell_type": "code",
   "execution_count": 66,
   "metadata": {},
   "outputs": [],
   "source": [
    "# define dictionary of chosen tree-based models\n",
    "# set max_depth of 7 to reduce calculation time\n",
    "models_tree = {\n",
    "    \"tree\": DecisionTreeClassifier(max_depth=7, random_state=seed),\n",
    "    'forest': RandomForestClassifier(max_depth=7, random_state=seed),\n",
    "    'bagging': BaggingClassifier(estimator=DecisionTreeClassifier(max_depth=7), random_state=seed)\n",
    "}\n",
    "\n",
    "# determine cross-validation score for a list of tree-based models\n",
    "scores_tree = [cross_val_score(clf, X_train, y_train, cv=kf) for clf in models_tree.values()]"
   ]
  },
  {
   "cell_type": "code",
   "execution_count": 67,
   "metadata": {},
   "outputs": [
    {
     "data": {
      "image/png": "[encoded data removed]",
      "text/plain": [
       "<Figure size 640x480 with 1 Axes>"
      ]
     },
     "metadata": {},
     "output_type": "display_data"
    }
   ],
   "source": [
    "# plot results\n",
    "plt.boxplot(scores_tree, labels=models_tree.keys())\n",
    "plt.title(\"comparison of tree-based models\")\n",
    "plt.show()"
   ]
  },
  {
   "cell_type": "markdown",
   "metadata": {},
   "source": [
    "A decision tree is still best, but not bagging is almost as good. We perform a direct prediction on the isolated test set to see if the decision tree is still ahead"
   ]
  },
  {
   "cell_type": "code",
   "execution_count": 68,
   "metadata": {},
   "outputs": [],
   "source": [
    "# perform a prediction with a decision tree on the actual test set\n",
    "tree = DecisionTreeClassifier(random_state=seed)\n",
    "tree.fit(X_train, y_train)\n",
    "y_pred_tree = tree.predict(X_test)\n",
    "acc_score_tree = accuracy_score(y_test, y_pred_tree)"
   ]
  },
  {
   "cell_type": "code",
   "execution_count": 69,
   "metadata": {},
   "outputs": [],
   "source": [
    "# perform the same prediction with a bagging classifier\n",
    "bag = BaggingClassifier(random_state=seed)\n",
    "bag.fit(X_train, y_train)\n",
    "y_pred_bag = bag.predict(X_test)\n",
    "acc_score_bag = accuracy_score(y_test, y_pred_bag)"
   ]
  },
  {
   "cell_type": "code",
   "execution_count": 71,
   "metadata": {},
   "outputs": [
    {
     "name": "stdout",
     "output_type": "stream",
     "text": [
      "The decision tree achieves a score of 0.77068 on the test set\n",
      "The bagging classifier achieves a score of 0.77053 on the test set\n"
     ]
    }
   ],
   "source": [
    "# compare the outcome\n",
    "print(f\"The decision tree achieves a score of {acc_score_tree:.5f} on the test set\")\n",
    "print(f\"The bagging classifier achieves a score of {acc_score_bag:.5f} on the test set\")\n",
    "# a decision tree is still better!"
   ]
  },
  {
   "cell_type": "markdown",
   "metadata": {},
   "source": [
    "### Focus on Decision Tree"
   ]
  },
  {
   "cell_type": "code",
   "execution_count": 72,
   "metadata": {},
   "outputs": [],
   "source": [
    "# import utility to display confusion matrices\n",
    "from sklearn.metrics import ConfusionMatrixDisplay"
   ]
  },
  {
   "cell_type": "code",
   "execution_count": 73,
   "metadata": {},
   "outputs": [
    {
     "data": {
      "image/png": "[encoded data removed]",
      "text/plain": [
       "<Figure size 640x480 with 2 Axes>"
      ]
     },
     "metadata": {},
     "output_type": "display_data"
    }
   ],
   "source": [
    "# plot confusion matrix\n",
    "ConfusionMatrixDisplay.from_estimator(tree, X_test, y_test, normalize='true', include_values=False, cmap=plt.cm.Blues)\n",
    "plt.show()"
   ]
  },
  {
   "cell_type": "code",
   "execution_count": 74,
   "metadata": {},
   "outputs": [
    {
     "data": {
      "image/png": "[encoded data removed]",
      "text/plain": [
       "<Figure size 640x480 with 2 Axes>"
      ]
     },
     "metadata": {},
     "output_type": "display_data"
    }
   ],
   "source": [
    "# focus on smaller set of classes\n",
    "cm = confusion_matrix(y_test, y_pred_tree)\n",
    "cm_small = cm[0:5, 0:5]\n",
    "disp = ConfusionMatrixDisplay(confusion_matrix=cm_small)\n",
    "disp.plot(cmap=plt.cm.Blues)\n",
    "plt.show()"
   ]
  },
  {
   "cell_type": "markdown",
   "metadata": {},
   "source": [
    "### Boosting"
   ]
  },
  {
   "cell_type": "code",
   "execution_count": 75,
   "metadata": {},
   "outputs": [],
   "source": [
    "# initialise an AdaBoostClassifier\n",
    "from sklearn.ensemble import AdaBoostClassifier\n",
    "dt = DecisionTreeClassifier(max_depth=2, random_state=seed)\n",
    "ada = AdaBoostClassifier(estimator=dt, n_estimators=100)"
   ]
  },
  {
   "cell_type": "code",
   "execution_count": 76,
   "metadata": {},
   "outputs": [],
   "source": [
    "# perform cross-validation\n",
    "ada_cv = cross_val_score(ada, X_train, y_train, cv=kf)"
   ]
  },
  {
   "cell_type": "code",
   "execution_count": 77,
   "metadata": {},
   "outputs": [],
   "source": [
    "# append results to previous results for tree-based models\n",
    "models_boost = models_tree\n",
    "scores_boost = scores_tree\n",
    "models_tree[\"ada\"] = ada\n",
    "scores_boost.append(ada_cv)"
   ]
  },
  {
   "cell_type": "code",
   "execution_count": 79,
   "metadata": {},
   "outputs": [
    {
     "data": {
      "image/png": "[encoded data removed]",
      "text/plain": [
       "<Figure size 640x480 with 1 Axes>"
      ]
     },
     "metadata": {},
     "output_type": "display_data"
    }
   ],
   "source": [
    "# plot results\n",
    "plt.boxplot(scores_boost, labels=models_boost.keys())\n",
    "plt.title(\"comparison of tree-based models with ada boost\")\n",
    "plt.show()"
   ]
  },
  {
   "cell_type": "markdown",
   "metadata": {},
   "source": [
    "### Hyper-Parameter Boosting"
   ]
  },
  {
   "cell_type": "markdown",
   "metadata": {},
   "source": [
    "#### Decision Tree Classifier"
   ]
  },
  {
   "cell_type": "code",
   "execution_count": 80,
   "metadata": {},
   "outputs": [],
   "source": [
    "# we first have a closer look at the Ridge Classifier\n",
    "from sklearn.model_selection import GridSearchCV"
   ]
  },
  {
   "cell_type": "code",
   "execution_count": 81,
   "metadata": {},
   "outputs": [],
   "source": [
    "# initialise grid search\n",
    "tree_params = {\n",
    "        # \"max_depth\": np.arange(5, 10),\n",
    "        # \"max_depth\": [2, 3, 4],\n",
    "        \"min_samples_leaf\": np.arange(1, 51, 5)\n",
    "        }\n",
    "tree_cv = GridSearchCV(DecisionTreeClassifier(random_state=seed), tree_params, cv=kf)\n",
    "\n",
    "# execute\n",
    "tree_cv.fit(X_train, y_train)\n",
    "tree_cv_res = pd.DataFrame.from_dict(tree_cv.cv_results_)"
   ]
  },
  {
   "cell_type": "code",
   "execution_count": 82,
   "metadata": {},
   "outputs": [
    {
     "data": {
      "image/png": "[encoded data removed]",
      "text/plain": [
       "<Figure size 640x480 with 1 Axes>"
      ]
     },
     "metadata": {},
     "output_type": "display_data"
    }
   ],
   "source": [
    "# plot results\n",
    "# ax = sns.lineplot(data=tree_cv_res, x=\"param_min_samples_leaf\", y = \"mean_test_score\", hue = \"param_max_depth\")\n",
    "ax = sns.lineplot(data=tree_cv_res, x=\"param_min_samples_leaf\", y = \"mean_test_score\")\n",
    "ax.set(\n",
    "    title=\"decision tree grid search\"\n",
    ")\n",
    "plt.show()"
   ]
  },
  {
   "cell_type": "code",
   "execution_count": 83,
   "metadata": {},
   "outputs": [
    {
     "data": {
      "text/html": [
       "<style>#sk-container-id-1 {color: black;}#sk-container-id-1 pre{padding: 0;}#sk-container-id-1 div.sk-toggleable {background-color: white;}#sk-container-id-1 label.sk-toggleable__label {cursor: pointer;display: block;width: 100%;margin-bottom: 0;padding: 0.3em;box-sizing: border-box;text-align: center;}#sk-container-id-1 label.sk-toggleable__label-arrow:before {content: \"▸\";float: left;margin-right: 0.25em;color: #696969;}#sk-container-id-1 label.sk-toggleable__label-arrow:hover:before {color: black;}#sk-container-id-1 div.sk-estimator:hover label.sk-toggleable__label-arrow:before {color: black;}#sk-container-id-1 div.sk-toggleable__content {max-height: 0;max-width: 0;overflow: hidden;text-align: left;background-color: #f0f8ff;}#sk-container-id-1 div.sk-toggleable__content pre {margin: 0.2em;color: black;border-radius: 0.25em;background-color: #f0f8ff;}#sk-container-id-1 input.sk-toggleable__control:checked~div.sk-toggleable__content {max-height: 200px;max-width: 100%;overflow: auto;}#sk-container-id-1 input.sk-toggleable__control:checked~label.sk-toggleable__label-arrow:before {content: \"▾\";}#sk-container-id-1 div.sk-estimator input.sk-toggleable__control:checked~label.sk-toggleable__label {background-color: #d4ebff;}#sk-container-id-1 div.sk-label input.sk-toggleable__control:checked~label.sk-toggleable__label {background-color: #d4ebff;}#sk-container-id-1 input.sk-hidden--visually {border: 0;clip: rect(1px 1px 1px 1px);clip: rect(1px, 1px, 1px, 1px);height: 1px;margin: -1px;overflow: hidden;padding: 0;position: absolute;width: 1px;}#sk-container-id-1 div.sk-estimator {font-family: monospace;background-color: #f0f8ff;border: 1px dotted black;border-radius: 0.25em;box-sizing: border-box;margin-bottom: 0.5em;}#sk-container-id-1 div.sk-estimator:hover {background-color: #d4ebff;}#sk-container-id-1 div.sk-parallel-item::after {content: \"\";width: 100%;border-bottom: 1px solid gray;flex-grow: 1;}#sk-container-id-1 div.sk-label:hover label.sk-toggleable__label {background-color: #d4ebff;}#sk-container-id-1 div.sk-serial::before {content: \"\";position: absolute;border-left: 1px solid gray;box-sizing: border-box;top: 0;bottom: 0;left: 50%;z-index: 0;}#sk-container-id-1 div.sk-serial {display: flex;flex-direction: column;align-items: center;background-color: white;padding-right: 0.2em;padding-left: 0.2em;position: relative;}#sk-container-id-1 div.sk-item {position: relative;z-index: 1;}#sk-container-id-1 div.sk-parallel {display: flex;align-items: stretch;justify-content: center;background-color: white;position: relative;}#sk-container-id-1 div.sk-item::before, #sk-container-id-1 div.sk-parallel-item::before {content: \"\";position: absolute;border-left: 1px solid gray;box-sizing: border-box;top: 0;bottom: 0;left: 50%;z-index: -1;}#sk-container-id-1 div.sk-parallel-item {display: flex;flex-direction: column;z-index: 1;position: relative;background-color: white;}#sk-container-id-1 div.sk-parallel-item:first-child::after {align-self: flex-end;width: 50%;}#sk-container-id-1 div.sk-parallel-item:last-child::after {align-self: flex-start;width: 50%;}#sk-container-id-1 div.sk-parallel-item:only-child::after {width: 0;}#sk-container-id-1 div.sk-dashed-wrapped {border: 1px dashed gray;margin: 0 0.4em 0.5em 0.4em;box-sizing: border-box;padding-bottom: 0.4em;background-color: white;}#sk-container-id-1 div.sk-label label {font-family: monospace;font-weight: bold;display: inline-block;line-height: 1.2em;}#sk-container-id-1 div.sk-label-container {text-align: center;}#sk-container-id-1 div.sk-container {/* jupyter's `normalize.less` sets `[hidden] { display: none; }` but bootstrap.min.css set `[hidden] { display: none !important; }` so we also need the `!important` here to be able to override the default hidden behavior on the sphinx rendered scikit-learn.org. See: https://github.com/scikit-learn/scikit-learn/issues/21755 */display: inline-block !important;position: relative;}#sk-container-id-1 div.sk-text-repr-fallback {display: none;}</style><div id=\"sk-container-id-1\" class=\"sk-top-container\"><div class=\"sk-text-repr-fallback\"><pre>DecisionTreeClassifier(min_samples_leaf=11, random_state=8)</pre><b>In a Jupyter environment, please rerun this cell to show the HTML representation or trust the notebook. <br />On GitHub, the HTML representation is unable to render, please try loading this page with nbviewer.org.</b></div><div class=\"sk-container\" hidden><div class=\"sk-item\"><div class=\"sk-estimator sk-toggleable\"><input class=\"sk-toggleable__control sk-hidden--visually\" id=\"sk-estimator-id-1\" type=\"checkbox\" checked><label for=\"sk-estimator-id-1\" class=\"sk-toggleable__label sk-toggleable__label-arrow\">DecisionTreeClassifier</label><div class=\"sk-toggleable__content\"><pre>DecisionTreeClassifier(min_samples_leaf=11, random_state=8)</pre></div></div></div></div></div>"
      ],
      "text/plain": [
       "DecisionTreeClassifier(min_samples_leaf=11, random_state=8)"
      ]
     },
     "execution_count": 83,
     "metadata": {},
     "output_type": "execute_result"
    }
   ],
   "source": [
    "tree_cv.best_estimator_"
   ]
  }
 ],
 "metadata": {
  "kernelspec": {
   "display_name": "Python 3",
   "language": "python",
   "name": "python3"
  },
  "language_info": {
   "codemirror_mode": {
    "name": "ipython",
    "version": 3
   },
   "file_extension": ".py",
   "mimetype": "text/x-python",
   "name": "python",
   "nbconvert_exporter": "python",
   "pygments_lexer": "ipython3",
   "version": "3.11.3"
  },
  "orig_nbformat": 4
 },
 "nbformat": 4,
 "nbformat_minor": 2
}
