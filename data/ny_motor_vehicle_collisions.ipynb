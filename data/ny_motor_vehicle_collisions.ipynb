{
 "cells": [
  {
   "attachments": {},
   "cell_type": "markdown",
   "metadata": {},
   "source": [
    "# Analysis of New York Motor Vehicle Collisions\n",
    "### UCDPA Project, Hauke Laing"
   ]
  },
  {
   "cell_type": "raw",
   "metadata": {},
   "source": [
    "Source ............. https://data.cityofnewyork.us/Public-Safety/Motor-Vehicle-Collisions-Crashes/h9gi-nx95\n",
    "Usage tips ......... https://dev.socrata.com/foundry/data.cityofnewyork.us/h9gi-nx95\n",
    "More tips .......... https://dev.socrata.com/docs/queries/\n",
    "geospatial.......... https://scitools.org.uk/cartopy/docs/latest/getting_started/index.html\n",
    "ny geomap .......... https://geopandas.org/en/stable/gallery/plotting_basemap_background.html"
   ]
  },
  {
   "attachments": {},
   "cell_type": "markdown",
   "metadata": {},
   "source": [
    "## Setup"
   ]
  },
  {
   "cell_type": "code",
   "execution_count": 1,
   "metadata": {},
   "outputs": [],
   "source": [
    "# import required libraries\n",
    "import requests\n",
    "import pandas as pd\n",
    "import numpy as np\n",
    "import re\n",
    "import seaborn as sns\n",
    "import matplotlib.pyplot as plt"
   ]
  },
  {
   "attachments": {},
   "cell_type": "markdown",
   "metadata": {},
   "source": [
    "## Data Collection"
   ]
  },
  {
   "cell_type": "markdown",
   "metadata": {},
   "source": [
    "### helper functions"
   ]
  },
  {
   "cell_type": "code",
   "execution_count": 2,
   "metadata": {},
   "outputs": [],
   "source": [
    "def read_api_chunk(api, limit=1000, offset=0):\n",
    "    \"\"\"read a single chunk from the api\"\"\"\n",
    "    return pd.read_json(f\"{api}?${limit=}&${offset=}\")\n",
    "\n",
    "\n",
    "def read_api(api, total_size, chunk_size=1000):\n",
    "    \"\"\"read given number of lines from api, applying the chunk_size along the way\"\"\"\n",
    "    # use https://docs.python.org/3/reference/expressions.html#yield-expressions\n",
    "    chunk_generator = (\n",
    "        # define chunks; the last chunk might be smaller than chunk_size\n",
    "        read_api_chunk(api, limit=min(chunk_size, total_size - x), offset=x)\n",
    "        for x in range(0, total_size, chunk_size)\n",
    "    )\n",
    "    # in the generator expressions, the chunks are not yet read and stored in memory\n",
    "    # the outer paranthesis are synctactilly required for generator expressions; they\n",
    "    # are not included simply in order to permit the multiline definition\n",
    "\n",
    "    # pd.concat can handle generator expressions. According to the api reference, the objs argument\n",
    "    # accepts a sequence of DataFrame objects. This indicates that any iterable that yields DataFrame\n",
    "    # objects will be accepted, which is what chunk_generator provides.\n",
    "    return pd.concat(chunk_generator)\n",
    "\n",
    "def read_api_2(api, size, n_chunks):\n",
    "    \"\"\"read given number of lines from api by splitting the request into n_chunks chunks\"\"\"\n",
    "    grid = np.unique(np.linspace(0, size, num=n_chunks).astype('int'))\n",
    "    steps = np.diff(grid)\n",
    "    chunk_generator = (\n",
    "        read_api_chunk(api, limit=steps[i], offset=grid[i])\n",
    "        for i in range(len(steps))\n",
    "    )\n",
    "    return pd.concat(chunk_generator)"
   ]
  },
  {
   "attachments": {},
   "cell_type": "markdown",
   "metadata": {},
   "source": [
    "### inputs"
   ]
  },
  {
   "cell_type": "code",
   "execution_count": 280,
   "metadata": {},
   "outputs": [],
   "source": [
    "# set input parameters\n",
    "api = \"https://data.cityofnewyork.us/resource/h9gi-nx95.json\"\n",
    "n = 300e3\n",
    "n_chunks = 3\n",
    "# limit = 1000\n",
    "seed = 42"
   ]
  },
  {
   "cell_type": "markdown",
   "metadata": {},
   "source": [
    "### read data"
   ]
  },
  {
   "cell_type": "code",
   "execution_count": 4,
   "metadata": {},
   "outputs": [],
   "source": [
    "# read data\n",
    "# data_raw = read_api_chunk(api, limit=int(n))\n",
    "# data_raw = read_api(api, total_size=int(100e3), chunk_size=int(25e3))\n",
    "data_raw = read_api_2(api, size=n, n_chunks=n_chunks)"
   ]
  },
  {
   "cell_type": "code",
   "execution_count": 5,
   "metadata": {},
   "outputs": [
    {
     "data": {
      "text/plain": [
       "(300000, 29)"
      ]
     },
     "execution_count": 5,
     "metadata": {},
     "output_type": "execute_result"
    }
   ],
   "source": [
    "data_raw.shape"
   ]
  },
  {
   "cell_type": "markdown",
   "metadata": {},
   "source": [
    "## Data Preparation "
   ]
  },
  {
   "cell_type": "markdown",
   "metadata": {},
   "source": [
    "### Cleaning"
   ]
  },
  {
   "cell_type": "code",
   "execution_count": 6,
   "metadata": {},
   "outputs": [
    {
     "data": {
      "text/plain": [
       "(300000, 29)"
      ]
     },
     "execution_count": 6,
     "metadata": {},
     "output_type": "execute_result"
    }
   ],
   "source": [
    "# initial cleaning of data\n",
    "data_raw_2 = data_raw.rename(\n",
    "    columns={\n",
    "        \"vehicle_type_code1\": \"vehicle_type_code_1\",\n",
    "        \"vehicle_type_code2\": \"vehicle_type_code_2\",\n",
    "    }\n",
    ")\n",
    "data_raw_2 = data_raw_2.reindex(sorted(data_raw_2.columns), axis=1)\n",
    "text_cols = [col for col in data_raw_2 if re.search(\"(street|contributing_factor)\", col)]\n",
    "data_raw_2[text_cols] = data_raw_2[text_cols].astype(\"string\")\n",
    "data_raw_2.shape"
   ]
  },
  {
   "cell_type": "code",
   "execution_count": 7,
   "metadata": {},
   "outputs": [
    {
     "name": "stdout",
     "output_type": "stream",
     "text": [
      "3 duplicate collision ids have been removed.\n"
     ]
    }
   ],
   "source": [
    "# set index\n",
    "data_raw_2.set_index(keys=\"collision_id\", drop=False, inplace=True)\n",
    "\n",
    "# remove duplicate collision ids\n",
    "# ensure the first one is being kept\n",
    "duplicate_collision_ids = data_raw_2.index.duplicated(keep='first')\n",
    "data_raw_2 = data_raw_2[~duplicate_collision_ids]\n",
    "print(f\"{sum(duplicate_collision_ids)} duplicate collision ids have been removed.\")"
   ]
  },
  {
   "cell_type": "code",
   "execution_count": 8,
   "metadata": {},
   "outputs": [
    {
     "data": {
      "text/plain": [
       "borough                                  object\n",
       "collision_id                              int64\n",
       "contributing_factor_vehicle_1    string[python]\n",
       "contributing_factor_vehicle_2    string[python]\n",
       "contributing_factor_vehicle_3    string[python]\n",
       "contributing_factor_vehicle_4    string[python]\n",
       "contributing_factor_vehicle_5    string[python]\n",
       "crash_date                               object\n",
       "crash_time                       datetime64[ns]\n",
       "cross_street_name                string[python]\n",
       "latitude                                float64\n",
       "location                                 object\n",
       "longitude                               float64\n",
       "number_of_cyclist_injured                 int64\n",
       "number_of_cyclist_killed                  int64\n",
       "number_of_motorist_injured                int64\n",
       "number_of_motorist_killed                 int64\n",
       "number_of_pedestrians_injured             int64\n",
       "number_of_pedestrians_killed              int64\n",
       "number_of_persons_injured               float64\n",
       "number_of_persons_killed                  int64\n",
       "off_street_name                  string[python]\n",
       "on_street_name                   string[python]\n",
       "vehicle_type_code_1                      object\n",
       "vehicle_type_code_2                      object\n",
       "vehicle_type_code_3                      object\n",
       "vehicle_type_code_4                      object\n",
       "vehicle_type_code_5                      object\n",
       "zip_code                                float64\n",
       "dtype: object"
      ]
     },
     "execution_count": 8,
     "metadata": {},
     "output_type": "execute_result"
    }
   ],
   "source": [
    "data_raw_2.dtypes"
   ]
  },
  {
   "cell_type": "code",
   "execution_count": 9,
   "metadata": {},
   "outputs": [
    {
     "data": {
      "text/plain": [
       "0"
      ]
     },
     "execution_count": 9,
     "metadata": {},
     "output_type": "execute_result"
    }
   ],
   "source": [
    "# plausibility check\n",
    "invalid_number_of_injured = (\n",
    "    data_raw_2[\n",
    "        [\n",
    "            \"number_of_pedestrians_injured\",\n",
    "            \"number_of_cyclist_injured\",\n",
    "            \"number_of_motorist_injured\",\n",
    "        ]\n",
    "    ].sum(axis=1)\n",
    "    > data_raw_2[\"number_of_persons_injured\"]\n",
    ")\n",
    "sum(invalid_number_of_injured)"
   ]
  },
  {
   "cell_type": "code",
   "execution_count": 214,
   "metadata": {},
   "outputs": [],
   "source": [
    "data_raw_2 = data_raw_2[~data_raw_2[\"number_of_persons_injured\"].isna()]"
   ]
  },
  {
   "cell_type": "markdown",
   "metadata": {},
   "source": [
    "### Explore"
   ]
  },
  {
   "cell_type": "code",
   "execution_count": 267,
   "metadata": {},
   "outputs": [
    {
     "name": "stdout",
     "output_type": "stream",
     "text": [
      "number_of_persons_injured\n",
      "0.0     200950\n",
      "1.0      77060\n",
      "2.0      14751\n",
      "3.0       4570\n",
      "4.0       1662\n",
      "5.0        603\n",
      "6.0        205\n",
      "7.0        106\n",
      "8.0         38\n",
      "9.0         20\n",
      "10.0        13\n",
      "11.0         4\n",
      "15.0         4\n",
      "13.0         3\n",
      "14.0         2\n",
      "18.0         1\n",
      "17.0         1\n",
      "12.0         1\n",
      "40.0         1\n",
      "16.0         1\n",
      "Name: count, dtype: int64\n"
     ]
    }
   ],
   "source": [
    "# explore dataset\n",
    "occ = data_raw_2[\"number_of_persons_injured\"].value_counts()\n",
    "print(occ)"
   ]
  },
  {
   "cell_type": "code",
   "execution_count": 269,
   "metadata": {},
   "outputs": [
    {
     "name": "stdout",
     "output_type": "stream",
     "text": [
      "number_of_persons_injured\n",
      "0.0     0.669842\n",
      "1.0     0.256870\n",
      "2.0     0.049171\n",
      "3.0     0.015234\n",
      "4.0     0.005540\n",
      "5.0     0.002010\n",
      "6.0     0.000683\n",
      "7.0     0.000353\n",
      "8.0     0.000127\n",
      "9.0     0.000067\n",
      "10.0    0.000043\n",
      "11.0    0.000013\n",
      "15.0    0.000013\n",
      "13.0    0.000010\n",
      "14.0    0.000007\n",
      "18.0    0.000003\n",
      "17.0    0.000003\n",
      "12.0    0.000003\n",
      "40.0    0.000003\n",
      "16.0    0.000003\n",
      "Name: count, dtype: float64\n"
     ]
    }
   ],
   "source": [
    "print(occ / sum(occ))"
   ]
  },
  {
   "cell_type": "code",
   "execution_count": 279,
   "metadata": {},
   "outputs": [
    {
     "name": "stdout",
     "output_type": "stream",
     "text": [
      "In about 67.0 out of 100 collisions at least one person is injured.\n"
     ]
    }
   ],
   "source": [
    "print(f\"In about {(100 * occ/sum(occ))[0]:.1f} out of 100 collisions at least one person is injured.\")"
   ]
  },
  {
   "cell_type": "raw",
   "metadata": {},
   "source": [
    "The ration of collisions where no cyclist was injured is very high. \n",
    "This ratio can also be seen as the accuracy of an algorithm that predicts that no cyclist ever gets injured in a collision. \n",
    "This will be an important benchmark for machine learning algorithms - they should certainly be better than that if they are of any use. "
   ]
  },
  {
   "cell_type": "markdown",
   "metadata": {},
   "source": [
    "### Feature Engineering"
   ]
  },
  {
   "cell_type": "code",
   "execution_count": 218,
   "metadata": {},
   "outputs": [
    {
     "data": {
      "text/plain": [
       "borough                                  object\n",
       "contributing_factor_vehicle      string[python]\n",
       "crash_date                               object\n",
       "crash_time                       datetime64[ns]\n",
       "cross_street_name                string[python]\n",
       "cyclist_was_injured                        bool\n",
       "latitude                                float64\n",
       "location                                 object\n",
       "longitude                               float64\n",
       "number_of_cyclist_injured                 int64\n",
       "number_of_cyclist_killed                  int64\n",
       "number_of_motorist_injured                int64\n",
       "number_of_motorist_killed                 int64\n",
       "number_of_pedestrians_injured             int64\n",
       "number_of_pedestrians_killed              int64\n",
       "number_of_persons_injured               float64\n",
       "number_of_persons_killed                  int64\n",
       "off_street_name                  string[python]\n",
       "on_street_name                   string[python]\n",
       "vehicle_type_code                        object\n",
       "zip_code                                float64\n",
       "dtype: object"
      ]
     },
     "execution_count": 218,
     "metadata": {},
     "output_type": "execute_result"
    }
   ],
   "source": [
    "# the dataset has 5 columns to cover up to 5 vehicles involved in a collision\n",
    "# format data to cover 5 vehicles in one column\n",
    "data_long = pd.wide_to_long(\n",
    "    data_raw_3,\n",
    "    stubnames=[\"vehicle_type_code_\", \"contributing_factor_vehicle_\"],\n",
    "    i=\"collision_id\",\n",
    "    j=\"vehicle_no\",\n",
    ")\n",
    "data_long.rename(\n",
    "    columns={\n",
    "        \"vehicle_type_code_\": \"vehicle_type_code\",\n",
    "        \"contributing_factor_vehicle_\": \"contributing_factor_vehicle\",\n",
    "    },\n",
    "    inplace=True,\n",
    ")\n",
    "data_long = data_long.reindex(sorted(data_long.columns), axis=1)\n",
    "\n",
    "\n",
    "# keep rows for vehicle no. > 1 only if relevant information pertaining to the vehicle is present; the row is redundant otherwise\n",
    "_cnd1 = (\n",
    "    data_long[[\"vehicle_type_code\", \"contributing_factor_vehicle\"]]\n",
    "    .notnull()\n",
    "    .any(axis=1)\n",
    ")\n",
    "_cnd2 = data_long.index.get_level_values(level=1) == 1\n",
    "_cnd = _cnd1 | _cnd2\n",
    "data_long = data_long.loc[_cnd, :]\n",
    "# export long data\n",
    "# data_long.to_csv(\"data_long.csv\")\n",
    "data_long.dtypes"
   ]
  },
  {
   "cell_type": "code",
   "execution_count": 219,
   "metadata": {},
   "outputs": [
    {
     "data": {
      "text/plain": [
       "contributing_factor_vehicle\n",
       "Unspecified                                          311505\n",
       "Driver Inattention/Distraction                        87743\n",
       "Following Too Closely                                 24104\n",
       "Failure to Yield Right-of-Way                         22064\n",
       "Passing or Lane Usage Improper                        14832\n",
       "Passing Too Closely                                   12592\n",
       "Other Vehicular                                       12418\n",
       "Unsafe Speed                                          11162\n",
       "Backing Unsafely                                      10607\n",
       "Traffic Control Disregarded                            9015\n",
       "Unsafe Lane Changing                                   7520\n",
       "Turning Improperly                                     6907\n",
       "Driver Inexperience                                    6249\n",
       "Reaction to Uninvolved Vehicle                         4979\n",
       "Alcohol Involvement                                    4786\n",
       "Pedestrian/Bicyclist/Other Pedestrian Error/Co...      3247\n",
       "Pavement Slippery                                      3230\n",
       "View Obstructed/Limited                                3214\n",
       "Aggressive Driving/Road Rage                           2530\n",
       "Oversized Vehicle                                      1648\n",
       "Brakes Defective                                       1275\n",
       "Fell Asleep                                            1197\n",
       "Passenger Distraction                                   815\n",
       "Obstruction/Debris                                      796\n",
       "Steering Failure                                        732\n",
       "Outside Car Distraction                                 714\n",
       "Glare                                                   543\n",
       "Lost Consciousness                                      538\n",
       "Tire Failure/Inadequate                                 526\n",
       "Illnes                                                  492\n",
       "Failure to Keep Right                                   420\n",
       "Pavement Defective                                      391\n",
       "Fatigued/Drowsy                                         372\n",
       "Driverless/Runaway Vehicle                              319\n",
       "Animals Action                                          282\n",
       "Drugs (illegal)                                         281\n",
       "Accelerator Defective                                   215\n",
       "Traffic Control Device Improper/Non-Working             206\n",
       "Cell Phone (hand-Held)                                  150\n",
       "Physical Disability                                     139\n",
       "Lane Marking Improper/Inadequate                        139\n",
       "Tinted Windows                                           76\n",
       "Other Lighting Defects                                   51\n",
       "Headlights Defective                                     46\n",
       "Vehicle Vandalism                                        41\n",
       "Using On Board Navigation Device                         38\n",
       "Tow Hitch Defective                                      37\n",
       "Prescription Medication                                  36\n",
       "Other Electronic Device                                  34\n",
       "Eating or Drinking                                       30\n",
       "Cell Phone (hands-free)                                  16\n",
       "Shoulders Defective/Improper                             15\n",
       "Listening/Using Headphones                               11\n",
       "Texting                                                  11\n",
       "Windshield Inadequate                                     6\n",
       "Name: count, dtype: Int64"
      ]
     },
     "execution_count": 219,
     "metadata": {},
     "output_type": "execute_result"
    }
   ],
   "source": [
    "# explore the column 'contributing_factor_vehicle'\n",
    "data_long[\"contributing_factor_vehicle\"].value_counts()"
   ]
  },
  {
   "cell_type": "code",
   "execution_count": 220,
   "metadata": {},
   "outputs": [],
   "source": [
    "# The column 'contributing_factor_vehicle' contains a text comment. To prepare the column \n",
    "# for machine learning algorithms, we want to categorize it and later create dummies\n",
    "\n",
    "# First, establish a code representing a contributing factor and a corresponding mapping\n",
    "\n",
    "confac = (\n",
    "    data_long[\"contributing_factor_vehicle\"]\n",
    "    .drop_duplicates()\n",
    "    .dropna()\n",
    "    .reset_index(drop=True)\n",
    "    .to_frame(name=\"contributing_factor\")\n",
    ")\n",
    "\n",
    "def get_first_chars(input):\n",
    "    \"\"\"retrieve first character of each word in a string of words\"\"\"\n",
    "    return \"\".join(item[0].upper() for item in re.findall(\"\\w+\", input))\n",
    "\n",
    "# create initial code\n",
    "confac[\"cf\"] = confac[\"contributing_factor\"].apply(get_first_chars)\n",
    "\n",
    "# if code is not unique, add counting index\n",
    "confac[\"n\"] = confac.groupby([\"cf\"]).cumcount()\n",
    "_k = confac[\"n\"] > 0\n",
    "confac.loc[_k, \"cf\"] = confac.loc[_k, \"cf\"] + confac.loc[_k, \"n\"].astype(\"string\")\n",
    "confac.set_index(\"contributing_factor\", inplace=True)\n",
    "\n",
    "# export mapping for reference\n",
    "confac.to_csv(\"output/confac.csv\")\n",
    "\n",
    "confac_cols = \"cf.\" + confac[\"cf\"]\n",
    "mapping_cf = pd.Series(confac[\"cf\"]).to_dict()"
   ]
  },
  {
   "cell_type": "code",
   "execution_count": 221,
   "metadata": {},
   "outputs": [
    {
     "data": {
      "text/plain": [
       "cf\n",
       "U         311505\n",
       "DID        87743\n",
       "FTC        24104\n",
       "FTYROW     22064\n",
       "POLUI      14832\n",
       "PTC        12592\n",
       "OV         12418\n",
       "US         11162\n",
       "BU         10607\n",
       "TCD         9015\n",
       "ULC         7520\n",
       "TI          6907\n",
       "DI          6249\n",
       "RTUV        4979\n",
       "AI          4786\n",
       "PBOPEC      3247\n",
       "PS          3230\n",
       "VOL         3214\n",
       "ADRR        2530\n",
       "OV1         1648\n",
       "BD          1275\n",
       "FA          1197\n",
       "PD           815\n",
       "OD           796\n",
       "SF           732\n",
       "OCD          714\n",
       "G            543\n",
       "LC           538\n",
       "TFI          526\n",
       "I            492\n",
       "FTKR         420\n",
       "PD1          391\n",
       "FD           372\n",
       "DRV          319\n",
       "AA           282\n",
       "DI1          281\n",
       "AD           215\n",
       "TCDINW       206\n",
       "CPHH         150\n",
       "PD2          139\n",
       "LMII         139\n",
       "TW            76\n",
       "OLD           51\n",
       "HD            46\n",
       "VV            41\n",
       "UOBND         38\n",
       "THD           37\n",
       "PM            36\n",
       "OED           34\n",
       "EOD           30\n",
       "CPHF          16\n",
       "SDI           15\n",
       "LUH           11\n",
       "T             11\n",
       "WI             6\n",
       "Name: count, dtype: Int64"
      ]
     },
     "execution_count": 221,
     "metadata": {},
     "output_type": "execute_result"
    }
   ],
   "source": [
    "# determine dummies grouped by collision_id\n",
    "data_long[\"cf\"] = data_long[\"contributing_factor_vehicle\"].replace(mapping_cf)\n",
    "# dummies_cf_long = pd.get_dummies(data_long, columns=[\"cf\"], prefix_sep=\".\")\n",
    "# dummies_cf = dummies_cf_long[confac_cols].groupby(level=0).max()\n",
    "# dummies_cf[\"n_vehicles\"] = dummies_cf.sum(axis=1) # store number of vehicles involved\n",
    "# dummies_cf.head()\n",
    "data_long[\"cf\"].value_counts()"
   ]
  },
  {
   "cell_type": "code",
   "execution_count": 222,
   "metadata": {},
   "outputs": [
    {
     "name": "stdout",
     "output_type": "stream",
     "text": [
      "801\n",
      "vehicle_type\n",
      "sedan                                  247656\n",
      "station_wagon_sport_utility_vehicle    187111\n",
      "bike                                    14182\n",
      "taxi                                    13457\n",
      "pick_up_truck                           12697\n",
      "                                        ...  \n",
      "freight_fl                                  1\n",
      "fdny_226                                    1\n",
      "dilevery_t                                  1\n",
      "slingshot                                   1\n",
      "van_ford                                    1\n",
      "Name: count, Length: 801, dtype: int64\n"
     ]
    }
   ],
   "source": [
    "# similar to the column 'contributing factor' is the column 'vehicle type'\n",
    "# we want to prepare it as categorical data\n",
    "\n",
    "# vehicle_type_codes = data_long[\"vehicle_type_code\"].astype(\"string\").dropna()\n",
    "\n",
    "# align formatting of text\n",
    "data_long[\"vehicle_type\"] = (\n",
    "    data_long[\"vehicle_type_code\"]\n",
    "    .str.replace(pat=r\"\\W+\", repl=\"_\", regex=True)\n",
    "    .str.lower()\n",
    ")\n",
    "\n",
    "print(data_long[\"vehicle_type\"].nunique())\n",
    "print(data_long[\"vehicle_type\"].value_counts())"
   ]
  },
  {
   "cell_type": "code",
   "execution_count": 223,
   "metadata": {},
   "outputs": [
    {
     "data": {
      "text/plain": [
       "vt\n",
       "sedan                                  247656\n",
       "station_wagon_sport_utility_vehicle    187111\n",
       "bike                                    14182\n",
       "taxi                                    13457\n",
       "pick_up_truck                           12697\n",
       "box_truck                               11894\n",
       "bus                                      8656\n",
       "e_bike                                   5369\n",
       "tractor_truck_diesel                     4570\n",
       "motorcycle                               4474\n",
       "van                                      3554\n",
       "e_scooter                                3527\n",
       "ambulance                                2956\n",
       "other                                    2582\n",
       "dump                                     1835\n",
       "moped                                    1588\n",
       "pk                                       1229\n",
       "convertible                              1215\n",
       "flat_bed                                 1138\n",
       "garbage_or_refuse                        1068\n",
       "carry_all                                 732\n",
       "tractor_truck_gasoline                    644\n",
       "tow_truck_wrecker                         625\n",
       "motorbike                                 529\n",
       "motorscooter                              518\n",
       "4_dr_sedan                                517\n",
       "chassis_cab                               449\n",
       "tanker                                    365\n",
       "fire_truck                                255\n",
       "limo                                      217\n",
       "concrete_mixer                            194\n",
       "trailer                                   178\n",
       "3_door                                    158\n",
       "unknown                                   154\n",
       "refrigerated_van                          147\n",
       "armored_truck                             140\n",
       "flat_rack                                 129\n",
       "school_bus                                127\n",
       "scooter                                   114\n",
       "unk                                       110\n",
       "multi_wheeled_vehicle                     104\n",
       "beverage_truck                            104\n",
       "truck                                     103\n",
       "lift_boom                                 101\n",
       "stake_or_rack                              95\n",
       "firetruck                                  87\n",
       "open_body                                  85\n",
       "tow_truck                                  80\n",
       "snow_plow                                  75\n",
       "minibike                                   56\n",
       "Name: count, dtype: int64"
      ]
     },
     "execution_count": 223,
     "metadata": {},
     "output_type": "execute_result"
    }
   ],
   "source": [
    "# reduce to top 50 most frequent types of cars. last category is set to \"other\"\n",
    "top = 50\n",
    "vehicle_top_cats = data_long[\"vehicle_type\"].value_counts().head(top - 1).index\n",
    "data_long[\"vt\"] = data_long[\"vehicle_type\"]\n",
    "\n",
    "data_long.loc[\n",
    "    ~data_long[\"vehicle_type\"].isin(vehicle_top_cats)\n",
    "    & ~data_long[\"vehicle_type\"].isna(),\n",
    "    [\"vt\"],\n",
    "] = \"other\"\n",
    "\n",
    "data_long[\"vt\"] = data_long[\"vt\"].astype(\"category\")\n",
    "data_long[\"vt\"].value_counts()"
   ]
  },
  {
   "cell_type": "code",
   "execution_count": 224,
   "metadata": {},
   "outputs": [
    {
     "data": {
      "text/html": [
       "<div>\n",
       "<style scoped>\n",
       "    .dataframe tbody tr th:only-of-type {\n",
       "        vertical-align: middle;\n",
       "    }\n",
       "\n",
       "    .dataframe tbody tr th {\n",
       "        vertical-align: top;\n",
       "    }\n",
       "\n",
       "    .dataframe thead th {\n",
       "        text-align: right;\n",
       "    }\n",
       "</style>\n",
       "<table border=\"1\" class=\"dataframe\">\n",
       "  <thead>\n",
       "    <tr style=\"text-align: right;\">\n",
       "      <th></th>\n",
       "      <th>vt.3_door</th>\n",
       "      <th>vt.4_dr_sedan</th>\n",
       "      <th>vt.ambulance</th>\n",
       "      <th>vt.armored_truck</th>\n",
       "      <th>vt.beverage_truck</th>\n",
       "      <th>vt.bike</th>\n",
       "      <th>vt.box_truck</th>\n",
       "      <th>vt.bus</th>\n",
       "      <th>vt.carry_all</th>\n",
       "      <th>vt.chassis_cab</th>\n",
       "      <th>...</th>\n",
       "      <th>cf.THD</th>\n",
       "      <th>cf.TI</th>\n",
       "      <th>cf.TW</th>\n",
       "      <th>cf.ULC</th>\n",
       "      <th>cf.UOBND</th>\n",
       "      <th>cf.US</th>\n",
       "      <th>cf.VOL</th>\n",
       "      <th>cf.VV</th>\n",
       "      <th>cf.WI</th>\n",
       "      <th>n_vehicles</th>\n",
       "    </tr>\n",
       "    <tr>\n",
       "      <th>collision_id</th>\n",
       "      <th></th>\n",
       "      <th></th>\n",
       "      <th></th>\n",
       "      <th></th>\n",
       "      <th></th>\n",
       "      <th></th>\n",
       "      <th></th>\n",
       "      <th></th>\n",
       "      <th></th>\n",
       "      <th></th>\n",
       "      <th></th>\n",
       "      <th></th>\n",
       "      <th></th>\n",
       "      <th></th>\n",
       "      <th></th>\n",
       "      <th></th>\n",
       "      <th></th>\n",
       "      <th></th>\n",
       "      <th></th>\n",
       "      <th></th>\n",
       "      <th></th>\n",
       "    </tr>\n",
       "  </thead>\n",
       "  <tbody>\n",
       "    <tr>\n",
       "      <th>3456194</th>\n",
       "      <td>False</td>\n",
       "      <td>True</td>\n",
       "      <td>False</td>\n",
       "      <td>False</td>\n",
       "      <td>False</td>\n",
       "      <td>False</td>\n",
       "      <td>False</td>\n",
       "      <td>False</td>\n",
       "      <td>False</td>\n",
       "      <td>False</td>\n",
       "      <td>...</td>\n",
       "      <td>False</td>\n",
       "      <td>False</td>\n",
       "      <td>False</td>\n",
       "      <td>False</td>\n",
       "      <td>False</td>\n",
       "      <td>False</td>\n",
       "      <td>False</td>\n",
       "      <td>False</td>\n",
       "      <td>False</td>\n",
       "      <td>1</td>\n",
       "    </tr>\n",
       "    <tr>\n",
       "      <th>3460534</th>\n",
       "      <td>False</td>\n",
       "      <td>True</td>\n",
       "      <td>False</td>\n",
       "      <td>False</td>\n",
       "      <td>False</td>\n",
       "      <td>False</td>\n",
       "      <td>False</td>\n",
       "      <td>False</td>\n",
       "      <td>False</td>\n",
       "      <td>False</td>\n",
       "      <td>...</td>\n",
       "      <td>False</td>\n",
       "      <td>False</td>\n",
       "      <td>False</td>\n",
       "      <td>False</td>\n",
       "      <td>False</td>\n",
       "      <td>False</td>\n",
       "      <td>False</td>\n",
       "      <td>False</td>\n",
       "      <td>False</td>\n",
       "      <td>1</td>\n",
       "    </tr>\n",
       "    <tr>\n",
       "      <th>3528065</th>\n",
       "      <td>False</td>\n",
       "      <td>False</td>\n",
       "      <td>False</td>\n",
       "      <td>False</td>\n",
       "      <td>False</td>\n",
       "      <td>False</td>\n",
       "      <td>False</td>\n",
       "      <td>False</td>\n",
       "      <td>False</td>\n",
       "      <td>False</td>\n",
       "      <td>...</td>\n",
       "      <td>False</td>\n",
       "      <td>False</td>\n",
       "      <td>False</td>\n",
       "      <td>False</td>\n",
       "      <td>False</td>\n",
       "      <td>False</td>\n",
       "      <td>False</td>\n",
       "      <td>False</td>\n",
       "      <td>False</td>\n",
       "      <td>2</td>\n",
       "    </tr>\n",
       "    <tr>\n",
       "      <th>3618395</th>\n",
       "      <td>False</td>\n",
       "      <td>False</td>\n",
       "      <td>False</td>\n",
       "      <td>False</td>\n",
       "      <td>False</td>\n",
       "      <td>False</td>\n",
       "      <td>False</td>\n",
       "      <td>False</td>\n",
       "      <td>False</td>\n",
       "      <td>False</td>\n",
       "      <td>...</td>\n",
       "      <td>False</td>\n",
       "      <td>False</td>\n",
       "      <td>False</td>\n",
       "      <td>False</td>\n",
       "      <td>False</td>\n",
       "      <td>False</td>\n",
       "      <td>False</td>\n",
       "      <td>False</td>\n",
       "      <td>False</td>\n",
       "      <td>1</td>\n",
       "    </tr>\n",
       "    <tr>\n",
       "      <th>3758787</th>\n",
       "      <td>False</td>\n",
       "      <td>False</td>\n",
       "      <td>False</td>\n",
       "      <td>False</td>\n",
       "      <td>False</td>\n",
       "      <td>False</td>\n",
       "      <td>False</td>\n",
       "      <td>False</td>\n",
       "      <td>False</td>\n",
       "      <td>False</td>\n",
       "      <td>...</td>\n",
       "      <td>False</td>\n",
       "      <td>False</td>\n",
       "      <td>False</td>\n",
       "      <td>False</td>\n",
       "      <td>False</td>\n",
       "      <td>False</td>\n",
       "      <td>False</td>\n",
       "      <td>False</td>\n",
       "      <td>False</td>\n",
       "      <td>2</td>\n",
       "    </tr>\n",
       "  </tbody>\n",
       "</table>\n",
       "<p>5 rows × 105 columns</p>\n",
       "</div>"
      ],
      "text/plain": [
       "              vt.3_door  vt.4_dr_sedan  vt.ambulance  vt.armored_truck  \\\n",
       "collision_id                                                             \n",
       "3456194           False           True         False             False   \n",
       "3460534           False           True         False             False   \n",
       "3528065           False          False         False             False   \n",
       "3618395           False          False         False             False   \n",
       "3758787           False          False         False             False   \n",
       "\n",
       "              vt.beverage_truck  vt.bike  vt.box_truck  vt.bus  vt.carry_all  \\\n",
       "collision_id                                                                   \n",
       "3456194                   False    False         False   False         False   \n",
       "3460534                   False    False         False   False         False   \n",
       "3528065                   False    False         False   False         False   \n",
       "3618395                   False    False         False   False         False   \n",
       "3758787                   False    False         False   False         False   \n",
       "\n",
       "              vt.chassis_cab  ...  cf.THD  cf.TI  cf.TW  cf.ULC  cf.UOBND  \\\n",
       "collision_id                  ...                                           \n",
       "3456194                False  ...   False  False  False   False     False   \n",
       "3460534                False  ...   False  False  False   False     False   \n",
       "3528065                False  ...   False  False  False   False     False   \n",
       "3618395                False  ...   False  False  False   False     False   \n",
       "3758787                False  ...   False  False  False   False     False   \n",
       "\n",
       "              cf.US  cf.VOL  cf.VV  cf.WI  n_vehicles  \n",
       "collision_id                                           \n",
       "3456194       False   False  False  False           1  \n",
       "3460534       False   False  False  False           1  \n",
       "3528065       False   False  False  False           2  \n",
       "3618395       False   False  False  False           1  \n",
       "3758787       False   False  False  False           2  \n",
       "\n",
       "[5 rows x 105 columns]"
      ]
     },
     "execution_count": 224,
     "metadata": {},
     "output_type": "execute_result"
    }
   ],
   "source": [
    "# now we are ready to create dummies from the 'contributing factor' and\n",
    "# 'vehicle type' columns. The processed versions of these columns have been \n",
    "# stored as 'cf' and 'vt'\n",
    "\n",
    "dummies_long = pd.get_dummies(\n",
    "    data_long, prefix=[\"vt\", \"cf\"], columns=[\"vt\", \"cf\"], prefix_sep=\".\"\n",
    ")\n",
    "dummies = dummies_long.filter(regex=r\"^(vt|cf)\\.\").groupby(level=0).max()\n",
    "dummies[\"n_vehicles\"] = dummies.filter(regex=r\"^cf\\.\").sum(axis=1) # store number of vehicles involved\n",
    "\n",
    "# after using contributing factor to deduce the number of involved vehicles\n",
    "# we drop the dummie for the value 'Unspecified', as it can now be regarded as NaN\n",
    "dummies = dummies.drop(columns=[\"cf.\" + mapping_cf[\"Unspecified\"]])\n",
    "\n",
    "dummies.head()"
   ]
  },
  {
   "cell_type": "code",
   "execution_count": 225,
   "metadata": {},
   "outputs": [],
   "source": [
    "# after creating dummies, it is useful to create a copy of\n",
    "# the data with the source columns for the dummies removed\n",
    "data_raw_4 = data_raw_3.drop(\n",
    "    columns=[\n",
    "        \"vehicle_type_code_1\",\n",
    "        \"vehicle_type_code_2\",\n",
    "        \"vehicle_type_code_3\",\n",
    "        \"vehicle_type_code_4\",\n",
    "        \"vehicle_type_code_5\",\n",
    "        \"contributing_factor_vehicle_1\",\n",
    "        \"contributing_factor_vehicle_2\",\n",
    "        \"contributing_factor_vehicle_3\",\n",
    "        \"contributing_factor_vehicle_4\",\n",
    "        \"contributing_factor_vehicle_5\"\n",
    "    ]\n",
    ")\n",
    "\n"
   ]
  },
  {
   "cell_type": "code",
   "execution_count": 226,
   "metadata": {},
   "outputs": [],
   "source": [
    "# as the collision id serves as index for both dataframes, they can easily be joined. \n",
    "collisions = data_raw_4.join(dummies)\n",
    "# collisions.to_csv(\"output/collisions.csv\")"
   ]
  },
  {
   "cell_type": "markdown",
   "metadata": {},
   "source": [
    "## Algorithm Setup"
   ]
  },
  {
   "cell_type": "code",
   "execution_count": 227,
   "metadata": {},
   "outputs": [],
   "source": [
    "# import metrics\n",
    "from sklearn.metrics import accuracy_score, confusion_matrix\n",
    "# import model selection utilities\n",
    "from sklearn.model_selection import train_test_split, cross_val_score, KFold"
   ]
  },
  {
   "cell_type": "code",
   "execution_count": 228,
   "metadata": {},
   "outputs": [],
   "source": [
    "# split data\n",
    "X = collisions.filter(regex=r\"^(vt|cf)\\.\", axis=1)\n",
    "y = collisions[\"number_of_persons_injured\"]\n",
    "X_train, X_test, y_train, y_test = train_test_split(X, y, test_size=1/4)"
   ]
  },
  {
   "cell_type": "markdown",
   "metadata": {},
   "source": [
    "### Estimator Comparison"
   ]
  },
  {
   "cell_type": "code",
   "execution_count": 286,
   "metadata": {},
   "outputs": [],
   "source": [
    "# import models\n",
    "from sklearn.linear_model import RidgeClassifier\n",
    "from sklearn.tree import DecisionTreeClassifier\n",
    "from sklearn.naive_bayes import BernoulliNB\n",
    "from sklearn.ensemble import BaggingClassifier"
   ]
  },
  {
   "cell_type": "code",
   "execution_count": 230,
   "metadata": {},
   "outputs": [],
   "source": [
    "# determine cross-validation score for a list of models\n",
    "\n",
    "models = {\n",
    "    \"ridge\": RidgeClassifier(),\n",
    "    \"tree\": DecisionTreeClassifier(random_state=42),\n",
    "    'bernoulli': BernoulliNB(binarize=None)\n",
    "}\n",
    "\n",
    "kf = KFold(random_state=12, shuffle=True)\n",
    "scores = [cross_val_score(clf, X_train, y_train, cv=kf) for clf in models.values()]"
   ]
  },
  {
   "cell_type": "code",
   "execution_count": 266,
   "metadata": {},
   "outputs": [
    {
     "data": {
      "image/png": "[encoded data removed]",
      "text/plain": [
       "<Figure size 640x480 with 1 Axes>"
      ]
     },
     "metadata": {},
     "output_type": "display_data"
    }
   ],
   "source": [
    "plt.boxplot(scores, labels=models.keys())\n",
    "plt.title(\"estimator comparison\")\n",
    "plt.show()"
   ]
  },
  {
   "cell_type": "raw",
   "metadata": {},
   "source": [
    "The decision tree shows the best performance\n",
    "In the next step, we will compare different tree based classifiers. "
   ]
  },
  {
   "cell_type": "code",
   "execution_count": 287,
   "metadata": {},
   "outputs": [],
   "source": [
    "# determine cross-validation score for a list of models\n",
    "models_2 = {\n",
    "    \"tree\": DecisionTreeClassifier(max_depth=7, random_state=seed),\n",
    "    'forest': RandomForestClassifier(max_depth=7, random_state=seed),\n",
    "    'bagging': BaggingClassifier(estimator=DecisionTreeClassifier(max_depth=7), random_state=seed)\n",
    "}\n",
    "scores_2 = [cross_val_score(clf, X_train, y_train, cv=kf) for clf in models_2.values()]"
   ]
  },
  {
   "cell_type": "code",
   "execution_count": 288,
   "metadata": {},
   "outputs": [
    {
     "data": {
      "image/png": "[encoded data removed]",
      "text/plain": [
       "<Figure size 640x480 with 1 Axes>"
      ]
     },
     "metadata": {},
     "output_type": "display_data"
    }
   ],
   "source": [
    "plt.boxplot(scores_2, labels=models_2.keys())\n",
    "plt.title(\"estimator comparison\")\n",
    "plt.show()"
   ]
  },
  {
   "cell_type": "raw",
   "metadata": {},
   "source": [
    "A bagging classifier based on a decision tree performs even slightly better!"
   ]
  },
  {
   "cell_type": "markdown",
   "metadata": {},
   "source": [
    "### Decision Tree"
   ]
  },
  {
   "cell_type": "code",
   "execution_count": 289,
   "metadata": {},
   "outputs": [],
   "source": [
    "# convert scores to a dataframe \n",
    "tree = DecisionTreeClassifier(random_state=seed)\n",
    "tree.fit(X_train, y_train)\n",
    "y_pred = tree.predict(X_test)\n"
   ]
  },
  {
   "cell_type": "code",
   "execution_count": 330,
   "metadata": {},
   "outputs": [
    {
     "data": {
      "text/plain": [
       "<sklearn.tree._tree.Tree at 0x17c8175ad40>"
      ]
     },
     "execution_count": 330,
     "metadata": {},
     "output_type": "execute_result"
    }
   ],
   "source": []
  },
  {
   "cell_type": "code",
   "execution_count": 317,
   "metadata": {},
   "outputs": [],
   "source": [
    "from sklearn.metrics import ConfusionMatrixDisplay\n"
   ]
  },
  {
   "cell_type": "code",
   "execution_count": 321,
   "metadata": {},
   "outputs": [
    {
     "data": {
      "text/plain": [
       "<sklearn.metrics._plot.confusion_matrix.ConfusionMatrixDisplay at 0x17cf6f9e410>"
      ]
     },
     "execution_count": 321,
     "metadata": {},
     "output_type": "execute_result"
    },
    {
     "data": {
      "image/png": "[encoded data removed]",
      "text/plain": [
       "<Figure size 640x480 with 2 Axes>"
      ]
     },
     "metadata": {},
     "output_type": "display_data"
    }
   ],
   "source": [
    "ConfusionMatrixDisplay.from_estimator(tree, X_test, y_test, normalize='true', include_values=False, cmap=plt.cm.Blues)"
   ]
  },
  {
   "cell_type": "code",
   "execution_count": 328,
   "metadata": {},
   "outputs": [
    {
     "data": {
      "text/plain": [
       "<sklearn.metrics._plot.confusion_matrix.ConfusionMatrixDisplay at 0x17cf752aa10>"
      ]
     },
     "execution_count": 328,
     "metadata": {},
     "output_type": "execute_result"
    },
    {
     "data": {
      "image/png": "[encoded data removed]",
      "text/plain": [
       "<Figure size 640x480 with 2 Axes>"
      ]
     },
     "metadata": {},
     "output_type": "display_data"
    }
   ],
   "source": [
    "cm = confusion_matrix(y_test, y_pred)\n",
    "cm_small = cm[0:5, 0:5]\n",
    "cm_small_ratio = cm_small / cm_small.sum()\n",
    "disp = ConfusionMatrixDisplay(confusion_matrix=cm_small)\n",
    "disp.plot(cmap=plt.cm.Blues)"
   ]
  },
  {
   "cell_type": "code",
   "execution_count": 249,
   "metadata": {},
   "outputs": [
    {
     "data": {
      "image/png": "[encoded data removed]",
      "text/plain": [
       "<Figure size 640x480 with 1 Axes>"
      ]
     },
     "metadata": {},
     "output_type": "display_data"
    }
   ],
   "source": [
    "# use dataframe to create a boxplot with seaborn\n",
    "ax = sns.boxplot(data=df_scores)\n",
    "ax.set(\n",
    "    title=\"Comparison of Classification Algorithms\",\n",
    "    # xlabel=\"estimator\",\n",
    "    # ylabel=\"score\", \n",
    ")\n",
    "plt.show()"
   ]
  },
  {
   "cell_type": "markdown",
   "metadata": {},
   "source": [
    "### Hyper-Parameter Boosting"
   ]
  },
  {
   "cell_type": "markdown",
   "metadata": {},
   "source": [
    "#### Ridge Classifier"
   ]
  },
  {
   "cell_type": "code",
   "execution_count": 233,
   "metadata": {},
   "outputs": [],
   "source": [
    "# we first have a closer look at the Ridge Classifier\n",
    "from sklearn.model_selection import GridSearchCV"
   ]
  },
  {
   "cell_type": "code",
   "execution_count": 234,
   "metadata": {},
   "outputs": [
    {
     "data": {
      "text/html": [
       "<style>#sk-container-id-12 {color: black;}#sk-container-id-12 pre{padding: 0;}#sk-container-id-12 div.sk-toggleable {background-color: white;}#sk-container-id-12 label.sk-toggleable__label {cursor: pointer;display: block;width: 100%;margin-bottom: 0;padding: 0.3em;box-sizing: border-box;text-align: center;}#sk-container-id-12 label.sk-toggleable__label-arrow:before {content: \"▸\";float: left;margin-right: 0.25em;color: #696969;}#sk-container-id-12 label.sk-toggleable__label-arrow:hover:before {color: black;}#sk-container-id-12 div.sk-estimator:hover label.sk-toggleable__label-arrow:before {color: black;}#sk-container-id-12 div.sk-toggleable__content {max-height: 0;max-width: 0;overflow: hidden;text-align: left;background-color: #f0f8ff;}#sk-container-id-12 div.sk-toggleable__content pre {margin: 0.2em;color: black;border-radius: 0.25em;background-color: #f0f8ff;}#sk-container-id-12 input.sk-toggleable__control:checked~div.sk-toggleable__content {max-height: 200px;max-width: 100%;overflow: auto;}#sk-container-id-12 input.sk-toggleable__control:checked~label.sk-toggleable__label-arrow:before {content: \"▾\";}#sk-container-id-12 div.sk-estimator input.sk-toggleable__control:checked~label.sk-toggleable__label {background-color: #d4ebff;}#sk-container-id-12 div.sk-label input.sk-toggleable__control:checked~label.sk-toggleable__label {background-color: #d4ebff;}#sk-container-id-12 input.sk-hidden--visually {border: 0;clip: rect(1px 1px 1px 1px);clip: rect(1px, 1px, 1px, 1px);height: 1px;margin: -1px;overflow: hidden;padding: 0;position: absolute;width: 1px;}#sk-container-id-12 div.sk-estimator {font-family: monospace;background-color: #f0f8ff;border: 1px dotted black;border-radius: 0.25em;box-sizing: border-box;margin-bottom: 0.5em;}#sk-container-id-12 div.sk-estimator:hover {background-color: #d4ebff;}#sk-container-id-12 div.sk-parallel-item::after {content: \"\";width: 100%;border-bottom: 1px solid gray;flex-grow: 1;}#sk-container-id-12 div.sk-label:hover label.sk-toggleable__label {background-color: #d4ebff;}#sk-container-id-12 div.sk-serial::before {content: \"\";position: absolute;border-left: 1px solid gray;box-sizing: border-box;top: 0;bottom: 0;left: 50%;z-index: 0;}#sk-container-id-12 div.sk-serial {display: flex;flex-direction: column;align-items: center;background-color: white;padding-right: 0.2em;padding-left: 0.2em;position: relative;}#sk-container-id-12 div.sk-item {position: relative;z-index: 1;}#sk-container-id-12 div.sk-parallel {display: flex;align-items: stretch;justify-content: center;background-color: white;position: relative;}#sk-container-id-12 div.sk-item::before, #sk-container-id-12 div.sk-parallel-item::before {content: \"\";position: absolute;border-left: 1px solid gray;box-sizing: border-box;top: 0;bottom: 0;left: 50%;z-index: -1;}#sk-container-id-12 div.sk-parallel-item {display: flex;flex-direction: column;z-index: 1;position: relative;background-color: white;}#sk-container-id-12 div.sk-parallel-item:first-child::after {align-self: flex-end;width: 50%;}#sk-container-id-12 div.sk-parallel-item:last-child::after {align-self: flex-start;width: 50%;}#sk-container-id-12 div.sk-parallel-item:only-child::after {width: 0;}#sk-container-id-12 div.sk-dashed-wrapped {border: 1px dashed gray;margin: 0 0.4em 0.5em 0.4em;box-sizing: border-box;padding-bottom: 0.4em;background-color: white;}#sk-container-id-12 div.sk-label label {font-family: monospace;font-weight: bold;display: inline-block;line-height: 1.2em;}#sk-container-id-12 div.sk-label-container {text-align: center;}#sk-container-id-12 div.sk-container {/* jupyter's `normalize.less` sets `[hidden] { display: none; }` but bootstrap.min.css set `[hidden] { display: none !important; }` so we also need the `!important` here to be able to override the default hidden behavior on the sphinx rendered scikit-learn.org. See: https://github.com/scikit-learn/scikit-learn/issues/21755 */display: inline-block !important;position: relative;}#sk-container-id-12 div.sk-text-repr-fallback {display: none;}</style><div id=\"sk-container-id-12\" class=\"sk-top-container\"><div class=\"sk-text-repr-fallback\"><pre>GridSearchCV(cv=KFold(n_splits=5, random_state=12, shuffle=True),\n",
       "             estimator=RidgeClassifier(),\n",
       "             param_grid=[{&#x27;alpha&#x27;: array([0.1, 0.2, 0.3, 0.4, 0.5, 0.6, 0.7, 0.8, 0.9, 1. , 1.1, 1.2, 1.3,\n",
       "       1.4])}])</pre><b>In a Jupyter environment, please rerun this cell to show the HTML representation or trust the notebook. <br />On GitHub, the HTML representation is unable to render, please try loading this page with nbviewer.org.</b></div><div class=\"sk-container\" hidden><div class=\"sk-item sk-dashed-wrapped\"><div class=\"sk-label-container\"><div class=\"sk-label sk-toggleable\"><input class=\"sk-toggleable__control sk-hidden--visually\" id=\"sk-estimator-id-16\" type=\"checkbox\" ><label for=\"sk-estimator-id-16\" class=\"sk-toggleable__label sk-toggleable__label-arrow\">GridSearchCV</label><div class=\"sk-toggleable__content\"><pre>GridSearchCV(cv=KFold(n_splits=5, random_state=12, shuffle=True),\n",
       "             estimator=RidgeClassifier(),\n",
       "             param_grid=[{&#x27;alpha&#x27;: array([0.1, 0.2, 0.3, 0.4, 0.5, 0.6, 0.7, 0.8, 0.9, 1. , 1.1, 1.2, 1.3,\n",
       "       1.4])}])</pre></div></div></div><div class=\"sk-parallel\"><div class=\"sk-parallel-item\"><div class=\"sk-item\"><div class=\"sk-label-container\"><div class=\"sk-label sk-toggleable\"><input class=\"sk-toggleable__control sk-hidden--visually\" id=\"sk-estimator-id-17\" type=\"checkbox\" ><label for=\"sk-estimator-id-17\" class=\"sk-toggleable__label sk-toggleable__label-arrow\">estimator: RidgeClassifier</label><div class=\"sk-toggleable__content\"><pre>RidgeClassifier()</pre></div></div></div><div class=\"sk-serial\"><div class=\"sk-item\"><div class=\"sk-estimator sk-toggleable\"><input class=\"sk-toggleable__control sk-hidden--visually\" id=\"sk-estimator-id-18\" type=\"checkbox\" ><label for=\"sk-estimator-id-18\" class=\"sk-toggleable__label sk-toggleable__label-arrow\">RidgeClassifier</label><div class=\"sk-toggleable__content\"><pre>RidgeClassifier()</pre></div></div></div></div></div></div></div></div></div></div>"
      ],
      "text/plain": [
       "GridSearchCV(cv=KFold(n_splits=5, random_state=12, shuffle=True),\n",
       "             estimator=RidgeClassifier(),\n",
       "             param_grid=[{'alpha': array([0.1, 0.2, 0.3, 0.4, 0.5, 0.6, 0.7, 0.8, 0.9, 1. , 1.1, 1.2, 1.3,\n",
       "       1.4])}])"
      ]
     },
     "execution_count": 234,
     "metadata": {},
     "output_type": "execute_result"
    }
   ],
   "source": [
    "# determine cross validation scores for regulization strength alpha\n",
    "ridge_params = [{\"alpha\": np.arange(0.1, 1.5, 0.1)}]\n",
    "ridge_cv = GridSearchCV(RidgeClassifier(), ridge_params, cv=kf)\n",
    "ridge_cv.fit(X_train, y_train)"
   ]
  },
  {
   "cell_type": "code",
   "execution_count": 235,
   "metadata": {},
   "outputs": [
    {
     "data": {
      "text/html": [
       "<div>\n",
       "<style scoped>\n",
       "    .dataframe tbody tr th:only-of-type {\n",
       "        vertical-align: middle;\n",
       "    }\n",
       "\n",
       "    .dataframe tbody tr th {\n",
       "        vertical-align: top;\n",
       "    }\n",
       "\n",
       "    .dataframe thead th {\n",
       "        text-align: right;\n",
       "    }\n",
       "</style>\n",
       "<table border=\"1\" class=\"dataframe\">\n",
       "  <thead>\n",
       "    <tr style=\"text-align: right;\">\n",
       "      <th></th>\n",
       "      <th>mean_fit_time</th>\n",
       "      <th>std_fit_time</th>\n",
       "      <th>mean_score_time</th>\n",
       "      <th>std_score_time</th>\n",
       "      <th>param_alpha</th>\n",
       "      <th>params</th>\n",
       "      <th>split0_test_score</th>\n",
       "      <th>split1_test_score</th>\n",
       "      <th>split2_test_score</th>\n",
       "      <th>split3_test_score</th>\n",
       "      <th>split4_test_score</th>\n",
       "      <th>mean_test_score</th>\n",
       "      <th>std_test_score</th>\n",
       "      <th>rank_test_score</th>\n",
       "    </tr>\n",
       "  </thead>\n",
       "  <tbody>\n",
       "    <tr>\n",
       "      <th>0</th>\n",
       "      <td>0.452611</td>\n",
       "      <td>0.046812</td>\n",
       "      <td>0.047602</td>\n",
       "      <td>0.004940</td>\n",
       "      <td>0.1</td>\n",
       "      <td>{'alpha': 0.1}</td>\n",
       "      <td>0.723267</td>\n",
       "      <td>0.721400</td>\n",
       "      <td>0.721238</td>\n",
       "      <td>0.720616</td>\n",
       "      <td>0.724438</td>\n",
       "      <td>0.722192</td>\n",
       "      <td>0.001430</td>\n",
       "      <td>10</td>\n",
       "    </tr>\n",
       "    <tr>\n",
       "      <th>1</th>\n",
       "      <td>0.390188</td>\n",
       "      <td>0.007011</td>\n",
       "      <td>0.042914</td>\n",
       "      <td>0.002452</td>\n",
       "      <td>0.2</td>\n",
       "      <td>{'alpha': 0.2}</td>\n",
       "      <td>0.723311</td>\n",
       "      <td>0.721400</td>\n",
       "      <td>0.721238</td>\n",
       "      <td>0.720616</td>\n",
       "      <td>0.724438</td>\n",
       "      <td>0.722201</td>\n",
       "      <td>0.001437</td>\n",
       "      <td>3</td>\n",
       "    </tr>\n",
       "    <tr>\n",
       "      <th>2</th>\n",
       "      <td>0.368441</td>\n",
       "      <td>0.012336</td>\n",
       "      <td>0.046708</td>\n",
       "      <td>0.006815</td>\n",
       "      <td>0.3</td>\n",
       "      <td>{'alpha': 0.30000000000000004}</td>\n",
       "      <td>0.723311</td>\n",
       "      <td>0.721400</td>\n",
       "      <td>0.721238</td>\n",
       "      <td>0.720616</td>\n",
       "      <td>0.724438</td>\n",
       "      <td>0.722201</td>\n",
       "      <td>0.001437</td>\n",
       "      <td>3</td>\n",
       "    </tr>\n",
       "    <tr>\n",
       "      <th>3</th>\n",
       "      <td>0.364835</td>\n",
       "      <td>0.018210</td>\n",
       "      <td>0.044641</td>\n",
       "      <td>0.005542</td>\n",
       "      <td>0.4</td>\n",
       "      <td>{'alpha': 0.4}</td>\n",
       "      <td>0.723311</td>\n",
       "      <td>0.721400</td>\n",
       "      <td>0.721238</td>\n",
       "      <td>0.720616</td>\n",
       "      <td>0.724438</td>\n",
       "      <td>0.722201</td>\n",
       "      <td>0.001437</td>\n",
       "      <td>3</td>\n",
       "    </tr>\n",
       "    <tr>\n",
       "      <th>4</th>\n",
       "      <td>0.346539</td>\n",
       "      <td>0.006959</td>\n",
       "      <td>0.044784</td>\n",
       "      <td>0.010941</td>\n",
       "      <td>0.5</td>\n",
       "      <td>{'alpha': 0.5}</td>\n",
       "      <td>0.723311</td>\n",
       "      <td>0.721400</td>\n",
       "      <td>0.721238</td>\n",
       "      <td>0.720616</td>\n",
       "      <td>0.724416</td>\n",
       "      <td>0.722196</td>\n",
       "      <td>0.001430</td>\n",
       "      <td>8</td>\n",
       "    </tr>\n",
       "    <tr>\n",
       "      <th>5</th>\n",
       "      <td>0.372150</td>\n",
       "      <td>0.023698</td>\n",
       "      <td>0.042736</td>\n",
       "      <td>0.003025</td>\n",
       "      <td>0.6</td>\n",
       "      <td>{'alpha': 0.6}</td>\n",
       "      <td>0.723311</td>\n",
       "      <td>0.721400</td>\n",
       "      <td>0.721238</td>\n",
       "      <td>0.720616</td>\n",
       "      <td>0.724394</td>\n",
       "      <td>0.722192</td>\n",
       "      <td>0.001423</td>\n",
       "      <td>11</td>\n",
       "    </tr>\n",
       "    <tr>\n",
       "      <th>6</th>\n",
       "      <td>0.366889</td>\n",
       "      <td>0.024548</td>\n",
       "      <td>0.041351</td>\n",
       "      <td>0.004163</td>\n",
       "      <td>0.7</td>\n",
       "      <td>{'alpha': 0.7000000000000001}</td>\n",
       "      <td>0.723311</td>\n",
       "      <td>0.721400</td>\n",
       "      <td>0.721238</td>\n",
       "      <td>0.720616</td>\n",
       "      <td>0.724394</td>\n",
       "      <td>0.722192</td>\n",
       "      <td>0.001423</td>\n",
       "      <td>11</td>\n",
       "    </tr>\n",
       "    <tr>\n",
       "      <th>7</th>\n",
       "      <td>0.364849</td>\n",
       "      <td>0.032099</td>\n",
       "      <td>0.040254</td>\n",
       "      <td>0.001303</td>\n",
       "      <td>0.8</td>\n",
       "      <td>{'alpha': 0.8}</td>\n",
       "      <td>0.723311</td>\n",
       "      <td>0.721422</td>\n",
       "      <td>0.721238</td>\n",
       "      <td>0.720616</td>\n",
       "      <td>0.724394</td>\n",
       "      <td>0.722196</td>\n",
       "      <td>0.001420</td>\n",
       "      <td>9</td>\n",
       "    </tr>\n",
       "    <tr>\n",
       "      <th>8</th>\n",
       "      <td>0.359779</td>\n",
       "      <td>0.003888</td>\n",
       "      <td>0.041906</td>\n",
       "      <td>0.002298</td>\n",
       "      <td>0.9</td>\n",
       "      <td>{'alpha': 0.9}</td>\n",
       "      <td>0.723311</td>\n",
       "      <td>0.721422</td>\n",
       "      <td>0.721238</td>\n",
       "      <td>0.720638</td>\n",
       "      <td>0.724394</td>\n",
       "      <td>0.722201</td>\n",
       "      <td>0.001415</td>\n",
       "      <td>6</td>\n",
       "    </tr>\n",
       "    <tr>\n",
       "      <th>9</th>\n",
       "      <td>0.353251</td>\n",
       "      <td>0.010124</td>\n",
       "      <td>0.040812</td>\n",
       "      <td>0.000972</td>\n",
       "      <td>1.0</td>\n",
       "      <td>{'alpha': 1.0}</td>\n",
       "      <td>0.723311</td>\n",
       "      <td>0.721422</td>\n",
       "      <td>0.721238</td>\n",
       "      <td>0.720638</td>\n",
       "      <td>0.724394</td>\n",
       "      <td>0.722201</td>\n",
       "      <td>0.001415</td>\n",
       "      <td>6</td>\n",
       "    </tr>\n",
       "    <tr>\n",
       "      <th>10</th>\n",
       "      <td>0.356165</td>\n",
       "      <td>0.007289</td>\n",
       "      <td>0.041187</td>\n",
       "      <td>0.001960</td>\n",
       "      <td>1.1</td>\n",
       "      <td>{'alpha': 1.1}</td>\n",
       "      <td>0.723311</td>\n",
       "      <td>0.721489</td>\n",
       "      <td>0.721238</td>\n",
       "      <td>0.720638</td>\n",
       "      <td>0.724394</td>\n",
       "      <td>0.722214</td>\n",
       "      <td>0.001408</td>\n",
       "      <td>1</td>\n",
       "    </tr>\n",
       "    <tr>\n",
       "      <th>11</th>\n",
       "      <td>0.350110</td>\n",
       "      <td>0.007290</td>\n",
       "      <td>0.039518</td>\n",
       "      <td>0.001791</td>\n",
       "      <td>1.2</td>\n",
       "      <td>{'alpha': 1.2000000000000002}</td>\n",
       "      <td>0.723311</td>\n",
       "      <td>0.721489</td>\n",
       "      <td>0.721238</td>\n",
       "      <td>0.720616</td>\n",
       "      <td>0.724394</td>\n",
       "      <td>0.722210</td>\n",
       "      <td>0.001413</td>\n",
       "      <td>2</td>\n",
       "    </tr>\n",
       "    <tr>\n",
       "      <th>12</th>\n",
       "      <td>0.356852</td>\n",
       "      <td>0.020596</td>\n",
       "      <td>0.041408</td>\n",
       "      <td>0.004283</td>\n",
       "      <td>1.3</td>\n",
       "      <td>{'alpha': 1.3000000000000003}</td>\n",
       "      <td>0.723267</td>\n",
       "      <td>0.721489</td>\n",
       "      <td>0.721238</td>\n",
       "      <td>0.720616</td>\n",
       "      <td>0.724349</td>\n",
       "      <td>0.722192</td>\n",
       "      <td>0.001393</td>\n",
       "      <td>13</td>\n",
       "    </tr>\n",
       "    <tr>\n",
       "      <th>13</th>\n",
       "      <td>0.354749</td>\n",
       "      <td>0.012068</td>\n",
       "      <td>0.039732</td>\n",
       "      <td>0.001316</td>\n",
       "      <td>1.4</td>\n",
       "      <td>{'alpha': 1.4000000000000001}</td>\n",
       "      <td>0.723267</td>\n",
       "      <td>0.721489</td>\n",
       "      <td>0.721238</td>\n",
       "      <td>0.720616</td>\n",
       "      <td>0.724349</td>\n",
       "      <td>0.722192</td>\n",
       "      <td>0.001393</td>\n",
       "      <td>13</td>\n",
       "    </tr>\n",
       "  </tbody>\n",
       "</table>\n",
       "</div>"
      ],
      "text/plain": [
       "    mean_fit_time  std_fit_time  mean_score_time  std_score_time param_alpha  \\\n",
       "0        0.452611      0.046812         0.047602        0.004940         0.1   \n",
       "1        0.390188      0.007011         0.042914        0.002452         0.2   \n",
       "2        0.368441      0.012336         0.046708        0.006815         0.3   \n",
       "3        0.364835      0.018210         0.044641        0.005542         0.4   \n",
       "4        0.346539      0.006959         0.044784        0.010941         0.5   \n",
       "5        0.372150      0.023698         0.042736        0.003025         0.6   \n",
       "6        0.366889      0.024548         0.041351        0.004163         0.7   \n",
       "7        0.364849      0.032099         0.040254        0.001303         0.8   \n",
       "8        0.359779      0.003888         0.041906        0.002298         0.9   \n",
       "9        0.353251      0.010124         0.040812        0.000972         1.0   \n",
       "10       0.356165      0.007289         0.041187        0.001960         1.1   \n",
       "11       0.350110      0.007290         0.039518        0.001791         1.2   \n",
       "12       0.356852      0.020596         0.041408        0.004283         1.3   \n",
       "13       0.354749      0.012068         0.039732        0.001316         1.4   \n",
       "\n",
       "                            params  split0_test_score  split1_test_score  \\\n",
       "0                   {'alpha': 0.1}           0.723267           0.721400   \n",
       "1                   {'alpha': 0.2}           0.723311           0.721400   \n",
       "2   {'alpha': 0.30000000000000004}           0.723311           0.721400   \n",
       "3                   {'alpha': 0.4}           0.723311           0.721400   \n",
       "4                   {'alpha': 0.5}           0.723311           0.721400   \n",
       "5                   {'alpha': 0.6}           0.723311           0.721400   \n",
       "6    {'alpha': 0.7000000000000001}           0.723311           0.721400   \n",
       "7                   {'alpha': 0.8}           0.723311           0.721422   \n",
       "8                   {'alpha': 0.9}           0.723311           0.721422   \n",
       "9                   {'alpha': 1.0}           0.723311           0.721422   \n",
       "10                  {'alpha': 1.1}           0.723311           0.721489   \n",
       "11   {'alpha': 1.2000000000000002}           0.723311           0.721489   \n",
       "12   {'alpha': 1.3000000000000003}           0.723267           0.721489   \n",
       "13   {'alpha': 1.4000000000000001}           0.723267           0.721489   \n",
       "\n",
       "    split2_test_score  split3_test_score  split4_test_score  mean_test_score  \\\n",
       "0            0.721238           0.720616           0.724438         0.722192   \n",
       "1            0.721238           0.720616           0.724438         0.722201   \n",
       "2            0.721238           0.720616           0.724438         0.722201   \n",
       "3            0.721238           0.720616           0.724438         0.722201   \n",
       "4            0.721238           0.720616           0.724416         0.722196   \n",
       "5            0.721238           0.720616           0.724394         0.722192   \n",
       "6            0.721238           0.720616           0.724394         0.722192   \n",
       "7            0.721238           0.720616           0.724394         0.722196   \n",
       "8            0.721238           0.720638           0.724394         0.722201   \n",
       "9            0.721238           0.720638           0.724394         0.722201   \n",
       "10           0.721238           0.720638           0.724394         0.722214   \n",
       "11           0.721238           0.720616           0.724394         0.722210   \n",
       "12           0.721238           0.720616           0.724349         0.722192   \n",
       "13           0.721238           0.720616           0.724349         0.722192   \n",
       "\n",
       "    std_test_score  rank_test_score  \n",
       "0         0.001430               10  \n",
       "1         0.001437                3  \n",
       "2         0.001437                3  \n",
       "3         0.001437                3  \n",
       "4         0.001430                8  \n",
       "5         0.001423               11  \n",
       "6         0.001423               11  \n",
       "7         0.001420                9  \n",
       "8         0.001415                6  \n",
       "9         0.001415                6  \n",
       "10        0.001408                1  \n",
       "11        0.001413                2  \n",
       "12        0.001393               13  \n",
       "13        0.001393               13  "
      ]
     },
     "execution_count": 235,
     "metadata": {},
     "output_type": "execute_result"
    }
   ],
   "source": [
    "# store results in a pandas dataframe\n",
    "ridge_cv_res = pd.DataFrame.from_dict(ridge_cv.cv_results_)\n",
    "ridge_cv_res"
   ]
  },
  {
   "cell_type": "code",
   "execution_count": 236,
   "metadata": {},
   "outputs": [
    {
     "data": {
      "image/png": "[encoded data removed]",
      "text/plain": [
       "<Figure size 640x480 with 1 Axes>"
      ]
     },
     "metadata": {},
     "output_type": "display_data"
    }
   ],
   "source": [
    "# plot the score against the parameter alhpa\n",
    "ax = sns.lineplot(data=ridge_cv_res, x = \"param_alpha\", y = \"mean_test_score\", marker=\"o\")\n",
    "ax.set(\n",
    "    title=\"Ridge Classifier: grid search for optimal parameter alpha\"\n",
    ")\n",
    "plt.show()"
   ]
  },
  {
   "cell_type": "code",
   "execution_count": 237,
   "metadata": {},
   "outputs": [
    {
     "data": {
      "text/html": [
       "<style>#sk-container-id-13 {color: black;}#sk-container-id-13 pre{padding: 0;}#sk-container-id-13 div.sk-toggleable {background-color: white;}#sk-container-id-13 label.sk-toggleable__label {cursor: pointer;display: block;width: 100%;margin-bottom: 0;padding: 0.3em;box-sizing: border-box;text-align: center;}#sk-container-id-13 label.sk-toggleable__label-arrow:before {content: \"▸\";float: left;margin-right: 0.25em;color: #696969;}#sk-container-id-13 label.sk-toggleable__label-arrow:hover:before {color: black;}#sk-container-id-13 div.sk-estimator:hover label.sk-toggleable__label-arrow:before {color: black;}#sk-container-id-13 div.sk-toggleable__content {max-height: 0;max-width: 0;overflow: hidden;text-align: left;background-color: #f0f8ff;}#sk-container-id-13 div.sk-toggleable__content pre {margin: 0.2em;color: black;border-radius: 0.25em;background-color: #f0f8ff;}#sk-container-id-13 input.sk-toggleable__control:checked~div.sk-toggleable__content {max-height: 200px;max-width: 100%;overflow: auto;}#sk-container-id-13 input.sk-toggleable__control:checked~label.sk-toggleable__label-arrow:before {content: \"▾\";}#sk-container-id-13 div.sk-estimator input.sk-toggleable__control:checked~label.sk-toggleable__label {background-color: #d4ebff;}#sk-container-id-13 div.sk-label input.sk-toggleable__control:checked~label.sk-toggleable__label {background-color: #d4ebff;}#sk-container-id-13 input.sk-hidden--visually {border: 0;clip: rect(1px 1px 1px 1px);clip: rect(1px, 1px, 1px, 1px);height: 1px;margin: -1px;overflow: hidden;padding: 0;position: absolute;width: 1px;}#sk-container-id-13 div.sk-estimator {font-family: monospace;background-color: #f0f8ff;border: 1px dotted black;border-radius: 0.25em;box-sizing: border-box;margin-bottom: 0.5em;}#sk-container-id-13 div.sk-estimator:hover {background-color: #d4ebff;}#sk-container-id-13 div.sk-parallel-item::after {content: \"\";width: 100%;border-bottom: 1px solid gray;flex-grow: 1;}#sk-container-id-13 div.sk-label:hover label.sk-toggleable__label {background-color: #d4ebff;}#sk-container-id-13 div.sk-serial::before {content: \"\";position: absolute;border-left: 1px solid gray;box-sizing: border-box;top: 0;bottom: 0;left: 50%;z-index: 0;}#sk-container-id-13 div.sk-serial {display: flex;flex-direction: column;align-items: center;background-color: white;padding-right: 0.2em;padding-left: 0.2em;position: relative;}#sk-container-id-13 div.sk-item {position: relative;z-index: 1;}#sk-container-id-13 div.sk-parallel {display: flex;align-items: stretch;justify-content: center;background-color: white;position: relative;}#sk-container-id-13 div.sk-item::before, #sk-container-id-13 div.sk-parallel-item::before {content: \"\";position: absolute;border-left: 1px solid gray;box-sizing: border-box;top: 0;bottom: 0;left: 50%;z-index: -1;}#sk-container-id-13 div.sk-parallel-item {display: flex;flex-direction: column;z-index: 1;position: relative;background-color: white;}#sk-container-id-13 div.sk-parallel-item:first-child::after {align-self: flex-end;width: 50%;}#sk-container-id-13 div.sk-parallel-item:last-child::after {align-self: flex-start;width: 50%;}#sk-container-id-13 div.sk-parallel-item:only-child::after {width: 0;}#sk-container-id-13 div.sk-dashed-wrapped {border: 1px dashed gray;margin: 0 0.4em 0.5em 0.4em;box-sizing: border-box;padding-bottom: 0.4em;background-color: white;}#sk-container-id-13 div.sk-label label {font-family: monospace;font-weight: bold;display: inline-block;line-height: 1.2em;}#sk-container-id-13 div.sk-label-container {text-align: center;}#sk-container-id-13 div.sk-container {/* jupyter's `normalize.less` sets `[hidden] { display: none; }` but bootstrap.min.css set `[hidden] { display: none !important; }` so we also need the `!important` here to be able to override the default hidden behavior on the sphinx rendered scikit-learn.org. See: https://github.com/scikit-learn/scikit-learn/issues/21755 */display: inline-block !important;position: relative;}#sk-container-id-13 div.sk-text-repr-fallback {display: none;}</style><div id=\"sk-container-id-13\" class=\"sk-top-container\"><div class=\"sk-text-repr-fallback\"><pre>RidgeClassifier(alpha=1.1)</pre><b>In a Jupyter environment, please rerun this cell to show the HTML representation or trust the notebook. <br />On GitHub, the HTML representation is unable to render, please try loading this page with nbviewer.org.</b></div><div class=\"sk-container\" hidden><div class=\"sk-item\"><div class=\"sk-estimator sk-toggleable\"><input class=\"sk-toggleable__control sk-hidden--visually\" id=\"sk-estimator-id-19\" type=\"checkbox\" checked><label for=\"sk-estimator-id-19\" class=\"sk-toggleable__label sk-toggleable__label-arrow\">RidgeClassifier</label><div class=\"sk-toggleable__content\"><pre>RidgeClassifier(alpha=1.1)</pre></div></div></div></div></div>"
      ],
      "text/plain": [
       "RidgeClassifier(alpha=1.1)"
      ]
     },
     "execution_count": 237,
     "metadata": {},
     "output_type": "execute_result"
    }
   ],
   "source": [
    "# return the best estimator\n",
    "ridge_cv.best_estimator_"
   ]
  },
  {
   "cell_type": "markdown",
   "metadata": {},
   "source": [
    "#### Bernoulli Naive Bayes Classifier"
   ]
  },
  {
   "cell_type": "code",
   "execution_count": 238,
   "metadata": {},
   "outputs": [],
   "source": [
    "bernoulli_params = {\n",
    "    \"alpha\": np.arange(0.1, 1.5, 0.1),\n",
    "    # \"fit_prior\": [True, False]\n",
    "    }\n",
    "bernoulli_cv = GridSearchCV(BernoulliNB(binarize=None), bernoulli_params, cv=kf)\n",
    "bernoulli_cv.fit(X_train, y_train)\n",
    "bernoulli_cv_res = pd.DataFrame.from_dict(bernoulli_cv.cv_results_)"
   ]
  },
  {
   "cell_type": "code",
   "execution_count": 239,
   "metadata": {},
   "outputs": [
    {
     "data": {
      "image/png": "[encoded data removed]",
      "text/plain": [
       "<Figure size 640x480 with 1 Axes>"
      ]
     },
     "metadata": {},
     "output_type": "display_data"
    }
   ],
   "source": [
    "ax = sns.lineplot(data=bernoulli_cv_res, x=\"param_alpha\", y=\"mean_test_score\", marker=\"o\")\n",
    "ax.set(\n",
    "    title=\"bernoulli grid search\"\n",
    ")\n",
    "plt.show()"
   ]
  },
  {
   "cell_type": "code",
   "execution_count": 240,
   "metadata": {},
   "outputs": [
    {
     "data": {
      "text/html": [
       "<style>#sk-container-id-14 {color: black;}#sk-container-id-14 pre{padding: 0;}#sk-container-id-14 div.sk-toggleable {background-color: white;}#sk-container-id-14 label.sk-toggleable__label {cursor: pointer;display: block;width: 100%;margin-bottom: 0;padding: 0.3em;box-sizing: border-box;text-align: center;}#sk-container-id-14 label.sk-toggleable__label-arrow:before {content: \"▸\";float: left;margin-right: 0.25em;color: #696969;}#sk-container-id-14 label.sk-toggleable__label-arrow:hover:before {color: black;}#sk-container-id-14 div.sk-estimator:hover label.sk-toggleable__label-arrow:before {color: black;}#sk-container-id-14 div.sk-toggleable__content {max-height: 0;max-width: 0;overflow: hidden;text-align: left;background-color: #f0f8ff;}#sk-container-id-14 div.sk-toggleable__content pre {margin: 0.2em;color: black;border-radius: 0.25em;background-color: #f0f8ff;}#sk-container-id-14 input.sk-toggleable__control:checked~div.sk-toggleable__content {max-height: 200px;max-width: 100%;overflow: auto;}#sk-container-id-14 input.sk-toggleable__control:checked~label.sk-toggleable__label-arrow:before {content: \"▾\";}#sk-container-id-14 div.sk-estimator input.sk-toggleable__control:checked~label.sk-toggleable__label {background-color: #d4ebff;}#sk-container-id-14 div.sk-label input.sk-toggleable__control:checked~label.sk-toggleable__label {background-color: #d4ebff;}#sk-container-id-14 input.sk-hidden--visually {border: 0;clip: rect(1px 1px 1px 1px);clip: rect(1px, 1px, 1px, 1px);height: 1px;margin: -1px;overflow: hidden;padding: 0;position: absolute;width: 1px;}#sk-container-id-14 div.sk-estimator {font-family: monospace;background-color: #f0f8ff;border: 1px dotted black;border-radius: 0.25em;box-sizing: border-box;margin-bottom: 0.5em;}#sk-container-id-14 div.sk-estimator:hover {background-color: #d4ebff;}#sk-container-id-14 div.sk-parallel-item::after {content: \"\";width: 100%;border-bottom: 1px solid gray;flex-grow: 1;}#sk-container-id-14 div.sk-label:hover label.sk-toggleable__label {background-color: #d4ebff;}#sk-container-id-14 div.sk-serial::before {content: \"\";position: absolute;border-left: 1px solid gray;box-sizing: border-box;top: 0;bottom: 0;left: 50%;z-index: 0;}#sk-container-id-14 div.sk-serial {display: flex;flex-direction: column;align-items: center;background-color: white;padding-right: 0.2em;padding-left: 0.2em;position: relative;}#sk-container-id-14 div.sk-item {position: relative;z-index: 1;}#sk-container-id-14 div.sk-parallel {display: flex;align-items: stretch;justify-content: center;background-color: white;position: relative;}#sk-container-id-14 div.sk-item::before, #sk-container-id-14 div.sk-parallel-item::before {content: \"\";position: absolute;border-left: 1px solid gray;box-sizing: border-box;top: 0;bottom: 0;left: 50%;z-index: -1;}#sk-container-id-14 div.sk-parallel-item {display: flex;flex-direction: column;z-index: 1;position: relative;background-color: white;}#sk-container-id-14 div.sk-parallel-item:first-child::after {align-self: flex-end;width: 50%;}#sk-container-id-14 div.sk-parallel-item:last-child::after {align-self: flex-start;width: 50%;}#sk-container-id-14 div.sk-parallel-item:only-child::after {width: 0;}#sk-container-id-14 div.sk-dashed-wrapped {border: 1px dashed gray;margin: 0 0.4em 0.5em 0.4em;box-sizing: border-box;padding-bottom: 0.4em;background-color: white;}#sk-container-id-14 div.sk-label label {font-family: monospace;font-weight: bold;display: inline-block;line-height: 1.2em;}#sk-container-id-14 div.sk-label-container {text-align: center;}#sk-container-id-14 div.sk-container {/* jupyter's `normalize.less` sets `[hidden] { display: none; }` but bootstrap.min.css set `[hidden] { display: none !important; }` so we also need the `!important` here to be able to override the default hidden behavior on the sphinx rendered scikit-learn.org. See: https://github.com/scikit-learn/scikit-learn/issues/21755 */display: inline-block !important;position: relative;}#sk-container-id-14 div.sk-text-repr-fallback {display: none;}</style><div id=\"sk-container-id-14\" class=\"sk-top-container\"><div class=\"sk-text-repr-fallback\"><pre>BernoulliNB(alpha=0.1, binarize=None)</pre><b>In a Jupyter environment, please rerun this cell to show the HTML representation or trust the notebook. <br />On GitHub, the HTML representation is unable to render, please try loading this page with nbviewer.org.</b></div><div class=\"sk-container\" hidden><div class=\"sk-item\"><div class=\"sk-estimator sk-toggleable\"><input class=\"sk-toggleable__control sk-hidden--visually\" id=\"sk-estimator-id-20\" type=\"checkbox\" checked><label for=\"sk-estimator-id-20\" class=\"sk-toggleable__label sk-toggleable__label-arrow\">BernoulliNB</label><div class=\"sk-toggleable__content\"><pre>BernoulliNB(alpha=0.1, binarize=None)</pre></div></div></div></div></div>"
      ],
      "text/plain": [
       "BernoulliNB(alpha=0.1, binarize=None)"
      ]
     },
     "execution_count": 240,
     "metadata": {},
     "output_type": "execute_result"
    }
   ],
   "source": [
    "bernoulli_cv.best_estimator_"
   ]
  },
  {
   "cell_type": "markdown",
   "metadata": {},
   "source": [
    "#### Decision Tree Classifier"
   ]
  },
  {
   "cell_type": "code",
   "execution_count": 258,
   "metadata": {},
   "outputs": [],
   "source": [
    "tree_params = [\n",
    "    {\n",
    "        \"criterion\": [\"gini\", \"entropy\", \"log_loss\"], \n",
    "        \"max_depth\": np.arange(1, 11),\n",
    "        }\n",
    "    ]\n",
    "tree_cv = GridSearchCV(DecisionTreeClassifier(random_state=42), tree_params, cv=kf)\n",
    "tree_cv.fit(X_train, y_train)\n",
    "tree_cv_res = pd.DataFrame.from_dict(tree_cv.cv_results_)"
   ]
  },
  {
   "cell_type": "code",
   "execution_count": 259,
   "metadata": {},
   "outputs": [
    {
     "data": {
      "image/png": "[encoded data removed]",
      "text/plain": [
       "<Figure size 640x480 with 1 Axes>"
      ]
     },
     "metadata": {},
     "output_type": "display_data"
    }
   ],
   "source": [
    "# sns.lineplot(data=tree_cv_res, x=\"param_max_depth\", y = \"mean_test_score\", hue=\"param_min_samples_leaf\")\n",
    "# ax = sns.lineplot(data=tree_cv_res, x=\"param_min_samples_leaf\", y = \"mean_test_score\", hue=\"param_max_depth\")\n",
    "ax = sns.lineplot(data=tree_cv_res, x=\"param_max_depth\", y = \"mean_test_score\", hue=\"param_criterion\")\n",
    "ax.set(\n",
    "    title=\"decision tree grid search\"\n",
    ")\n",
    "plt.show()"
   ]
  },
  {
   "cell_type": "code",
   "execution_count": null,
   "metadata": {},
   "outputs": [],
   "source": [
    "tree_params_ = [\n",
    "    {\n",
    "        \"criterion\": [\"gini\", \"entropy\"], \n",
    "        \"max_depth\": np.arange(1, 11),\n",
    "        }\n",
    "    ]\n",
    "tree_cv = GridSearchCV(DecisionTreeClassifier(random_state=42), tree_params, cv=kf)\n",
    "tree_cv.fit(X_train, y_train)\n",
    "tree_cv_res = pd.DataFrame.from_dict(tree_cv.cv_results_)"
   ]
  },
  {
   "cell_type": "markdown",
   "metadata": {},
   "source": [
    "#### Random Forest"
   ]
  },
  {
   "cell_type": "code",
   "execution_count": 247,
   "metadata": {},
   "outputs": [],
   "source": [
    "from sklearn.ensemble import RandomForestClassifier"
   ]
  },
  {
   "cell_type": "code",
   "execution_count": 248,
   "metadata": {},
   "outputs": [
    {
     "data": {
      "text/plain": [
       "array([0.7296    , 0.72795556, 0.72846063, 0.7273495 , 0.72943843])"
      ]
     },
     "execution_count": 248,
     "metadata": {},
     "output_type": "execute_result"
    }
   ],
   "source": [
    "forest = RandomForestClassifier()\n",
    "cross_val_score(forest, X_train, y_train, cv=kf)\n"
   ]
  },
  {
   "cell_type": "code",
   "execution_count": 202,
   "metadata": {},
   "outputs": [
    {
     "data": {
      "text/html": [
       "<style>#sk-container-id-11 {color: black;}#sk-container-id-11 pre{padding: 0;}#sk-container-id-11 div.sk-toggleable {background-color: white;}#sk-container-id-11 label.sk-toggleable__label {cursor: pointer;display: block;width: 100%;margin-bottom: 0;padding: 0.3em;box-sizing: border-box;text-align: center;}#sk-container-id-11 label.sk-toggleable__label-arrow:before {content: \"▸\";float: left;margin-right: 0.25em;color: #696969;}#sk-container-id-11 label.sk-toggleable__label-arrow:hover:before {color: black;}#sk-container-id-11 div.sk-estimator:hover label.sk-toggleable__label-arrow:before {color: black;}#sk-container-id-11 div.sk-toggleable__content {max-height: 0;max-width: 0;overflow: hidden;text-align: left;background-color: #f0f8ff;}#sk-container-id-11 div.sk-toggleable__content pre {margin: 0.2em;color: black;border-radius: 0.25em;background-color: #f0f8ff;}#sk-container-id-11 input.sk-toggleable__control:checked~div.sk-toggleable__content {max-height: 200px;max-width: 100%;overflow: auto;}#sk-container-id-11 input.sk-toggleable__control:checked~label.sk-toggleable__label-arrow:before {content: \"▾\";}#sk-container-id-11 div.sk-estimator input.sk-toggleable__control:checked~label.sk-toggleable__label {background-color: #d4ebff;}#sk-container-id-11 div.sk-label input.sk-toggleable__control:checked~label.sk-toggleable__label {background-color: #d4ebff;}#sk-container-id-11 input.sk-hidden--visually {border: 0;clip: rect(1px 1px 1px 1px);clip: rect(1px, 1px, 1px, 1px);height: 1px;margin: -1px;overflow: hidden;padding: 0;position: absolute;width: 1px;}#sk-container-id-11 div.sk-estimator {font-family: monospace;background-color: #f0f8ff;border: 1px dotted black;border-radius: 0.25em;box-sizing: border-box;margin-bottom: 0.5em;}#sk-container-id-11 div.sk-estimator:hover {background-color: #d4ebff;}#sk-container-id-11 div.sk-parallel-item::after {content: \"\";width: 100%;border-bottom: 1px solid gray;flex-grow: 1;}#sk-container-id-11 div.sk-label:hover label.sk-toggleable__label {background-color: #d4ebff;}#sk-container-id-11 div.sk-serial::before {content: \"\";position: absolute;border-left: 1px solid gray;box-sizing: border-box;top: 0;bottom: 0;left: 50%;z-index: 0;}#sk-container-id-11 div.sk-serial {display: flex;flex-direction: column;align-items: center;background-color: white;padding-right: 0.2em;padding-left: 0.2em;position: relative;}#sk-container-id-11 div.sk-item {position: relative;z-index: 1;}#sk-container-id-11 div.sk-parallel {display: flex;align-items: stretch;justify-content: center;background-color: white;position: relative;}#sk-container-id-11 div.sk-item::before, #sk-container-id-11 div.sk-parallel-item::before {content: \"\";position: absolute;border-left: 1px solid gray;box-sizing: border-box;top: 0;bottom: 0;left: 50%;z-index: -1;}#sk-container-id-11 div.sk-parallel-item {display: flex;flex-direction: column;z-index: 1;position: relative;background-color: white;}#sk-container-id-11 div.sk-parallel-item:first-child::after {align-self: flex-end;width: 50%;}#sk-container-id-11 div.sk-parallel-item:last-child::after {align-self: flex-start;width: 50%;}#sk-container-id-11 div.sk-parallel-item:only-child::after {width: 0;}#sk-container-id-11 div.sk-dashed-wrapped {border: 1px dashed gray;margin: 0 0.4em 0.5em 0.4em;box-sizing: border-box;padding-bottom: 0.4em;background-color: white;}#sk-container-id-11 div.sk-label label {font-family: monospace;font-weight: bold;display: inline-block;line-height: 1.2em;}#sk-container-id-11 div.sk-label-container {text-align: center;}#sk-container-id-11 div.sk-container {/* jupyter's `normalize.less` sets `[hidden] { display: none; }` but bootstrap.min.css set `[hidden] { display: none !important; }` so we also need the `!important` here to be able to override the default hidden behavior on the sphinx rendered scikit-learn.org. See: https://github.com/scikit-learn/scikit-learn/issues/21755 */display: inline-block !important;position: relative;}#sk-container-id-11 div.sk-text-repr-fallback {display: none;}</style><div id=\"sk-container-id-11\" class=\"sk-top-container\"><div class=\"sk-text-repr-fallback\"><pre>DecisionTreeClassifier(max_depth=1, random_state=42)</pre><b>In a Jupyter environment, please rerun this cell to show the HTML representation or trust the notebook. <br />On GitHub, the HTML representation is unable to render, please try loading this page with nbviewer.org.</b></div><div class=\"sk-container\" hidden><div class=\"sk-item\"><div class=\"sk-estimator sk-toggleable\"><input class=\"sk-toggleable__control sk-hidden--visually\" id=\"sk-estimator-id-15\" type=\"checkbox\" checked><label for=\"sk-estimator-id-15\" class=\"sk-toggleable__label sk-toggleable__label-arrow\">DecisionTreeClassifier</label><div class=\"sk-toggleable__content\"><pre>DecisionTreeClassifier(max_depth=1, random_state=42)</pre></div></div></div></div></div>"
      ],
      "text/plain": [
       "DecisionTreeClassifier(max_depth=1, random_state=42)"
      ]
     },
     "execution_count": 202,
     "metadata": {},
     "output_type": "execute_result"
    }
   ],
   "source": [
    "tree_cv.best_estimator_"
   ]
  },
  {
   "cell_type": "markdown",
   "metadata": {},
   "source": [
    "### Random Forest"
   ]
  },
  {
   "cell_type": "code",
   "execution_count": 66,
   "metadata": {},
   "outputs": [
    {
     "data": {
      "text/plain": [
       "0.9802"
      ]
     },
     "execution_count": 66,
     "metadata": {},
     "output_type": "execute_result"
    }
   ],
   "source": [
    "# test random tree classifier\n",
    "from sklearn.ensemble import RandomForestClassifier\n",
    "\n",
    "# https://scikit-learn.org/stable/modules/generated/sklearn.ensemble.RandomForestClassifier.html#sklearn-ensemble-randomforestclassifier\n",
    "rf = RandomForestClassifier(\n",
    "    # n_estimators=10\n",
    "    )\n",
    "rf.fit(X_train, y_train)\n",
    "rf.score(X_test, y_test)"
   ]
  },
  {
   "cell_type": "code",
   "execution_count": 67,
   "metadata": {},
   "outputs": [
    {
     "data": {
      "text/plain": [
       "array([[23524,   276,     1],\n",
       "       [  198,   981,     0],\n",
       "       [    7,    13,     0]], dtype=int64)"
      ]
     },
     "execution_count": 67,
     "metadata": {},
     "output_type": "execute_result"
    }
   ],
   "source": [
    "confusion_matrix(y_test, rf.predict(X_test))"
   ]
  },
  {
   "cell_type": "code",
   "execution_count": 268,
   "metadata": {},
   "outputs": [],
   "source": [
    "from sklearn.neighbors import KNeighborsClassifier\n",
    "\n",
    "# https://scikit-learn.org/stable/modules/generated/sklearn.neighbors.KNeighborsClassifier.html#sklearn-neighbors-kneighborsclassifier\n",
    "clf_knn = KNeighborsClassifier(algorithm=\"ball_tree\")\n",
    "clf_knn = clf_knn.fit(X_train, y_train)\n",
    "clf_knn.score(X_test, y_test)"
   ]
  },
  {
   "cell_type": "markdown",
   "metadata": {},
   "source": [
    "### Gradient Boosting"
   ]
  },
  {
   "cell_type": "code",
   "execution_count": 35,
   "metadata": {},
   "outputs": [],
   "source": [
    "# https://scikit-learn.org/stable/modules/generated/sklearn.ensemble.GradientBoostingClassifier.html#sklearn.ensemble.GradientBoostingClassifier\n",
    "from sklearn.ensemble import GradientBoostingClassifier"
   ]
  },
  {
   "cell_type": "code",
   "execution_count": 40,
   "metadata": {},
   "outputs": [
    {
     "data": {
      "text/plain": [
       "0.98076"
      ]
     },
     "execution_count": 40,
     "metadata": {},
     "output_type": "execute_result"
    }
   ],
   "source": [
    "gb = GradientBoostingClassifier(\n",
    "    # n_estimators=10, \n",
    "    # learning_rate=0.0,\n",
    "    # max_depth=1,\n",
    "    # random_state=0\n",
    ")\n",
    "gb.fit(X_train, y_train)\n",
    "gb.score(X_test, y_test)"
   ]
  },
  {
   "cell_type": "code",
   "execution_count": 41,
   "metadata": {},
   "outputs": [
    {
     "data": {
      "text/plain": [
       "array([[23538,   260,     0,     3],\n",
       "       [  185,   981,     0,    13],\n",
       "       [    7,    12,     0,     1],\n",
       "       [    0,     0,     0,     0]], dtype=int64)"
      ]
     },
     "execution_count": 41,
     "metadata": {},
     "output_type": "execute_result"
    }
   ],
   "source": [
    "confusion_matrix(y_test, gb.predict(X_test))"
   ]
  },
  {
   "cell_type": "markdown",
   "metadata": {},
   "source": [
    "### Hyperparameter Boosting"
   ]
  },
  {
   "cell_type": "code",
   "execution_count": 99,
   "metadata": {},
   "outputs": [
    {
     "data": {
      "text/plain": [
       "{'alpha': 1}"
      ]
     },
     "execution_count": 99,
     "metadata": {},
     "output_type": "execute_result"
    }
   ],
   "source": [
    "ridge_cv.best_params_"
   ]
  },
  {
   "cell_type": "markdown",
   "metadata": {},
   "source": [
    "## Visualisation"
   ]
  },
  {
   "cell_type": "code",
   "execution_count": 71,
   "metadata": {},
   "outputs": [
    {
     "data": {
      "text/plain": [
       "[array([0.98186667, 0.984     , 0.98173333, 0.98306667, 0.98293333,\n",
       "        0.98053333, 0.98066667, 0.9804    , 0.98373333, 0.98173333]),\n",
       " array([0.98106667, 0.9812    , 0.97986667, 0.9816    , 0.98213333,\n",
       "        0.97826667, 0.97853333, 0.97813333, 0.9824    , 0.98      ]),\n",
       " array([0.98146667, 0.9828    , 0.98133333, 0.98266667, 0.98133333,\n",
       "        0.97933333, 0.97986667, 0.97986667, 0.984     , 0.98053333])]"
      ]
     },
     "execution_count": 71,
     "metadata": {},
     "output_type": "execute_result"
    }
   ],
   "source": [
    "# https://campus.datacamp.com/courses/supervised-learning-with-scikit-learn/preprocessing-and-pipelines-4?ex=14\n"
   ]
  },
  {
   "cell_type": "markdown",
   "metadata": {},
   "source": [
    "### Ensemble methods"
   ]
  },
  {
   "cell_type": "code",
   "execution_count": 77,
   "metadata": {},
   "outputs": [
    {
     "data": {
      "text/plain": [
       "0.97872"
      ]
     },
     "execution_count": 77,
     "metadata": {},
     "output_type": "execute_result"
    }
   ],
   "source": [
    "from sklearn.ensemble import AdaBoostClassifier\n",
    "abc = AdaBoostClassifier(estimator=RidgeClassifier(), algorithm=\"SAMME\", n_estimators=100)\n",
    "abc.fit(X_train, y_train)\n",
    "abc.score(X_test, y_test)"
   ]
  },
  {
   "cell_type": "code",
   "execution_count": 78,
   "metadata": {},
   "outputs": [
    {
     "data": {
      "text/plain": [
       "0.97988"
      ]
     },
     "execution_count": 78,
     "metadata": {},
     "output_type": "execute_result"
    }
   ],
   "source": [
    "from sklearn.ensemble import BaggingClassifier\n",
    "bc = BaggingClassifier()\n",
    "bc.fit(X_train, y_train)\n",
    "bc.score(X_test, y_test)"
   ]
  },
  {
   "cell_type": "code",
   "execution_count": 80,
   "metadata": {},
   "outputs": [
    {
     "data": {
      "text/plain": [
       "0.98128"
      ]
     },
     "execution_count": 80,
     "metadata": {},
     "output_type": "execute_result"
    }
   ],
   "source": [
    "from sklearn.ensemble import VotingClassifier\n",
    "estimators = [\n",
    "    ('ridge', RidgeClassifier()),\n",
    "    ('bernoulli', BernoulliNB()), \n",
    "    ('tree', DecisionTreeClassifier())\n",
    "]\n",
    "\n",
    "vc = VotingClassifier(estimators=estimators, voting=\"hard\")\n",
    "vc.fit(X_train, y_train)\n",
    "vc.score(X_test, y_test)"
   ]
  },
  {
   "cell_type": "code",
   "execution_count": 81,
   "metadata": {},
   "outputs": [
    {
     "data": {
      "text/plain": [
       "array([[23541,   260,     0],\n",
       "       [  188,   991,     0],\n",
       "       [    7,    13,     0]], dtype=int64)"
      ]
     },
     "execution_count": 81,
     "metadata": {},
     "output_type": "execute_result"
    }
   ],
   "source": [
    "confusion_matrix(y_test, vc.predict(X_test))"
   ]
  },
  {
   "cell_type": "code",
   "execution_count": 33,
   "metadata": {},
   "outputs": [
    {
     "name": "stderr",
     "output_type": "stream",
     "text": [
      "c:\\Users\\hauke\\AppData\\Local\\Programs\\Python\\Python311\\Lib\\site-packages\\sklearn\\model_selection\\_split.py:725: UserWarning: The least populated class in y has only 1 members, which is less than n_splits=5.\n",
      "  warnings.warn(\n",
      "c:\\Users\\hauke\\AppData\\Local\\Programs\\Python\\Python311\\Lib\\site-packages\\sklearn\\model_selection\\_validation.py:1166: RuntimeWarning: Number of classes in training fold (12) does not match total number of classes (13). Results may not be appropriate for your use case. To fix this, use a cross-validation technique resulting in properly stratified folds\n",
      "  warnings.warn(\n",
      "c:\\Users\\hauke\\AppData\\Local\\Programs\\Python\\Python311\\Lib\\site-packages\\sklearn\\model_selection\\_validation.py:1166: RuntimeWarning: Number of classes in training fold (12) does not match total number of classes (13). Results may not be appropriate for your use case. To fix this, use a cross-validation technique resulting in properly stratified folds\n",
      "  warnings.warn(\n",
      "c:\\Users\\hauke\\AppData\\Local\\Programs\\Python\\Python311\\Lib\\site-packages\\sklearn\\model_selection\\_validation.py:1166: RuntimeWarning: Number of classes in training fold (12) does not match total number of classes (13). Results may not be appropriate for your use case. To fix this, use a cross-validation technique resulting in properly stratified folds\n",
      "  warnings.warn(\n",
      "c:\\Users\\hauke\\AppData\\Local\\Programs\\Python\\Python311\\Lib\\site-packages\\sklearn\\model_selection\\_split.py:725: UserWarning: The least populated class in y has only 1 members, which is less than n_splits=5.\n",
      "  warnings.warn(\n",
      "c:\\Users\\hauke\\AppData\\Local\\Programs\\Python\\Python311\\Lib\\site-packages\\sklearn\\model_selection\\_validation.py:1166: RuntimeWarning: Number of classes in training fold (12) does not match total number of classes (13). Results may not be appropriate for your use case. To fix this, use a cross-validation technique resulting in properly stratified folds\n",
      "  warnings.warn(\n",
      "c:\\Users\\hauke\\AppData\\Local\\Programs\\Python\\Python311\\Lib\\site-packages\\sklearn\\model_selection\\_validation.py:1166: RuntimeWarning: Number of classes in training fold (12) does not match total number of classes (13). Results may not be appropriate for your use case. To fix this, use a cross-validation technique resulting in properly stratified folds\n",
      "  warnings.warn(\n",
      "c:\\Users\\hauke\\AppData\\Local\\Programs\\Python\\Python311\\Lib\\site-packages\\sklearn\\model_selection\\_validation.py:1166: RuntimeWarning: Number of classes in training fold (12) does not match total number of classes (13). Results may not be appropriate for your use case. To fix this, use a cross-validation technique resulting in properly stratified folds\n",
      "  warnings.warn(\n",
      "c:\\Users\\hauke\\AppData\\Local\\Programs\\Python\\Python311\\Lib\\site-packages\\sklearn\\linear_model\\_logistic.py:460: ConvergenceWarning: lbfgs failed to converge (status=1):\n",
      "STOP: TOTAL NO. of ITERATIONS REACHED LIMIT.\n",
      "\n",
      "Increase the number of iterations (max_iter) or scale the data as shown in:\n",
      "    https://scikit-learn.org/stable/modules/preprocessing.html\n",
      "Please also refer to the documentation for alternative solver options:\n",
      "    https://scikit-learn.org/stable/modules/linear_model.html#logistic-regression\n",
      "  n_iter_i = _check_optimize_result(\n"
     ]
    },
    {
     "data": {
      "text/plain": [
       "0.71872"
      ]
     },
     "execution_count": 33,
     "metadata": {},
     "output_type": "execute_result"
    }
   ],
   "source": [
    "from sklearn.linear_model import LogisticRegression\n",
    "from sklearn.ensemble import StackingClassifier\n",
    "\n",
    "# # Prepare the list of tuples with the first-layer classifiers\n",
    "\n",
    "\n",
    "clf_ridge = RidgeClassifier()\n",
    "clf_rfc = RandomForestClassifier(n_estimators=10)\n",
    "clf_dct = DecisionTreeClassifier(\n",
    "    min_samples_leaf=3, min_samples_split=9, random_state=500\n",
    ")\n",
    "\n",
    "classifiers = [clf_ridge, clf_rfc, clf_dct]\n",
    "\n",
    "estimators = [\n",
    "    # ('ridge', RidgeClassifier()),\n",
    "    (\"random_forest\", RandomForestClassifier(n_estimators=10)),\n",
    "    (\n",
    "        \"decision_tree\",\n",
    "        DecisionTreeClassifier(\n",
    "            min_samples_leaf=3, min_samples_split=9, random_state=500\n",
    "        ),\n",
    "    ),\n",
    "]\n",
    "\n",
    "# Instantiate the second-layer meta estimator\n",
    "clf_meta = LogisticRegression()\n",
    "# https://scikit-learn.org/stable/modules/generated/sklearn.linear_model.LogisticRegression.html#sklearn.linear_model.LogisticRegression\n",
    "\n",
    "# Build the stacking classifier\n",
    "# https://scikit-learn.org/stable/modules/generated/sklearn.ensemble.StackingClassifier.html#sklearn-ensemble-stackingclassifier\n",
    "clf_stack = StackingClassifier(\n",
    "    estimators=estimators,\n",
    "    final_estimator=clf_meta,\n",
    "    # stack_method='predict_proba',\n",
    "    passthrough=False,\n",
    ")\n",
    "\n",
    "\n",
    "clf_stack.fit(X_train, y_train)\n",
    "clf_stack.score(X_test, y_test)"
   ]
  }
 ],
 "metadata": {
  "kernelspec": {
   "display_name": "Python 3",
   "language": "python",
   "name": "python3"
  },
  "language_info": {
   "codemirror_mode": {
    "name": "ipython",
    "version": 3
   },
   "file_extension": ".py",
   "mimetype": "text/x-python",
   "name": "python",
   "nbconvert_exporter": "python",
   "pygments_lexer": "ipython3",
   "version": "3.11.3"
  },
  "orig_nbformat": 4
 },
 "nbformat": 4,
 "nbformat_minor": 2
}
